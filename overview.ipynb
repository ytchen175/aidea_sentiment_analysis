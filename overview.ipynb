{
 "metadata": {
  "language_info": {
   "codemirror_mode": {
    "name": "ipython",
    "version": 3
   },
   "file_extension": ".py",
   "mimetype": "text/x-python",
   "name": "python",
   "nbconvert_exporter": "python",
   "pygments_lexer": "ipython3",
   "version": "3.7.7-final"
  },
  "orig_nbformat": 2,
  "kernelspec": {
   "name": "python3",
   "display_name": "Python 3.7.7 64-bit (conda)"
  },
  "metadata": {
   "interpreter": {
    "hash": "31f2aee4e71d21fbe5cf8b01ff0e069b9275f58929596ceb00d14d90e3e16cd6"
   }
  },
  "interpreter": {
   "hash": "3c84169c252046d68be38767ceb1d1cded7527f12c8fb473cc06953c6ceba7bd"
  }
 },
 "nbformat": 4,
 "nbformat_minor": 2,
 "cells": [
  {
   "cell_type": "code",
   "execution_count": 1,
   "metadata": {},
   "outputs": [],
   "source": [
    "import numpy as np\n",
    "import pandas as pd"
   ]
  },
  {
   "cell_type": "code",
   "execution_count": 2,
   "metadata": {},
   "outputs": [
    {
     "output_type": "execute_result",
     "data": {
      "text/plain": [
       "          ID                                             review  sentiment\n",
       "0      41411  I watched this film because I'm a big fan of R...          0\n",
       "1      37586  It does not seem that this movie managed to pl...          1\n",
       "2       6017        Enough is not a bad movie , just mediocre .          0\n",
       "3      44656  my friend and i rented this one a few nights a...          0\n",
       "4      38711  Just about everything in this movie is wrong, ...          0\n",
       "...      ...                                                ...        ...\n",
       "29336   8019  It 's one of the most honest films ever made a...          1\n",
       "29337    453  An absorbing and unsettling psychological drama .          1\n",
       "29338  13097  Soylent Green IS...a really good movie, actual...          1\n",
       "29339  26896  There just isn't enough here. There a few funn...          0\n",
       "29340  27094  This show was absolutely terrible. For one Geo...          0\n",
       "\n",
       "[29341 rows x 3 columns]"
      ],
      "text/html": "<div>\n<style scoped>\n    .dataframe tbody tr th:only-of-type {\n        vertical-align: middle;\n    }\n\n    .dataframe tbody tr th {\n        vertical-align: top;\n    }\n\n    .dataframe thead th {\n        text-align: right;\n    }\n</style>\n<table border=\"1\" class=\"dataframe\">\n  <thead>\n    <tr style=\"text-align: right;\">\n      <th></th>\n      <th>ID</th>\n      <th>review</th>\n      <th>sentiment</th>\n    </tr>\n  </thead>\n  <tbody>\n    <tr>\n      <th>0</th>\n      <td>41411</td>\n      <td>I watched this film because I'm a big fan of R...</td>\n      <td>0</td>\n    </tr>\n    <tr>\n      <th>1</th>\n      <td>37586</td>\n      <td>It does not seem that this movie managed to pl...</td>\n      <td>1</td>\n    </tr>\n    <tr>\n      <th>2</th>\n      <td>6017</td>\n      <td>Enough is not a bad movie , just mediocre .</td>\n      <td>0</td>\n    </tr>\n    <tr>\n      <th>3</th>\n      <td>44656</td>\n      <td>my friend and i rented this one a few nights a...</td>\n      <td>0</td>\n    </tr>\n    <tr>\n      <th>4</th>\n      <td>38711</td>\n      <td>Just about everything in this movie is wrong, ...</td>\n      <td>0</td>\n    </tr>\n    <tr>\n      <th>...</th>\n      <td>...</td>\n      <td>...</td>\n      <td>...</td>\n    </tr>\n    <tr>\n      <th>29336</th>\n      <td>8019</td>\n      <td>It 's one of the most honest films ever made a...</td>\n      <td>1</td>\n    </tr>\n    <tr>\n      <th>29337</th>\n      <td>453</td>\n      <td>An absorbing and unsettling psychological drama .</td>\n      <td>1</td>\n    </tr>\n    <tr>\n      <th>29338</th>\n      <td>13097</td>\n      <td>Soylent Green IS...a really good movie, actual...</td>\n      <td>1</td>\n    </tr>\n    <tr>\n      <th>29339</th>\n      <td>26896</td>\n      <td>There just isn't enough here. There a few funn...</td>\n      <td>0</td>\n    </tr>\n    <tr>\n      <th>29340</th>\n      <td>27094</td>\n      <td>This show was absolutely terrible. For one Geo...</td>\n      <td>0</td>\n    </tr>\n  </tbody>\n</table>\n<p>29341 rows × 3 columns</p>\n</div>"
     },
     "metadata": {},
     "execution_count": 2
    }
   ],
   "source": [
    "train_df = pd.read_csv('./data/train.csv')\n",
    "test_df = pd.read_csv('./data/test.csv')\n",
    "sample_df = pd.read_csv('./data/sample_submission.csv')"
   ]
  },
  {
   "cell_type": "code",
   "execution_count": 3,
   "metadata": {},
   "outputs": [
    {
     "output_type": "execute_result",
     "data": {
      "text/plain": [
       "          ID                                             review  sentiment\n",
       "0      41411  I watched this film because I'm a big fan of R...          0\n",
       "1      37586  It does not seem that this movie managed to pl...          1\n",
       "2       6017        Enough is not a bad movie , just mediocre .          0\n",
       "3      44656  my friend and i rented this one a few nights a...          0\n",
       "4      38711  Just about everything in this movie is wrong, ...          0\n",
       "...      ...                                                ...        ...\n",
       "29336   8019  It 's one of the most honest films ever made a...          1\n",
       "29337    453  An absorbing and unsettling psychological drama .          1\n",
       "29338  13097  Soylent Green IS...a really good movie, actual...          1\n",
       "29339  26896  There just isn't enough here. There a few funn...          0\n",
       "29340  27094  This show was absolutely terrible. For one Geo...          0\n",
       "\n",
       "[29341 rows x 3 columns]"
      ],
      "text/html": "<div>\n<style scoped>\n    .dataframe tbody tr th:only-of-type {\n        vertical-align: middle;\n    }\n\n    .dataframe tbody tr th {\n        vertical-align: top;\n    }\n\n    .dataframe thead th {\n        text-align: right;\n    }\n</style>\n<table border=\"1\" class=\"dataframe\">\n  <thead>\n    <tr style=\"text-align: right;\">\n      <th></th>\n      <th>ID</th>\n      <th>review</th>\n      <th>sentiment</th>\n    </tr>\n  </thead>\n  <tbody>\n    <tr>\n      <th>0</th>\n      <td>41411</td>\n      <td>I watched this film because I'm a big fan of R...</td>\n      <td>0</td>\n    </tr>\n    <tr>\n      <th>1</th>\n      <td>37586</td>\n      <td>It does not seem that this movie managed to pl...</td>\n      <td>1</td>\n    </tr>\n    <tr>\n      <th>2</th>\n      <td>6017</td>\n      <td>Enough is not a bad movie , just mediocre .</td>\n      <td>0</td>\n    </tr>\n    <tr>\n      <th>3</th>\n      <td>44656</td>\n      <td>my friend and i rented this one a few nights a...</td>\n      <td>0</td>\n    </tr>\n    <tr>\n      <th>4</th>\n      <td>38711</td>\n      <td>Just about everything in this movie is wrong, ...</td>\n      <td>0</td>\n    </tr>\n    <tr>\n      <th>...</th>\n      <td>...</td>\n      <td>...</td>\n      <td>...</td>\n    </tr>\n    <tr>\n      <th>29336</th>\n      <td>8019</td>\n      <td>It 's one of the most honest films ever made a...</td>\n      <td>1</td>\n    </tr>\n    <tr>\n      <th>29337</th>\n      <td>453</td>\n      <td>An absorbing and unsettling psychological drama .</td>\n      <td>1</td>\n    </tr>\n    <tr>\n      <th>29338</th>\n      <td>13097</td>\n      <td>Soylent Green IS...a really good movie, actual...</td>\n      <td>1</td>\n    </tr>\n    <tr>\n      <th>29339</th>\n      <td>26896</td>\n      <td>There just isn't enough here. There a few funn...</td>\n      <td>0</td>\n    </tr>\n    <tr>\n      <th>29340</th>\n      <td>27094</td>\n      <td>This show was absolutely terrible. For one Geo...</td>\n      <td>0</td>\n    </tr>\n  </tbody>\n</table>\n<p>29341 rows × 3 columns</p>\n</div>"
     },
     "metadata": {},
     "execution_count": 3
    }
   ],
   "source": [
    "train_df"
   ]
  },
  {
   "cell_type": "code",
   "execution_count": 4,
   "metadata": {},
   "outputs": [
    {
     "output_type": "execute_result",
     "data": {
      "text/plain": [
       "                 ID     sentiment\n",
       "count  29341.000000  29341.000000\n",
       "mean   29348.411097      0.509662\n",
       "std    17002.074346      0.499915\n",
       "min        4.000000      0.000000\n",
       "25%    14564.000000      0.000000\n",
       "50%    29348.000000      1.000000\n",
       "75%    44162.000000      1.000000\n",
       "max    58681.000000      1.000000"
      ],
      "text/html": "<div>\n<style scoped>\n    .dataframe tbody tr th:only-of-type {\n        vertical-align: middle;\n    }\n\n    .dataframe tbody tr th {\n        vertical-align: top;\n    }\n\n    .dataframe thead th {\n        text-align: right;\n    }\n</style>\n<table border=\"1\" class=\"dataframe\">\n  <thead>\n    <tr style=\"text-align: right;\">\n      <th></th>\n      <th>ID</th>\n      <th>sentiment</th>\n    </tr>\n  </thead>\n  <tbody>\n    <tr>\n      <th>count</th>\n      <td>29341.000000</td>\n      <td>29341.000000</td>\n    </tr>\n    <tr>\n      <th>mean</th>\n      <td>29348.411097</td>\n      <td>0.509662</td>\n    </tr>\n    <tr>\n      <th>std</th>\n      <td>17002.074346</td>\n      <td>0.499915</td>\n    </tr>\n    <tr>\n      <th>min</th>\n      <td>4.000000</td>\n      <td>0.000000</td>\n    </tr>\n    <tr>\n      <th>25%</th>\n      <td>14564.000000</td>\n      <td>0.000000</td>\n    </tr>\n    <tr>\n      <th>50%</th>\n      <td>29348.000000</td>\n      <td>1.000000</td>\n    </tr>\n    <tr>\n      <th>75%</th>\n      <td>44162.000000</td>\n      <td>1.000000</td>\n    </tr>\n    <tr>\n      <th>max</th>\n      <td>58681.000000</td>\n      <td>1.000000</td>\n    </tr>\n  </tbody>\n</table>\n</div>"
     },
     "metadata": {},
     "execution_count": 4
    }
   ],
   "source": [
    "train_df.describe()"
   ]
  },
  {
   "cell_type": "code",
   "execution_count": 5,
   "metadata": {},
   "outputs": [
    {
     "output_type": "stream",
     "name": "stdout",
     "text": [
      "<class 'pandas.core.frame.DataFrame'>\nRangeIndex: 29341 entries, 0 to 29340\nData columns (total 3 columns):\n #   Column     Non-Null Count  Dtype \n---  ------     --------------  ----- \n 0   ID         29341 non-null  int64 \n 1   review     29341 non-null  object\n 2   sentiment  29341 non-null  int64 \ndtypes: int64(2), object(1)\nmemory usage: 687.8+ KB\n"
     ]
    }
   ],
   "source": [
    "train_df.info()"
   ]
  },
  {
   "cell_type": "code",
   "execution_count": 6,
   "metadata": {},
   "outputs": [
    {
     "output_type": "execute_result",
     "data": {
      "text/plain": [
       "          ID                                             review\n",
       "0      22622  Robert Lansing plays a scientist experimenting...\n",
       "1      10162  Well I've enjoy this movie, even though someti...\n",
       "2      17468  First things first - though I believe Joel Sch...\n",
       "3      42579  I watched this movie on the grounds that Amber...\n",
       "4        701  A certain sexiness underlines even the dullest...\n",
       "...      ...                                                ...\n",
       "29336  30370  It is difficult to rate a writer/director's fi...\n",
       "29337  18654  After watching this movie once, it quickly bec...\n",
       "29338  47985  Even though i sat and watched the whole thing,...\n",
       "29339   9866  Warning Spoilers following. Superb recreation ...\n",
       "29340  35559  My, my, my: Peter Cushing and Donald Pleasance...\n",
       "\n",
       "[29341 rows x 2 columns]"
      ],
      "text/html": "<div>\n<style scoped>\n    .dataframe tbody tr th:only-of-type {\n        vertical-align: middle;\n    }\n\n    .dataframe tbody tr th {\n        vertical-align: top;\n    }\n\n    .dataframe thead th {\n        text-align: right;\n    }\n</style>\n<table border=\"1\" class=\"dataframe\">\n  <thead>\n    <tr style=\"text-align: right;\">\n      <th></th>\n      <th>ID</th>\n      <th>review</th>\n    </tr>\n  </thead>\n  <tbody>\n    <tr>\n      <th>0</th>\n      <td>22622</td>\n      <td>Robert Lansing plays a scientist experimenting...</td>\n    </tr>\n    <tr>\n      <th>1</th>\n      <td>10162</td>\n      <td>Well I've enjoy this movie, even though someti...</td>\n    </tr>\n    <tr>\n      <th>2</th>\n      <td>17468</td>\n      <td>First things first - though I believe Joel Sch...</td>\n    </tr>\n    <tr>\n      <th>3</th>\n      <td>42579</td>\n      <td>I watched this movie on the grounds that Amber...</td>\n    </tr>\n    <tr>\n      <th>4</th>\n      <td>701</td>\n      <td>A certain sexiness underlines even the dullest...</td>\n    </tr>\n    <tr>\n      <th>...</th>\n      <td>...</td>\n      <td>...</td>\n    </tr>\n    <tr>\n      <th>29336</th>\n      <td>30370</td>\n      <td>It is difficult to rate a writer/director's fi...</td>\n    </tr>\n    <tr>\n      <th>29337</th>\n      <td>18654</td>\n      <td>After watching this movie once, it quickly bec...</td>\n    </tr>\n    <tr>\n      <th>29338</th>\n      <td>47985</td>\n      <td>Even though i sat and watched the whole thing,...</td>\n    </tr>\n    <tr>\n      <th>29339</th>\n      <td>9866</td>\n      <td>Warning Spoilers following. Superb recreation ...</td>\n    </tr>\n    <tr>\n      <th>29340</th>\n      <td>35559</td>\n      <td>My, my, my: Peter Cushing and Donald Pleasance...</td>\n    </tr>\n  </tbody>\n</table>\n<p>29341 rows × 2 columns</p>\n</div>"
     },
     "metadata": {},
     "execution_count": 6
    }
   ],
   "source": [
    "test_df"
   ]
  },
  {
   "cell_type": "code",
   "execution_count": 7,
   "metadata": {},
   "outputs": [
    {
     "output_type": "execute_result",
     "data": {
      "text/plain": [
       "                 ID\n",
       "count  29341.000000\n",
       "mean   29332.588903\n",
       "std    16878.341879\n",
       "min        0.000000\n",
       "25%    14759.000000\n",
       "50%    29332.000000\n",
       "75%    43859.000000\n",
       "max    58679.000000"
      ],
      "text/html": "<div>\n<style scoped>\n    .dataframe tbody tr th:only-of-type {\n        vertical-align: middle;\n    }\n\n    .dataframe tbody tr th {\n        vertical-align: top;\n    }\n\n    .dataframe thead th {\n        text-align: right;\n    }\n</style>\n<table border=\"1\" class=\"dataframe\">\n  <thead>\n    <tr style=\"text-align: right;\">\n      <th></th>\n      <th>ID</th>\n    </tr>\n  </thead>\n  <tbody>\n    <tr>\n      <th>count</th>\n      <td>29341.000000</td>\n    </tr>\n    <tr>\n      <th>mean</th>\n      <td>29332.588903</td>\n    </tr>\n    <tr>\n      <th>std</th>\n      <td>16878.341879</td>\n    </tr>\n    <tr>\n      <th>min</th>\n      <td>0.000000</td>\n    </tr>\n    <tr>\n      <th>25%</th>\n      <td>14759.000000</td>\n    </tr>\n    <tr>\n      <th>50%</th>\n      <td>29332.000000</td>\n    </tr>\n    <tr>\n      <th>75%</th>\n      <td>43859.000000</td>\n    </tr>\n    <tr>\n      <th>max</th>\n      <td>58679.000000</td>\n    </tr>\n  </tbody>\n</table>\n</div>"
     },
     "metadata": {},
     "execution_count": 7
    }
   ],
   "source": [
    "test_df.describe()"
   ]
  },
  {
   "cell_type": "code",
   "execution_count": 8,
   "metadata": {},
   "outputs": [
    {
     "output_type": "stream",
     "name": "stdout",
     "text": [
      "<class 'pandas.core.frame.DataFrame'>\nRangeIndex: 29341 entries, 0 to 29340\nData columns (total 2 columns):\n #   Column  Non-Null Count  Dtype \n---  ------  --------------  ----- \n 0   ID      29341 non-null  int64 \n 1   review  29341 non-null  object\ndtypes: int64(1), object(1)\nmemory usage: 458.6+ KB\n"
     ]
    }
   ],
   "source": [
    "test_df.info()"
   ]
  },
  {
   "cell_type": "code",
   "execution_count": 9,
   "metadata": {},
   "outputs": [
    {
     "output_type": "execute_result",
     "data": {
      "text/plain": [
       "          ID  sentiment\n",
       "0      22622          1\n",
       "1      10162          1\n",
       "2      17468          1\n",
       "3      42579          1\n",
       "4        701          1\n",
       "...      ...        ...\n",
       "29336  30370          1\n",
       "29337  18654          1\n",
       "29338  47985          1\n",
       "29339   9866          1\n",
       "29340  35559          1\n",
       "\n",
       "[29341 rows x 2 columns]"
      ],
      "text/html": "<div>\n<style scoped>\n    .dataframe tbody tr th:only-of-type {\n        vertical-align: middle;\n    }\n\n    .dataframe tbody tr th {\n        vertical-align: top;\n    }\n\n    .dataframe thead th {\n        text-align: right;\n    }\n</style>\n<table border=\"1\" class=\"dataframe\">\n  <thead>\n    <tr style=\"text-align: right;\">\n      <th></th>\n      <th>ID</th>\n      <th>sentiment</th>\n    </tr>\n  </thead>\n  <tbody>\n    <tr>\n      <th>0</th>\n      <td>22622</td>\n      <td>1</td>\n    </tr>\n    <tr>\n      <th>1</th>\n      <td>10162</td>\n      <td>1</td>\n    </tr>\n    <tr>\n      <th>2</th>\n      <td>17468</td>\n      <td>1</td>\n    </tr>\n    <tr>\n      <th>3</th>\n      <td>42579</td>\n      <td>1</td>\n    </tr>\n    <tr>\n      <th>4</th>\n      <td>701</td>\n      <td>1</td>\n    </tr>\n    <tr>\n      <th>...</th>\n      <td>...</td>\n      <td>...</td>\n    </tr>\n    <tr>\n      <th>29336</th>\n      <td>30370</td>\n      <td>1</td>\n    </tr>\n    <tr>\n      <th>29337</th>\n      <td>18654</td>\n      <td>1</td>\n    </tr>\n    <tr>\n      <th>29338</th>\n      <td>47985</td>\n      <td>1</td>\n    </tr>\n    <tr>\n      <th>29339</th>\n      <td>9866</td>\n      <td>1</td>\n    </tr>\n    <tr>\n      <th>29340</th>\n      <td>35559</td>\n      <td>1</td>\n    </tr>\n  </tbody>\n</table>\n<p>29341 rows × 2 columns</p>\n</div>"
     },
     "metadata": {},
     "execution_count": 9
    }
   ],
   "source": [
    "sample_df"
   ]
  },
  {
   "cell_type": "code",
   "execution_count": null,
   "metadata": {},
   "outputs": [],
   "source": []
  },
  {
   "cell_type": "code",
   "execution_count": null,
   "metadata": {},
   "outputs": [],
   "source": []
  },
  {
   "cell_type": "code",
   "execution_count": null,
   "metadata": {},
   "outputs": [],
   "source": []
  },
  {
   "cell_type": "code",
   "execution_count": null,
   "metadata": {},
   "outputs": [],
   "source": []
  },
  {
   "cell_type": "code",
   "execution_count": null,
   "metadata": {},
   "outputs": [],
   "source": []
  }
 ]
}