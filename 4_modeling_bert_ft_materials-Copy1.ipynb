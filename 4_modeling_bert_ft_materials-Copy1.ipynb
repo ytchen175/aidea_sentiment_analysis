{
 "cells": [
  {
   "cell_type": "code",
   "execution_count": 1,
   "metadata": {
    "colab": {
     "base_uri": "https://localhost:8080/"
    },
    "executionInfo": {
     "elapsed": 6260,
     "status": "ok",
     "timestamp": 1628474039292,
     "user": {
      "displayName": "Yu-Tung Chen",
      "photoUrl": "https://lh3.googleusercontent.com/a-/AOh14GiMuaKuz0WgIC-aXhdtrN4d2i2TMTmbVjp77aV9Yg=s64",
      "userId": "08519592307753464104"
     },
     "user_tz": -480
    },
    "id": "UVqhJRovU3kb",
    "outputId": "35aaca15-5e0a-476c-984a-6c75fa28a95e"
   },
   "outputs": [
    {
     "data": {
      "text/plain": [
       "device(type='cuda', index=0)"
      ]
     },
     "execution_count": 1,
     "metadata": {},
     "output_type": "execute_result"
    }
   ],
   "source": [
    "import transformers\n",
    "from transformers import BertModel, BertTokenizer, AdamW, get_linear_schedule_with_warmup\n",
    "import torch\n",
    "from sklearn.model_selection import train_test_split \n",
    "\n",
    "import numpy as np\n",
    "import pandas as pd\n",
    "from tqdm import tqdm \n",
    "from pylab import rcParams\n",
    "import matplotlib.pyplot as plt\n",
    "from matplotlib import rc\n",
    "from tqdm.auto import tqdm\n",
    "\n",
    "from torch import nn, optim\n",
    "from torch.utils.data import Dataset, DataLoader\n",
    "import torch.nn.functional as F\n",
    "\n",
    "from transformers import BertConfig, BertForSequenceClassification\n",
    "from transformers import AdamW, get_linear_schedule_with_warmup\n",
    "\n",
    "%matplotlib inline\n",
    "\n",
    "rcParams['figure.figsize'] = 12, 8\n",
    "\n",
    "RANDOM_SEED = 42\n",
    "np.random.seed(RANDOM_SEED)\n",
    "torch.manual_seed(RANDOM_SEED)\n",
    "\n",
    "device = torch.device(\"cuda:0\" if torch.cuda.is_available() else \"cpu\")\n",
    "device"
   ]
  },
  {
   "cell_type": "code",
   "execution_count": 2,
   "metadata": {
    "colab": {
     "base_uri": "https://localhost:8080/"
    },
    "executionInfo": {
     "elapsed": 14,
     "status": "ok",
     "timestamp": 1628474039294,
     "user": {
      "displayName": "Yu-Tung Chen",
      "photoUrl": "https://lh3.googleusercontent.com/a-/AOh14GiMuaKuz0WgIC-aXhdtrN4d2i2TMTmbVjp77aV9Yg=s64",
      "userId": "08519592307753464104"
     },
     "user_tz": -480
    },
    "id": "e0bAI57CUMGd",
    "outputId": "29afd432-b788-4961-c3b1-f32410d2da1f"
   },
   "outputs": [
    {
     "name": "stdout",
     "output_type": "stream",
     "text": [
      "Wed Aug 11 10:24:54 2021       \r\n",
      "+-----------------------------------------------------------------------------+\r\n",
      "| NVIDIA-SMI 450.51.06    Driver Version: 450.51.06    CUDA Version: 11.0     |\r\n",
      "|-------------------------------+----------------------+----------------------+\r\n",
      "| GPU  Name        Persistence-M| Bus-Id        Disp.A | Volatile Uncorr. ECC |\r\n",
      "| Fan  Temp  Perf  Pwr:Usage/Cap|         Memory-Usage | GPU-Util  Compute M. |\r\n",
      "|                               |                      |               MIG M. |\r\n",
      "|===============================+======================+======================|\r\n",
      "|   0  GeForce GTX 108...  Off  | 00000000:17:00.0 Off |                  N/A |\r\n",
      "|  0%   42C    P8    13W / 280W |   1701MiB / 11178MiB |      0%      Default |\r\n",
      "|                               |                      |                  N/A |\r\n",
      "+-------------------------------+----------------------+----------------------+\r\n",
      "|   1  GeForce GTX 108...  Off  | 00000000:65:00.0 Off |                  N/A |\r\n",
      "|  0%   42C    P8    16W / 280W |      2MiB / 11178MiB |      0%      Default |\r\n",
      "|                               |                      |                  N/A |\r\n",
      "+-------------------------------+----------------------+----------------------+\r\n",
      "                                                                               \r\n",
      "+-----------------------------------------------------------------------------+\r\n",
      "| Processes:                                                                  |\r\n",
      "|  GPU   GI   CI        PID   Type   Process name                  GPU Memory |\r\n",
      "|        ID   ID                                                   Usage      |\r\n",
      "|=============================================================================|\r\n",
      "|    0   N/A  N/A     53747      C   /usr/bin/python3                 1699MiB |\r\n",
      "+-----------------------------------------------------------------------------+\r\n"
     ]
    }
   ],
   "source": [
    "!nvidia-smi"
   ]
  },
  {
   "cell_type": "code",
   "execution_count": 3,
   "metadata": {},
   "outputs": [],
   "source": [
    "exp_name = 'lr_1e_3'"
   ]
  },
  {
   "cell_type": "code",
   "execution_count": 4,
   "metadata": {
    "executionInfo": {
     "elapsed": 7557,
     "status": "ok",
     "timestamp": 1628474047260,
     "user": {
      "displayName": "Yu-Tung Chen",
      "photoUrl": "https://lh3.googleusercontent.com/a-/AOh14GiMuaKuz0WgIC-aXhdtrN4d2i2TMTmbVjp77aV9Yg=s64",
      "userId": "08519592307753464104"
     },
     "user_tz": -480
    },
    "id": "AaNQYA8ZV6wT"
   },
   "outputs": [],
   "source": [
    "# path = '/content/drive/MyDrive/aidea_sentiment_analysis'\n",
    "path = '.'\n",
    "\n",
    "imdb_data = pd.read_csv(f'{path}/data/processed_train.csv')\n",
    "imdb_test_data = pd.read_csv(f'{path}/data/processed_test.csv')\n",
    "\n",
    "# materials = pd.read_csv(f'{path}/materials/processed_IMDB_Dataset.csv')\n",
    "materials = pd.read_csv(f'{path}/materials/processed_IMDB_Dataset_raw.csv')"
   ]
  },
  {
   "cell_type": "code",
   "execution_count": 5,
   "metadata": {
    "colab": {
     "base_uri": "https://localhost:8080/",
     "height": 419
    },
    "executionInfo": {
     "elapsed": 438,
     "status": "ok",
     "timestamp": 1628474047694,
     "user": {
      "displayName": "Yu-Tung Chen",
      "photoUrl": "https://lh3.googleusercontent.com/a-/AOh14GiMuaKuz0WgIC-aXhdtrN4d2i2TMTmbVjp77aV9Yg=s64",
      "userId": "08519592307753464104"
     },
     "user_tz": -480
    },
    "id": "RQhaQkLMYC4G",
    "outputId": "e26eb236-d645-4f1b-b927-6aa0f70e2e4a"
   },
   "outputs": [
    {
     "data": {
      "text/html": [
       "<div>\n",
       "<style scoped>\n",
       "    .dataframe tbody tr th:only-of-type {\n",
       "        vertical-align: middle;\n",
       "    }\n",
       "\n",
       "    .dataframe tbody tr th {\n",
       "        vertical-align: top;\n",
       "    }\n",
       "\n",
       "    .dataframe thead th {\n",
       "        text-align: right;\n",
       "    }\n",
       "</style>\n",
       "<table border=\"1\" class=\"dataframe\">\n",
       "  <thead>\n",
       "    <tr style=\"text-align: right;\">\n",
       "      <th></th>\n",
       "      <th>ID</th>\n",
       "      <th>review</th>\n",
       "      <th>sentiment</th>\n",
       "      <th>processed_review</th>\n",
       "    </tr>\n",
       "  </thead>\n",
       "  <tbody>\n",
       "    <tr>\n",
       "      <th>0</th>\n",
       "      <td>41411</td>\n",
       "      <td>I watched this film because I'm a big fan of R...</td>\n",
       "      <td>0</td>\n",
       "      <td>watch film m big fan river phoenix joaquin pho...</td>\n",
       "    </tr>\n",
       "    <tr>\n",
       "      <th>1</th>\n",
       "      <td>37586</td>\n",
       "      <td>It does not seem that this movie managed to pl...</td>\n",
       "      <td>1</td>\n",
       "      <td>movie manage lot people see place bump acciden...</td>\n",
       "    </tr>\n",
       "    <tr>\n",
       "      <th>2</th>\n",
       "      <td>6017</td>\n",
       "      <td>Enough is not a bad movie , just mediocre .</td>\n",
       "      <td>0</td>\n",
       "      <td>bad movie mediocre</td>\n",
       "    </tr>\n",
       "    <tr>\n",
       "      <th>3</th>\n",
       "      <td>44656</td>\n",
       "      <td>my friend and i rented this one a few nights a...</td>\n",
       "      <td>0</td>\n",
       "      <td>friend rent night ago single good movie see me...</td>\n",
       "    </tr>\n",
       "    <tr>\n",
       "      <th>4</th>\n",
       "      <td>38711</td>\n",
       "      <td>Just about everything in this movie is wrong, ...</td>\n",
       "      <td>0</td>\n",
       "      <td>movie wrong wrong wrong mike myers example s r...</td>\n",
       "    </tr>\n",
       "    <tr>\n",
       "      <th>...</th>\n",
       "      <td>...</td>\n",
       "      <td>...</td>\n",
       "      <td>...</td>\n",
       "      <td>...</td>\n",
       "    </tr>\n",
       "    <tr>\n",
       "      <th>29336</th>\n",
       "      <td>8019</td>\n",
       "      <td>It 's one of the most honest films ever made a...</td>\n",
       "      <td>1</td>\n",
       "      <td>s honest film hollywood</td>\n",
       "    </tr>\n",
       "    <tr>\n",
       "      <th>29337</th>\n",
       "      <td>453</td>\n",
       "      <td>An absorbing and unsettling psychological drama .</td>\n",
       "      <td>1</td>\n",
       "      <td>absorb unsettling psychological drama</td>\n",
       "    </tr>\n",
       "    <tr>\n",
       "      <th>29338</th>\n",
       "      <td>13097</td>\n",
       "      <td>Soylent Green IS...a really good movie, actual...</td>\n",
       "      <td>1</td>\n",
       "      <td>soylent green good movie actually ve think don...</td>\n",
       "    </tr>\n",
       "    <tr>\n",
       "      <th>29339</th>\n",
       "      <td>26896</td>\n",
       "      <td>There just isn't enough here. There a few funn...</td>\n",
       "      <td>0</td>\n",
       "      <td>isn funny spot disappoint love stupid movie ex...</td>\n",
       "    </tr>\n",
       "    <tr>\n",
       "      <th>29340</th>\n",
       "      <td>27094</td>\n",
       "      <td>This show was absolutely terrible. For one Geo...</td>\n",
       "      <td>0</td>\n",
       "      <td>absolutely terrible george isn funny kid snobb...</td>\n",
       "    </tr>\n",
       "  </tbody>\n",
       "</table>\n",
       "<p>29341 rows × 4 columns</p>\n",
       "</div>"
      ],
      "text/plain": [
       "          ID                                             review sentiment  \\\n",
       "0      41411  I watched this film because I'm a big fan of R...         0   \n",
       "1      37586  It does not seem that this movie managed to pl...         1   \n",
       "2       6017        Enough is not a bad movie , just mediocre .         0   \n",
       "3      44656  my friend and i rented this one a few nights a...         0   \n",
       "4      38711  Just about everything in this movie is wrong, ...         0   \n",
       "...      ...                                                ...       ...   \n",
       "29336   8019  It 's one of the most honest films ever made a...         1   \n",
       "29337    453  An absorbing and unsettling psychological drama .         1   \n",
       "29338  13097  Soylent Green IS...a really good movie, actual...         1   \n",
       "29339  26896  There just isn't enough here. There a few funn...         0   \n",
       "29340  27094  This show was absolutely terrible. For one Geo...         0   \n",
       "\n",
       "                                        processed_review  \n",
       "0      watch film m big fan river phoenix joaquin pho...  \n",
       "1      movie manage lot people see place bump acciden...  \n",
       "2                                     bad movie mediocre  \n",
       "3      friend rent night ago single good movie see me...  \n",
       "4      movie wrong wrong wrong mike myers example s r...  \n",
       "...                                                  ...  \n",
       "29336                            s honest film hollywood  \n",
       "29337              absorb unsettling psychological drama  \n",
       "29338  soylent green good movie actually ve think don...  \n",
       "29339  isn funny spot disappoint love stupid movie ex...  \n",
       "29340  absolutely terrible george isn funny kid snobb...  \n",
       "\n",
       "[29341 rows x 4 columns]"
      ]
     },
     "execution_count": 5,
     "metadata": {},
     "output_type": "execute_result"
    }
   ],
   "source": [
    "imdb_data"
   ]
  },
  {
   "cell_type": "code",
   "execution_count": 6,
   "metadata": {
    "colab": {
     "base_uri": "https://localhost:8080/",
     "height": 419
    },
    "executionInfo": {
     "elapsed": 18,
     "status": "ok",
     "timestamp": 1628474047695,
     "user": {
      "displayName": "Yu-Tung Chen",
      "photoUrl": "https://lh3.googleusercontent.com/a-/AOh14GiMuaKuz0WgIC-aXhdtrN4d2i2TMTmbVjp77aV9Yg=s64",
      "userId": "08519592307753464104"
     },
     "user_tz": -480
    },
    "id": "zAefOGtjYFA2",
    "outputId": "2b292f1f-8e24-4d58-caf1-b1bd44fca0b6"
   },
   "outputs": [
    {
     "data": {
      "text/html": [
       "<div>\n",
       "<style scoped>\n",
       "    .dataframe tbody tr th:only-of-type {\n",
       "        vertical-align: middle;\n",
       "    }\n",
       "\n",
       "    .dataframe tbody tr th {\n",
       "        vertical-align: top;\n",
       "    }\n",
       "\n",
       "    .dataframe thead th {\n",
       "        text-align: right;\n",
       "    }\n",
       "</style>\n",
       "<table border=\"1\" class=\"dataframe\">\n",
       "  <thead>\n",
       "    <tr style=\"text-align: right;\">\n",
       "      <th></th>\n",
       "      <th>ID</th>\n",
       "      <th>review</th>\n",
       "      <th>processed_review</th>\n",
       "    </tr>\n",
       "  </thead>\n",
       "  <tbody>\n",
       "    <tr>\n",
       "      <th>0</th>\n",
       "      <td>22622</td>\n",
       "      <td>Robert Lansing plays a scientist experimenting...</td>\n",
       "      <td>robert lansing play scientist experiment pass ...</td>\n",
       "    </tr>\n",
       "    <tr>\n",
       "      <th>1</th>\n",
       "      <td>10162</td>\n",
       "      <td>Well I've enjoy this movie, even though someti...</td>\n",
       "      <td>ve enjoy movie turn stereotypical situation nt...</td>\n",
       "    </tr>\n",
       "    <tr>\n",
       "      <th>2</th>\n",
       "      <td>17468</td>\n",
       "      <td>First things first - though I believe Joel Sch...</td>\n",
       "      <td>thing believe joel schumacher well mediocre di...</td>\n",
       "    </tr>\n",
       "    <tr>\n",
       "      <th>3</th>\n",
       "      <td>42579</td>\n",
       "      <td>I watched this movie on the grounds that Amber...</td>\n",
       "      <td>watch movie ground amber benson rock nick stah...</td>\n",
       "    </tr>\n",
       "    <tr>\n",
       "      <th>4</th>\n",
       "      <td>701</td>\n",
       "      <td>A certain sexiness underlines even the dullest...</td>\n",
       "      <td>certain sexiness underline dull tangent</td>\n",
       "    </tr>\n",
       "    <tr>\n",
       "      <th>...</th>\n",
       "      <td>...</td>\n",
       "      <td>...</td>\n",
       "      <td>...</td>\n",
       "    </tr>\n",
       "    <tr>\n",
       "      <th>29336</th>\n",
       "      <td>30370</td>\n",
       "      <td>It is difficult to rate a writer/director's fi...</td>\n",
       "      <td>difficult rate writer director s effort movie ...</td>\n",
       "    </tr>\n",
       "    <tr>\n",
       "      <th>29337</th>\n",
       "      <td>18654</td>\n",
       "      <td>After watching this movie once, it quickly bec...</td>\n",
       "      <td>watch movie quickly favorite different event h...</td>\n",
       "    </tr>\n",
       "    <tr>\n",
       "      <th>29338</th>\n",
       "      <td>47985</td>\n",
       "      <td>Even though i sat and watched the whole thing,...</td>\n",
       "      <td>sit watch thing good place big chunk informati...</td>\n",
       "    </tr>\n",
       "    <tr>\n",
       "      <th>29339</th>\n",
       "      <td>9866</td>\n",
       "      <td>Warning Spoilers following. Superb recreation ...</td>\n",
       "      <td>warn spoiler follow superb recreation base ant...</td>\n",
       "    </tr>\n",
       "    <tr>\n",
       "      <th>29340</th>\n",
       "      <td>35559</td>\n",
       "      <td>My, my, my: Peter Cushing and Donald Pleasance...</td>\n",
       "      <td>peter cushing donald pleasance desperate work ...</td>\n",
       "    </tr>\n",
       "  </tbody>\n",
       "</table>\n",
       "<p>29341 rows × 3 columns</p>\n",
       "</div>"
      ],
      "text/plain": [
       "          ID                                             review  \\\n",
       "0      22622  Robert Lansing plays a scientist experimenting...   \n",
       "1      10162  Well I've enjoy this movie, even though someti...   \n",
       "2      17468  First things first - though I believe Joel Sch...   \n",
       "3      42579  I watched this movie on the grounds that Amber...   \n",
       "4        701  A certain sexiness underlines even the dullest...   \n",
       "...      ...                                                ...   \n",
       "29336  30370  It is difficult to rate a writer/director's fi...   \n",
       "29337  18654  After watching this movie once, it quickly bec...   \n",
       "29338  47985  Even though i sat and watched the whole thing,...   \n",
       "29339   9866  Warning Spoilers following. Superb recreation ...   \n",
       "29340  35559  My, my, my: Peter Cushing and Donald Pleasance...   \n",
       "\n",
       "                                        processed_review  \n",
       "0      robert lansing play scientist experiment pass ...  \n",
       "1      ve enjoy movie turn stereotypical situation nt...  \n",
       "2      thing believe joel schumacher well mediocre di...  \n",
       "3      watch movie ground amber benson rock nick stah...  \n",
       "4                certain sexiness underline dull tangent  \n",
       "...                                                  ...  \n",
       "29336  difficult rate writer director s effort movie ...  \n",
       "29337  watch movie quickly favorite different event h...  \n",
       "29338  sit watch thing good place big chunk informati...  \n",
       "29339  warn spoiler follow superb recreation base ant...  \n",
       "29340  peter cushing donald pleasance desperate work ...  \n",
       "\n",
       "[29341 rows x 3 columns]"
      ]
     },
     "execution_count": 6,
     "metadata": {},
     "output_type": "execute_result"
    }
   ],
   "source": [
    "imdb_test_data"
   ]
  },
  {
   "cell_type": "code",
   "execution_count": 7,
   "metadata": {
    "colab": {
     "base_uri": "https://localhost:8080/",
     "height": 419
    },
    "executionInfo": {
     "elapsed": 16,
     "status": "ok",
     "timestamp": 1628474047696,
     "user": {
      "displayName": "Yu-Tung Chen",
      "photoUrl": "https://lh3.googleusercontent.com/a-/AOh14GiMuaKuz0WgIC-aXhdtrN4d2i2TMTmbVjp77aV9Yg=s64",
      "userId": "08519592307753464104"
     },
     "user_tz": -480
    },
    "id": "Dth7D_7ipDYx",
    "outputId": "fa574452-6f8f-4f1d-9428-c2d2f4612acb"
   },
   "outputs": [
    {
     "data": {
      "text/html": [
       "<div>\n",
       "<style scoped>\n",
       "    .dataframe tbody tr th:only-of-type {\n",
       "        vertical-align: middle;\n",
       "    }\n",
       "\n",
       "    .dataframe tbody tr th {\n",
       "        vertical-align: top;\n",
       "    }\n",
       "\n",
       "    .dataframe thead th {\n",
       "        text-align: right;\n",
       "    }\n",
       "</style>\n",
       "<table border=\"1\" class=\"dataframe\">\n",
       "  <thead>\n",
       "    <tr style=\"text-align: right;\">\n",
       "      <th></th>\n",
       "      <th>sentiment</th>\n",
       "      <th>processed_review</th>\n",
       "    </tr>\n",
       "  </thead>\n",
       "  <tbody>\n",
       "    <tr>\n",
       "      <th>0</th>\n",
       "      <td>1</td>\n",
       "      <td>one of the other reviewers has mentioned that ...</td>\n",
       "    </tr>\n",
       "    <tr>\n",
       "      <th>1</th>\n",
       "      <td>1</td>\n",
       "      <td>a wonderful little production. the filming tec...</td>\n",
       "    </tr>\n",
       "    <tr>\n",
       "      <th>2</th>\n",
       "      <td>1</td>\n",
       "      <td>i thought this was a wonderful way to spend ti...</td>\n",
       "    </tr>\n",
       "    <tr>\n",
       "      <th>3</th>\n",
       "      <td>0</td>\n",
       "      <td>basically there's a family where a little boy ...</td>\n",
       "    </tr>\n",
       "    <tr>\n",
       "      <th>4</th>\n",
       "      <td>1</td>\n",
       "      <td>petter mattei's \"love in the time of money\" is...</td>\n",
       "    </tr>\n",
       "    <tr>\n",
       "      <th>...</th>\n",
       "      <td>...</td>\n",
       "      <td>...</td>\n",
       "    </tr>\n",
       "    <tr>\n",
       "      <th>49995</th>\n",
       "      <td>1</td>\n",
       "      <td>i thought this movie did a down right good job...</td>\n",
       "    </tr>\n",
       "    <tr>\n",
       "      <th>49996</th>\n",
       "      <td>0</td>\n",
       "      <td>bad plot, bad dialogue, bad acting, idiotic di...</td>\n",
       "    </tr>\n",
       "    <tr>\n",
       "      <th>49997</th>\n",
       "      <td>0</td>\n",
       "      <td>i am a catholic taught in parochial elementary...</td>\n",
       "    </tr>\n",
       "    <tr>\n",
       "      <th>49998</th>\n",
       "      <td>0</td>\n",
       "      <td>i'm going to have to disagree with the previou...</td>\n",
       "    </tr>\n",
       "    <tr>\n",
       "      <th>49999</th>\n",
       "      <td>0</td>\n",
       "      <td>no one expects the star trek movies to be high...</td>\n",
       "    </tr>\n",
       "  </tbody>\n",
       "</table>\n",
       "<p>50000 rows × 2 columns</p>\n",
       "</div>"
      ],
      "text/plain": [
       "       sentiment                                   processed_review\n",
       "0              1  one of the other reviewers has mentioned that ...\n",
       "1              1  a wonderful little production. the filming tec...\n",
       "2              1  i thought this was a wonderful way to spend ti...\n",
       "3              0  basically there's a family where a little boy ...\n",
       "4              1  petter mattei's \"love in the time of money\" is...\n",
       "...          ...                                                ...\n",
       "49995          1  i thought this movie did a down right good job...\n",
       "49996          0  bad plot, bad dialogue, bad acting, idiotic di...\n",
       "49997          0  i am a catholic taught in parochial elementary...\n",
       "49998          0  i'm going to have to disagree with the previou...\n",
       "49999          0  no one expects the star trek movies to be high...\n",
       "\n",
       "[50000 rows x 2 columns]"
      ]
     },
     "execution_count": 7,
     "metadata": {},
     "output_type": "execute_result"
    }
   ],
   "source": [
    "materials"
   ]
  },
  {
   "cell_type": "markdown",
   "metadata": {
    "id": "JmkvT2P-cl2b"
   },
   "source": [
    "## Some preprocessing"
   ]
  },
  {
   "cell_type": "code",
   "execution_count": 8,
   "metadata": {
    "executionInfo": {
     "elapsed": 15,
     "status": "ok",
     "timestamp": 1628474047697,
     "user": {
      "displayName": "Yu-Tung Chen",
      "photoUrl": "https://lh3.googleusercontent.com/a-/AOh14GiMuaKuz0WgIC-aXhdtrN4d2i2TMTmbVjp77aV9Yg=s64",
      "userId": "08519592307753464104"
     },
     "user_tz": -480
    },
    "id": "qBwYVYH-atOX"
   },
   "outputs": [],
   "source": [
    "# filtered weird sentiment data\n",
    "imdb_data = imdb_data[~imdb_data['sentiment'].str.contains(r'[^0-9]')]"
   ]
  },
  {
   "cell_type": "code",
   "execution_count": 9,
   "metadata": {
    "colab": {
     "base_uri": "https://localhost:8080/",
     "height": 419
    },
    "executionInfo": {
     "elapsed": 15,
     "status": "ok",
     "timestamp": 1628474047697,
     "user": {
      "displayName": "Yu-Tung Chen",
      "photoUrl": "https://lh3.googleusercontent.com/a-/AOh14GiMuaKuz0WgIC-aXhdtrN4d2i2TMTmbVjp77aV9Yg=s64",
      "userId": "08519592307753464104"
     },
     "user_tz": -480
    },
    "id": "iPhlwkWsLHZq",
    "outputId": "b04c5a50-bb5b-4868-93ac-c47dcd26c15e"
   },
   "outputs": [
    {
     "data": {
      "text/html": [
       "<div>\n",
       "<style scoped>\n",
       "    .dataframe tbody tr th:only-of-type {\n",
       "        vertical-align: middle;\n",
       "    }\n",
       "\n",
       "    .dataframe tbody tr th {\n",
       "        vertical-align: top;\n",
       "    }\n",
       "\n",
       "    .dataframe thead th {\n",
       "        text-align: right;\n",
       "    }\n",
       "</style>\n",
       "<table border=\"1\" class=\"dataframe\">\n",
       "  <thead>\n",
       "    <tr style=\"text-align: right;\">\n",
       "      <th></th>\n",
       "      <th>ID</th>\n",
       "      <th>review</th>\n",
       "      <th>sentiment</th>\n",
       "      <th>processed_review</th>\n",
       "    </tr>\n",
       "  </thead>\n",
       "  <tbody>\n",
       "    <tr>\n",
       "      <th>0</th>\n",
       "      <td>41411</td>\n",
       "      <td>I watched this film because I'm a big fan of R...</td>\n",
       "      <td>0</td>\n",
       "      <td>watch film m big fan river phoenix joaquin pho...</td>\n",
       "    </tr>\n",
       "    <tr>\n",
       "      <th>1</th>\n",
       "      <td>37586</td>\n",
       "      <td>It does not seem that this movie managed to pl...</td>\n",
       "      <td>1</td>\n",
       "      <td>movie manage lot people see place bump acciden...</td>\n",
       "    </tr>\n",
       "    <tr>\n",
       "      <th>2</th>\n",
       "      <td>6017</td>\n",
       "      <td>Enough is not a bad movie , just mediocre .</td>\n",
       "      <td>0</td>\n",
       "      <td>bad movie mediocre</td>\n",
       "    </tr>\n",
       "    <tr>\n",
       "      <th>3</th>\n",
       "      <td>44656</td>\n",
       "      <td>my friend and i rented this one a few nights a...</td>\n",
       "      <td>0</td>\n",
       "      <td>friend rent night ago single good movie see me...</td>\n",
       "    </tr>\n",
       "    <tr>\n",
       "      <th>4</th>\n",
       "      <td>38711</td>\n",
       "      <td>Just about everything in this movie is wrong, ...</td>\n",
       "      <td>0</td>\n",
       "      <td>movie wrong wrong wrong mike myers example s r...</td>\n",
       "    </tr>\n",
       "    <tr>\n",
       "      <th>...</th>\n",
       "      <td>...</td>\n",
       "      <td>...</td>\n",
       "      <td>...</td>\n",
       "      <td>...</td>\n",
       "    </tr>\n",
       "    <tr>\n",
       "      <th>29336</th>\n",
       "      <td>8019</td>\n",
       "      <td>It 's one of the most honest films ever made a...</td>\n",
       "      <td>1</td>\n",
       "      <td>s honest film hollywood</td>\n",
       "    </tr>\n",
       "    <tr>\n",
       "      <th>29337</th>\n",
       "      <td>453</td>\n",
       "      <td>An absorbing and unsettling psychological drama .</td>\n",
       "      <td>1</td>\n",
       "      <td>absorb unsettling psychological drama</td>\n",
       "    </tr>\n",
       "    <tr>\n",
       "      <th>29338</th>\n",
       "      <td>13097</td>\n",
       "      <td>Soylent Green IS...a really good movie, actual...</td>\n",
       "      <td>1</td>\n",
       "      <td>soylent green good movie actually ve think don...</td>\n",
       "    </tr>\n",
       "    <tr>\n",
       "      <th>29339</th>\n",
       "      <td>26896</td>\n",
       "      <td>There just isn't enough here. There a few funn...</td>\n",
       "      <td>0</td>\n",
       "      <td>isn funny spot disappoint love stupid movie ex...</td>\n",
       "    </tr>\n",
       "    <tr>\n",
       "      <th>29340</th>\n",
       "      <td>27094</td>\n",
       "      <td>This show was absolutely terrible. For one Geo...</td>\n",
       "      <td>0</td>\n",
       "      <td>absolutely terrible george isn funny kid snobb...</td>\n",
       "    </tr>\n",
       "  </tbody>\n",
       "</table>\n",
       "<p>29303 rows × 4 columns</p>\n",
       "</div>"
      ],
      "text/plain": [
       "          ID                                             review sentiment  \\\n",
       "0      41411  I watched this film because I'm a big fan of R...         0   \n",
       "1      37586  It does not seem that this movie managed to pl...         1   \n",
       "2       6017        Enough is not a bad movie , just mediocre .         0   \n",
       "3      44656  my friend and i rented this one a few nights a...         0   \n",
       "4      38711  Just about everything in this movie is wrong, ...         0   \n",
       "...      ...                                                ...       ...   \n",
       "29336   8019  It 's one of the most honest films ever made a...         1   \n",
       "29337    453  An absorbing and unsettling psychological drama .         1   \n",
       "29338  13097  Soylent Green IS...a really good movie, actual...         1   \n",
       "29339  26896  There just isn't enough here. There a few funn...         0   \n",
       "29340  27094  This show was absolutely terrible. For one Geo...         0   \n",
       "\n",
       "                                        processed_review  \n",
       "0      watch film m big fan river phoenix joaquin pho...  \n",
       "1      movie manage lot people see place bump acciden...  \n",
       "2                                     bad movie mediocre  \n",
       "3      friend rent night ago single good movie see me...  \n",
       "4      movie wrong wrong wrong mike myers example s r...  \n",
       "...                                                  ...  \n",
       "29336                            s honest film hollywood  \n",
       "29337              absorb unsettling psychological drama  \n",
       "29338  soylent green good movie actually ve think don...  \n",
       "29339  isn funny spot disappoint love stupid movie ex...  \n",
       "29340  absolutely terrible george isn funny kid snobb...  \n",
       "\n",
       "[29303 rows x 4 columns]"
      ]
     },
     "execution_count": 9,
     "metadata": {},
     "output_type": "execute_result"
    }
   ],
   "source": [
    "imdb_data"
   ]
  },
  {
   "cell_type": "code",
   "execution_count": 10,
   "metadata": {
    "colab": {
     "base_uri": "https://localhost:8080/"
    },
    "executionInfo": {
     "elapsed": 300,
     "status": "ok",
     "timestamp": 1628474047983,
     "user": {
      "displayName": "Yu-Tung Chen",
      "photoUrl": "https://lh3.googleusercontent.com/a-/AOh14GiMuaKuz0WgIC-aXhdtrN4d2i2TMTmbVjp77aV9Yg=s64",
      "userId": "08519592307753464104"
     },
     "user_tz": -480
    },
    "id": "DxQ62sI6atQz",
    "outputId": "255a3ad4-6211-4f7a-8f81-d9a0fc34418d"
   },
   "outputs": [
    {
     "name": "stderr",
     "output_type": "stream",
     "text": [
      "/home/ytchen/.local/lib/python3.6/site-packages/ipykernel_launcher.py:1: SettingWithCopyWarning: \n",
      "A value is trying to be set on a copy of a slice from a DataFrame.\n",
      "Try using .loc[row_indexer,col_indexer] = value instead\n",
      "\n",
      "See the caveats in the documentation: https://pandas.pydata.org/pandas-docs/stable/user_guide/indexing.html#returning-a-view-versus-a-copy\n",
      "  \"\"\"Entry point for launching an IPython kernel.\n",
      "/home/ytchen/.local/lib/python3.6/site-packages/ipykernel_launcher.py:2: SettingWithCopyWarning: \n",
      "A value is trying to be set on a copy of a slice from a DataFrame.\n",
      "Try using .loc[row_indexer,col_indexer] = value instead\n",
      "\n",
      "See the caveats in the documentation: https://pandas.pydata.org/pandas-docs/stable/user_guide/indexing.html#returning-a-view-versus-a-copy\n",
      "  \n"
     ]
    }
   ],
   "source": [
    "imdb_data['sentiment'] = imdb_data['sentiment'].astype(np.int8)\n",
    "imdb_data['processed_review'] = imdb_data['processed_review'].astype(str)\n",
    "\n",
    "imdb_test_data['processed_review'] = imdb_test_data['processed_review'].astype(str)\n",
    "\n",
    "materials['sentiment'] = materials['sentiment'].astype(np.int8)\n",
    "materials['processed_review'] = materials['processed_review'].astype(str)\n",
    "\n",
    "imdb_data.reset_index(drop=True, inplace=True)\n",
    "\n",
    "materials.drop_duplicates(inplace = True)"
   ]
  },
  {
   "cell_type": "markdown",
   "metadata": {
    "id": "4UrLNbZ3cb-9"
   },
   "source": [
    "## Set params"
   ]
  },
  {
   "cell_type": "code",
   "execution_count": 11,
   "metadata": {
    "executionInfo": {
     "elapsed": 263,
     "status": "ok",
     "timestamp": 1628474175316,
     "user": {
      "displayName": "Yu-Tung Chen",
      "photoUrl": "https://lh3.googleusercontent.com/a-/AOh14GiMuaKuz0WgIC-aXhdtrN4d2i2TMTmbVjp77aV9Yg=s64",
      "userId": "08519592307753464104"
     },
     "user_tz": -480
    },
    "id": "FARTEKlQU6-R"
   },
   "outputs": [],
   "source": [
    "PRE_TRAINED_MODEL_NAME = 'bert-base-cased'\n",
    "\n",
    "BATCH_SIZE = 16\n",
    "\n",
    "num_labels = len(materials['sentiment'].unique())\n",
    "\n",
    "class_names = [0, 1]"
   ]
  },
  {
   "cell_type": "code",
   "execution_count": 12,
   "metadata": {
    "colab": {
     "base_uri": "https://localhost:8080/",
     "height": 213,
     "referenced_widgets": [
      "3cd6e93d143c4378894349ef05d02571",
      "199b391dafd545a2a77aab67dc9db963",
      "f983d88215f44e7cb4daa731e6fdd0d1",
      "a3900d2790d74c98a77bd1ef8c509ce3",
      "0d30bff80a084f909532c1de4465efa6",
      "3ea5c7479d91415bbb137d3380c9deb1",
      "62a830b3b0674a3bbd196a1f57d47567",
      "6abec6d369f748d69104253e3c5e52ae",
      "15fa265ef0d64e07b5ecf8494e1ba5b3",
      "ece170e0bc2d415fb3dcb070ad36a01b",
      "74debac48cd54ac1a88c10a88edb08a4",
      "e06d29df8e1d44cca32531c3ec6f5730",
      "cec5e2dbe60447c48ed2f54b5f8ae6f9",
      "d5a4f5680d934c6383c13b9b9870be2f",
      "960ed215d67b42bfb6d19b697c3477b6",
      "bc98c748455e4ebe90befe2f6c300f1a",
      "b258c4a727644994acf7d92e3ea7dae7",
      "5a0fcd64e4fd4ef6bed1bc6ae2a333a7",
      "edfc664d1fa3473c94b7f7c649b108a7",
      "22fea9a878694fbb86900c3d1ba7dacc",
      "733d6bda92424d209f9fae146e4e42db",
      "a0d089e17b78426a91afe8472224a8c4",
      "8c788023a3214bd09424dcc3830c99cd",
      "2cc75cec55454d8082996047fe0cd7cb",
      "9a1762355dd34f199a85032852acea9c",
      "6d7ab9d23d7440938b6c09fdcc981eff",
      "f7b0aecfbf434578b8c2f11ddac53b43",
      "0e2e716376124372b8c062404e448c03",
      "06f9d047a80245adacc8ed339fa32186",
      "1fcf98e771164611a8835d0b93030e99",
      "7415b769b45f43a8ac55bcaa72fc26a5",
      "26128e73f3cb4658a51486b69af9d37d"
     ]
    },
    "executionInfo": {
     "elapsed": 4227,
     "status": "ok",
     "timestamp": 1628474052207,
     "user": {
      "displayName": "Yu-Tung Chen",
      "photoUrl": "https://lh3.googleusercontent.com/a-/AOh14GiMuaKuz0WgIC-aXhdtrN4d2i2TMTmbVjp77aV9Yg=s64",
      "userId": "08519592307753464104"
     },
     "user_tz": -480
    },
    "id": "eZyv2Ae7U4-7",
    "outputId": "6fdb4752-7682-47aa-b635-3157cbb5e914"
   },
   "outputs": [],
   "source": [
    "# Load the BERT tokenizer\n",
    "tokenizer = BertTokenizer.from_pretrained('bert-base-uncased', do_lower_case=True)"
   ]
  },
  {
   "cell_type": "code",
   "execution_count": 13,
   "metadata": {
    "executionInfo": {
     "elapsed": 5,
     "status": "ok",
     "timestamp": 1628474052208,
     "user": {
      "displayName": "Yu-Tung Chen",
      "photoUrl": "https://lh3.googleusercontent.com/a-/AOh14GiMuaKuz0WgIC-aXhdtrN4d2i2TMTmbVjp77aV9Yg=s64",
      "userId": "08519592307753464104"
     },
     "user_tz": -480
    },
    "id": "u38fWdMMatMD"
   },
   "outputs": [],
   "source": [
    "MAX_LEN = 512"
   ]
  },
  {
   "cell_type": "markdown",
   "metadata": {
    "id": "tKefeFjlcq1K"
   },
   "source": [
    "## Create pytorch Dataset\n",
    "\n",
    "Returns\n",
    "* review_text\n",
    "* input_ids\n",
    "* attention_mask\n",
    "* targets"
   ]
  },
  {
   "cell_type": "code",
   "execution_count": 14,
   "metadata": {
    "executionInfo": {
     "elapsed": 3,
     "status": "ok",
     "timestamp": 1628474054540,
     "user": {
      "displayName": "Yu-Tung Chen",
      "photoUrl": "https://lh3.googleusercontent.com/a-/AOh14GiMuaKuz0WgIC-aXhdtrN4d2i2TMTmbVjp77aV9Yg=s64",
      "userId": "08519592307753464104"
     },
     "user_tz": -480
    },
    "id": "hTgfF9IAatTL"
   },
   "outputs": [],
   "source": [
    "class IMDB_Dataset(Dataset): # inherit from pytorch Dataset class.\n",
    "\n",
    "    def __init__(self, reviews, targets, tokenizer, max_len):\n",
    "        self.reviews = reviews\n",
    "        self.targets = targets\n",
    "        self.tokenizer = tokenizer\n",
    "        self.max_len = max_len\n",
    "\n",
    "    def __len__(self):\n",
    "        return len(self.reviews)\n",
    "\n",
    "    def __getitem__(self, index): # if you want to get item via index like a list that you needs to define '__getitem__' method\n",
    "        review = self.reviews[index] \n",
    "        target = self.targets[index]\n",
    "        \n",
    "        # `encode_plus` will:\n",
    "        #    (1) Tokenize the sentence\n",
    "        #    (2) Add the `[CLS]` and `[SEP]` token to the start and end\n",
    "        #    (3) Truncate/Pad sentence to max length\n",
    "        #    (4) Map tokens to their IDs\n",
    "        #    (5) Create attention mask\n",
    "        #    (6) Return a dictionary of outputs\n",
    "        encoded_sent = tokenizer.encode_plus(\n",
    "            text = review,  # Preprocess sentence\n",
    "            add_special_tokens = True,        # Add `[CLS]` and `[SEP]`\n",
    "            truncation = True,               # Truncate string\n",
    "            max_length = self.max_len,      # Max length to truncate/pad\n",
    "            padding = 'max_length',         # Pad sentence to max length\n",
    "            return_tensors = 'pt',           # Return PyTorch tensor\n",
    "            return_attention_mask = True      # Return attention mask\n",
    "            )\n",
    "\n",
    "        return {\n",
    "            'review_text' : review,\n",
    "            'input_ids' : encoded_sent['input_ids'].flatten(), # padding 0 horizontally to transform tensor (1, MAX_LEN) \n",
    "            'attention_mask' : encoded_sent['attention_mask'].flatten(), # padding 0 horizontally to transform tensor (1, MAX_LEN) \n",
    "            'targets' : torch.tensor(target, dtype=torch.long)\n",
    "        }"
   ]
  },
  {
   "cell_type": "code",
   "execution_count": 15,
   "metadata": {
    "colab": {
     "base_uri": "https://localhost:8080/"
    },
    "executionInfo": {
     "elapsed": 4,
     "status": "ok",
     "timestamp": 1628474055968,
     "user": {
      "displayName": "Yu-Tung Chen",
      "photoUrl": "https://lh3.googleusercontent.com/a-/AOh14GiMuaKuz0WgIC-aXhdtrN4d2i2TMTmbVjp77aV9Yg=s64",
      "userId": "08519592307753464104"
     },
     "user_tz": -480
    },
    "id": "zfdKV4koatVT",
    "outputId": "7a2065da-e3bd-42f0-9096-0941502c9e79"
   },
   "outputs": [
    {
     "name": "stdout",
     "output_type": "stream",
     "text": [
      "(39664, 2) (9917, 2)\n"
     ]
    }
   ],
   "source": [
    "train_df, val_df = train_test_split(materials, test_size=0.2, random_state=75)\n",
    "print(train_df.shape, val_df.shape)"
   ]
  },
  {
   "cell_type": "code",
   "execution_count": 16,
   "metadata": {
    "executionInfo": {
     "elapsed": 2,
     "status": "ok",
     "timestamp": 1628474057312,
     "user": {
      "displayName": "Yu-Tung Chen",
      "photoUrl": "https://lh3.googleusercontent.com/a-/AOh14GiMuaKuz0WgIC-aXhdtrN4d2i2TMTmbVjp77aV9Yg=s64",
      "userId": "08519592307753464104"
     },
     "user_tz": -480
    },
    "id": "hXD-Iw3eatcH"
   },
   "outputs": [],
   "source": [
    "train_df.reset_index(drop=True, inplace=True)\n",
    "val_df.reset_index(drop=True, inplace=True)"
   ]
  },
  {
   "cell_type": "code",
   "execution_count": 17,
   "metadata": {
    "executionInfo": {
     "elapsed": 12,
     "status": "ok",
     "timestamp": 1628474058542,
     "user": {
      "displayName": "Yu-Tung Chen",
      "photoUrl": "https://lh3.googleusercontent.com/a-/AOh14GiMuaKuz0WgIC-aXhdtrN4d2i2TMTmbVjp77aV9Yg=s64",
      "userId": "08519592307753464104"
     },
     "user_tz": -480
    },
    "id": "fKRIkRxLaten"
   },
   "outputs": [],
   "source": [
    "train_dataset = IMDB_Dataset(train_df.processed_review, train_df.sentiment, tokenizer, MAX_LEN)\n",
    "val_dataset = IMDB_Dataset(val_df.processed_review, val_df.sentiment, tokenizer, MAX_LEN)"
   ]
  },
  {
   "cell_type": "code",
   "execution_count": 18,
   "metadata": {
    "colab": {
     "base_uri": "https://localhost:8080/"
    },
    "executionInfo": {
     "elapsed": 21,
     "status": "ok",
     "timestamp": 1628474058914,
     "user": {
      "displayName": "Yu-Tung Chen",
      "photoUrl": "https://lh3.googleusercontent.com/a-/AOh14GiMuaKuz0WgIC-aXhdtrN4d2i2TMTmbVjp77aV9Yg=s64",
      "userId": "08519592307753464104"
     },
     "user_tz": -480
    },
    "id": "o3E-4VSaatje",
    "outputId": "2d81a256-0c13-42b5-85a1-d80f7f17d263"
   },
   "outputs": [
    {
     "data": {
      "text/plain": [
       "{'review_text': 'we picked this up as a part of a brentwood set, under the title \"the broken skull.\" shot directly onto video, with widely varying sound and lighting quality, this movie winds up with a hyperactive quality that may inspire the viewer to feelings of nervousness, confusion and irritability - and not in a good, \"evil dead\" kind of way.without going into spoilers, what appears at first to be a simple revenge ghost story becomes increasingly convoluted and bizarre. while there are some interesting ideas here, the overall effect is likely to leave you scratching your head and saying \"hunh?\"this is a very, very gory movie. the gore effects range all the way from full bloody head appliances to a silly video toaster effect that has to be freeze-framed to be (dis)believed. the \"fangoria\" level of gross-out effects in this film is really amazing and should likely please the gore-hounds while making anyone with a weak constitution feel a bit on the queasy side.the broken skull is also an extremely noisy movie. it features not only ambient noises (captured by mikes and not replaced in post), but there is a lot of shrieking. no, no, i mean a lot. a lot, a lot! characters scream, wail, howl and yell, chitter and laugh maniacally. turn down the volume if you value your eardrums and your nerves! but you can\\'t fault the cast for their enthusiasm, they really eat up the scenery and sometimes the effect is rather entertaining. in particular, the actress playing a certain vietnamese immigrant delivers all of the above with a remarkable amount of gusto.in fact, very few of the actors were wooden. some of them may have overacted a bit (oh, just a wee smidgen!), but most of them are certainly fun to watch go off. the cast is ethnically diverse and kudos to the filmmakers for that. the two middle-aged white women, however, are two of the most spiteful, exasperated characters since the shopkeeper in the mst3k classic \"the brute man.\" just watch them seethe at all the other characters, it\\'s fun!in closing, the headcrusher may not become a horror icon on a par with jason voorhees, michael myers or freddy kruger (or even the leprechaun), but we can definitely say this ... this was a movie.',\n",
       " 'input_ids': tensor([  101,  2057,  3856,  2023,  2039,  2004,  1037,  2112,  1997,  1037,\n",
       "         12895,  3702,  2275,  1010,  2104,  1996,  2516,  1000,  1996,  3714,\n",
       "          7412,  1012,  1000,  2915,  3495,  3031,  2678,  1010,  2007,  4235,\n",
       "          9671,  2614,  1998,  7497,  3737,  1010,  2023,  3185,  7266,  2039,\n",
       "          2007,  1037, 23760, 19620,  3737,  2008,  2089, 18708,  1996, 13972,\n",
       "          2000,  5346,  1997,  6091,  2791,  1010,  6724,  1998, 20868, 17728,\n",
       "          8553,  1011,  1998,  2025,  1999,  1037,  2204,  1010,  1000,  4763,\n",
       "          2757,  1000,  2785,  1997,  2126,  1012,  2302,  2183,  2046, 27594,\n",
       "          2545,  1010,  2054,  3544,  2012,  2034,  2000,  2022,  1037,  3722,\n",
       "          7195,  5745,  2466,  4150,  6233,  9530,  6767,  7630,  3064,  1998,\n",
       "         13576,  1012,  2096,  2045,  2024,  2070,  5875,  4784,  2182,  1010,\n",
       "          1996,  3452,  3466,  2003,  3497,  2000,  2681,  2017, 20291,  2115,\n",
       "          2132,  1998,  3038,  1000, 15876, 25311,  1029,  1000,  2023,  2003,\n",
       "          1037,  2200,  1010,  2200,  2175,  2854,  3185,  1012,  1996, 13638,\n",
       "          3896,  2846,  2035,  1996,  2126,  2013,  2440,  6703,  2132, 22449,\n",
       "          2000,  1037, 10021,  2678, 15174,  2121,  3466,  2008,  2038,  2000,\n",
       "          2022, 13184,  1011, 10366,  2000,  2022,  1006,  4487,  2015,  1007,\n",
       "          3373,  1012,  1996,  1000, 15197, 11069,  1000,  2504,  1997,  7977,\n",
       "          1011,  2041,  3896,  1999,  2023,  2143,  2003,  2428,  6429,  1998,\n",
       "          2323,  3497,  3531,  1996, 13638,  1011, 27772,  2096,  2437,  3087,\n",
       "          2007,  1037,  5410,  4552,  2514,  1037,  2978,  2006,  1996, 10861,\n",
       "          3022,  2100,  2217,  1012,  1996,  3714,  7412,  2003,  2036,  2019,\n",
       "          5186, 20810,  3185,  1012,  2009,  2838,  2025,  2069, 17093, 14950,\n",
       "          1006,  4110,  2011,  3505,  2015,  1998,  2025,  2999,  1999,  2695,\n",
       "          1007,  1010,  2021,  2045,  2003,  1037,  2843,  1997, 24795,  2075,\n",
       "          1012,  2053,  1010,  2053,  1010,  1045,  2812,  1037,  2843,  1012,\n",
       "          1037,  2843,  1010,  1037,  2843,   999,  3494,  6978,  1010, 23701,\n",
       "          2140,  1010, 22912,  1998, 14315,  1010,  9610, 12079,  1998,  4756,\n",
       "         29310,  9289,  2135,  1012,  2735,  2091,  1996,  3872,  2065,  2017,\n",
       "          3643,  2115,  4540, 21884,  2015,  1998,  2115, 10627,   999,  2021,\n",
       "          2017,  2064,  1005,  1056,  6346,  1996,  3459,  2005,  2037, 12024,\n",
       "          1010,  2027,  2428,  4521,  2039,  1996, 17363,  1998,  2823,  1996,\n",
       "          3466,  2003,  2738, 14036,  1012,  1999,  3327,  1010,  1996,  3883,\n",
       "          2652,  1037,  3056,  9101, 11560, 18058,  2035,  1997,  1996,  2682,\n",
       "          2007,  1037,  9487,  3815,  1997, 26903,  2080,  1012,  1999,  2755,\n",
       "          1010,  2200,  2261,  1997,  1996,  5889,  2020,  4799,  1012,  2070,\n",
       "          1997,  2068,  2089,  2031,  2058, 18908,  2098,  1037,  2978,  1006,\n",
       "          2821,  1010,  2074,  1037, 16776, 15488, 13623,  2078,   999,  1007,\n",
       "          1010,  2021,  2087,  1997,  2068,  2024,  5121,  4569,  2000,  3422,\n",
       "          2175,  2125,  1012,  1996,  3459,  2003,  5636,  3973,  7578,  1998,\n",
       "         13970, 12269,  2000,  1996, 16587,  2005,  2008,  1012,  1996,  2048,\n",
       "          2690,  1011,  4793,  2317,  2308,  1010,  2174,  1010,  2024,  2048,\n",
       "          1997,  1996,  2087,  8741,  3993,  1010, 24379,  3494,  2144,  1996,\n",
       "          4497, 13106,  1999,  1996,  5796,  2102,  2509,  2243,  4438,  1000,\n",
       "          1996, 26128,  2158,  1012,  1000,  2074,  3422,  2068,  2156, 10760,\n",
       "          2012,  2035,  1996,  2060,  3494,  1010,  2009,  1005,  1055,  4569,\n",
       "           999,  1999,  5494,  1010,  1996,  2132, 26775, 20668,  2121,  2089,\n",
       "          2025,  2468,  1037,  5469, 12696,  2006,  1037, 11968,  2007,  4463,\n",
       "         29536,  2953, 21030,  2015,  1010,  2745, 13854,  2030, 19343, 27823,\n",
       "          1006,  2030,  2130,  1996,  3393, 28139,  7507,  4609,  1007,  1010,\n",
       "          2021,  2057,  2064,  5791,  2360,  2023,  1012,  1012,  1012,  2023,\n",
       "          2001,   102]),\n",
       " 'attention_mask': tensor([1, 1, 1, 1, 1, 1, 1, 1, 1, 1, 1, 1, 1, 1, 1, 1, 1, 1, 1, 1, 1, 1, 1, 1,\n",
       "         1, 1, 1, 1, 1, 1, 1, 1, 1, 1, 1, 1, 1, 1, 1, 1, 1, 1, 1, 1, 1, 1, 1, 1,\n",
       "         1, 1, 1, 1, 1, 1, 1, 1, 1, 1, 1, 1, 1, 1, 1, 1, 1, 1, 1, 1, 1, 1, 1, 1,\n",
       "         1, 1, 1, 1, 1, 1, 1, 1, 1, 1, 1, 1, 1, 1, 1, 1, 1, 1, 1, 1, 1, 1, 1, 1,\n",
       "         1, 1, 1, 1, 1, 1, 1, 1, 1, 1, 1, 1, 1, 1, 1, 1, 1, 1, 1, 1, 1, 1, 1, 1,\n",
       "         1, 1, 1, 1, 1, 1, 1, 1, 1, 1, 1, 1, 1, 1, 1, 1, 1, 1, 1, 1, 1, 1, 1, 1,\n",
       "         1, 1, 1, 1, 1, 1, 1, 1, 1, 1, 1, 1, 1, 1, 1, 1, 1, 1, 1, 1, 1, 1, 1, 1,\n",
       "         1, 1, 1, 1, 1, 1, 1, 1, 1, 1, 1, 1, 1, 1, 1, 1, 1, 1, 1, 1, 1, 1, 1, 1,\n",
       "         1, 1, 1, 1, 1, 1, 1, 1, 1, 1, 1, 1, 1, 1, 1, 1, 1, 1, 1, 1, 1, 1, 1, 1,\n",
       "         1, 1, 1, 1, 1, 1, 1, 1, 1, 1, 1, 1, 1, 1, 1, 1, 1, 1, 1, 1, 1, 1, 1, 1,\n",
       "         1, 1, 1, 1, 1, 1, 1, 1, 1, 1, 1, 1, 1, 1, 1, 1, 1, 1, 1, 1, 1, 1, 1, 1,\n",
       "         1, 1, 1, 1, 1, 1, 1, 1, 1, 1, 1, 1, 1, 1, 1, 1, 1, 1, 1, 1, 1, 1, 1, 1,\n",
       "         1, 1, 1, 1, 1, 1, 1, 1, 1, 1, 1, 1, 1, 1, 1, 1, 1, 1, 1, 1, 1, 1, 1, 1,\n",
       "         1, 1, 1, 1, 1, 1, 1, 1, 1, 1, 1, 1, 1, 1, 1, 1, 1, 1, 1, 1, 1, 1, 1, 1,\n",
       "         1, 1, 1, 1, 1, 1, 1, 1, 1, 1, 1, 1, 1, 1, 1, 1, 1, 1, 1, 1, 1, 1, 1, 1,\n",
       "         1, 1, 1, 1, 1, 1, 1, 1, 1, 1, 1, 1, 1, 1, 1, 1, 1, 1, 1, 1, 1, 1, 1, 1,\n",
       "         1, 1, 1, 1, 1, 1, 1, 1, 1, 1, 1, 1, 1, 1, 1, 1, 1, 1, 1, 1, 1, 1, 1, 1,\n",
       "         1, 1, 1, 1, 1, 1, 1, 1, 1, 1, 1, 1, 1, 1, 1, 1, 1, 1, 1, 1, 1, 1, 1, 1,\n",
       "         1, 1, 1, 1, 1, 1, 1, 1, 1, 1, 1, 1, 1, 1, 1, 1, 1, 1, 1, 1, 1, 1, 1, 1,\n",
       "         1, 1, 1, 1, 1, 1, 1, 1, 1, 1, 1, 1, 1, 1, 1, 1, 1, 1, 1, 1, 1, 1, 1, 1,\n",
       "         1, 1, 1, 1, 1, 1, 1, 1, 1, 1, 1, 1, 1, 1, 1, 1, 1, 1, 1, 1, 1, 1, 1, 1,\n",
       "         1, 1, 1, 1, 1, 1, 1, 1]),\n",
       " 'targets': tensor(0)}"
      ]
     },
     "execution_count": 18,
     "metadata": {},
     "output_type": "execute_result"
    }
   ],
   "source": [
    "train_dataset[5]"
   ]
  },
  {
   "cell_type": "markdown",
   "metadata": {
    "id": "waGWt-gMczWy"
   },
   "source": [
    "## Wrapping Dataset with DataLoader\n",
    "dataloader can be ragarded as a wrapped iterator for bucketize dataset to mini batches  "
   ]
  },
  {
   "cell_type": "code",
   "execution_count": 19,
   "metadata": {
    "executionInfo": {
     "elapsed": 3,
     "status": "ok",
     "timestamp": 1628474060834,
     "user": {
      "displayName": "Yu-Tung Chen",
      "photoUrl": "https://lh3.googleusercontent.com/a-/AOh14GiMuaKuz0WgIC-aXhdtrN4d2i2TMTmbVjp77aV9Yg=s64",
      "userId": "08519592307753464104"
     },
     "user_tz": -480
    },
    "id": "6TCPahp5athG"
   },
   "outputs": [],
   "source": [
    "train_dataloader = DataLoader(dataset=train_dataset,  batch_size=BATCH_SIZE, shuffle=True)\n",
    "val_dataloader = DataLoader(dataset=val_dataset,  batch_size=BATCH_SIZE, shuffle=True)"
   ]
  },
  {
   "cell_type": "markdown",
   "metadata": {
    "id": "KK2hD8vLbeVE"
   },
   "source": [
    "## Example for raw BERT usage\n",
    "\n",
    "BERT has two kinds output \n",
    "  * pooler output : mostly used, for classification and regression\n",
    "  * sequence output : for NLI (Natural Language Interaction)"
   ]
  },
  {
   "cell_type": "code",
   "execution_count": 20,
   "metadata": {
    "colab": {
     "base_uri": "https://localhost:8080/",
     "height": 186,
     "referenced_widgets": [
      "ea52cb14ec2a451eb5c26b8de39b096b",
      "3cdc09e992384dca912ff6437cbd36cc",
      "f84d641e492b49c0a1a0ffec709a8196",
      "15b5be3cecca4f1d8db1145d5f66fe62",
      "f3ff2d5e819744b193bdcedf1256d4dc",
      "d8f7115a69284379b8107e765a8dfe0a",
      "1186877a88104fe582bb4fe5a6c8908f",
      "2d2e0b48ede74c208fe9fc437770ae16",
      "39642bfdd6ec4d7b9486bde0fd32bbbd",
      "eae362fd0f7b4ccfa1438876bb9c5af5",
      "821c0ce60e334b4dac7918c334f8f2d2",
      "2314c7cf0a2843e093e6f02a8beb7b6c",
      "e294d26f42064ed5bd47a099b951e698",
      "7fd6f3cc6e4346fbbf7c02f88f581e31",
      "704b661a09b84f35a580e80532de1451",
      "e2c39dede5544e29962abab5c27b0e6c"
     ]
    },
    "executionInfo": {
     "elapsed": 26951,
     "status": "ok",
     "timestamp": 1628474090026,
     "user": {
      "displayName": "Yu-Tung Chen",
      "photoUrl": "https://lh3.googleusercontent.com/a-/AOh14GiMuaKuz0WgIC-aXhdtrN4d2i2TMTmbVjp77aV9Yg=s64",
      "userId": "08519592307753464104"
     },
     "user_tz": -480
    },
    "id": "U-pHg9rSatl7",
    "outputId": "eb4519dc-9cd1-49cf-81ac-3b326a1007a5"
   },
   "outputs": [
    {
     "name": "stderr",
     "output_type": "stream",
     "text": [
      "Some weights of the model checkpoint at bert-base-cased were not used when initializing BertModel: ['cls.predictions.transform.LayerNorm.weight', 'cls.predictions.bias', 'cls.predictions.decoder.weight', 'cls.predictions.transform.dense.weight', 'cls.seq_relationship.weight', 'cls.predictions.transform.dense.bias', 'cls.predictions.transform.LayerNorm.bias', 'cls.seq_relationship.bias']\n",
      "- This IS expected if you are initializing BertModel from the checkpoint of a model trained on another task or with another architecture (e.g. initializing a BertForSequenceClassification model from a BertForPreTraining model).\n",
      "- This IS NOT expected if you are initializing BertModel from the checkpoint of a model that you expect to be exactly identical (initializing a BertForSequenceClassification model from a BertForSequenceClassification model).\n"
     ]
    }
   ],
   "source": [
    "bert_model = BertModel.from_pretrained(PRE_TRAINED_MODEL_NAME)"
   ]
  },
  {
   "cell_type": "code",
   "execution_count": 21,
   "metadata": {
    "executionInfo": {
     "elapsed": 7,
     "status": "ok",
     "timestamp": 1628474090027,
     "user": {
      "displayName": "Yu-Tung Chen",
      "photoUrl": "https://lh3.googleusercontent.com/a-/AOh14GiMuaKuz0WgIC-aXhdtrN4d2i2TMTmbVjp77aV9Yg=s64",
      "userId": "08519592307753464104"
     },
     "user_tz": -480
    },
    "id": "9SFyPXk4atoK"
   },
   "outputs": [],
   "source": [
    "s = 'Congratulations!That is a such great news for you!'\n",
    "encoding = tokenizer.encode_plus(\n",
    "    text = s,  # Preprocess sentence\n",
    "    add_special_tokens = True,        # Add `[CLS]` and `[SEP]`\n",
    "    max_length = 20,                  # Max length to truncate/pad\n",
    "    padding = 'max_length',         # Pad sentence to max length\n",
    "    return_tensors = 'pt',           # Return PyTorch tensor\n",
    "    return_attention_mask = True      # Return attention mask\n",
    "    )"
   ]
  },
  {
   "cell_type": "code",
   "execution_count": 22,
   "metadata": {
    "colab": {
     "base_uri": "https://localhost:8080/"
    },
    "executionInfo": {
     "elapsed": 589,
     "status": "ok",
     "timestamp": 1628474090611,
     "user": {
      "displayName": "Yu-Tung Chen",
      "photoUrl": "https://lh3.googleusercontent.com/a-/AOh14GiMuaKuz0WgIC-aXhdtrN4d2i2TMTmbVjp77aV9Yg=s64",
      "userId": "08519592307753464104"
     },
     "user_tz": -480
    },
    "id": "cclHG5BlatqH",
    "outputId": "07289898-01fa-4a07-bdc6-dc1528cf48b0"
   },
   "outputs": [
    {
     "name": "stdout",
     "output_type": "stream",
     "text": [
      "I am a cool object and you can access my elements with o.last_hidden_state, o[\"last_hidden_state\"] or even o[0]. My keys are: odict_keys(['last_hidden_state', 'pooler_output', 'hidden_states', 'attentions']) \n",
      "last hidden state shape : torch.Size([1, 20, 768])\n"
     ]
    }
   ],
   "source": [
    "o = bert_model(\n",
    "  input_ids=encoding['input_ids'],\n",
    "  attention_mask=encoding['attention_mask'],\n",
    "  output_hidden_states=True,\n",
    "  output_attentions=True\n",
    ")\n",
    "\n",
    "print('I am a cool object and you can access my elements with o.last_hidden_state, o[\"last_hidden_state\"] or even o[0]. My keys are: {} '.format(o.keys()))\n",
    "print('last hidden state shape : {}'.format(o.last_hidden_state.shape))"
   ]
  },
  {
   "cell_type": "code",
   "execution_count": 23,
   "metadata": {
    "colab": {
     "base_uri": "https://localhost:8080/"
    },
    "executionInfo": {
     "elapsed": 6,
     "status": "ok",
     "timestamp": 1628474090611,
     "user": {
      "displayName": "Yu-Tung Chen",
      "photoUrl": "https://lh3.googleusercontent.com/a-/AOh14GiMuaKuz0WgIC-aXhdtrN4d2i2TMTmbVjp77aV9Yg=s64",
      "userId": "08519592307753464104"
     },
     "user_tz": -480
    },
    "id": "0NUTB6faj71d",
    "outputId": "9d02de74-8d33-4fca-9452-00a718639af8"
   },
   "outputs": [
    {
     "data": {
      "text/plain": [
       "torch.Size([1, 768])"
      ]
     },
     "execution_count": 23,
     "metadata": {},
     "output_type": "execute_result"
    }
   ],
   "source": [
    "o['last_hidden_state'][:, 0, :].shape"
   ]
  },
  {
   "cell_type": "markdown",
   "metadata": {
    "id": "5MDyL4wMbp1o"
   },
   "source": [
    "## Define BERT Classifier architecture\n",
    "\n",
    "If we want to get classified prediction from BERT, except raw BERT model, we needs to define a **Feed-Forward Neural Network** and dense layer additionally. "
   ]
  },
  {
   "cell_type": "code",
   "execution_count": 24,
   "metadata": {
    "executionInfo": {
     "elapsed": 4,
     "status": "ok",
     "timestamp": 1628474090612,
     "user": {
      "displayName": "Yu-Tung Chen",
      "photoUrl": "https://lh3.googleusercontent.com/a-/AOh14GiMuaKuz0WgIC-aXhdtrN4d2i2TMTmbVjp77aV9Yg=s64",
      "userId": "08519592307753464104"
     },
     "user_tz": -480
    },
    "id": "DVN1x6YMatsX"
   },
   "outputs": [],
   "source": [
    "# Create the BertClassfier class\n",
    "class BertClassifier(nn.Module):\n",
    "    \"\"\"Bert Model for Classification Tasks.\n",
    "    \"\"\"\n",
    "    def __init__(self, n_classes, freeze_bert=True):\n",
    "        \"\"\"\n",
    "        @param    bert: a BertModel object\n",
    "        @param    classifier: a torch.nn.Module classifier\n",
    "        @param    freeze_bert (bool): Set `False` to fine-tune the BERT model\n",
    "        \"\"\"\n",
    "        super(BertClassifier, self).__init__()\n",
    "\n",
    "        # Specify hidden size of BERT, hidden size of our classifier, and number of labels\n",
    "        D_in, H, D_out = 768, 50, n_classes\n",
    "\n",
    "        # Instantiate BERT model\n",
    "        self.bert = BertModel.from_pretrained('bert-base-uncased')\n",
    "\n",
    "        # Instantiate an one-layer feed-forward classifier\n",
    "        self.classifier = nn.Sequential(\n",
    "            nn.Linear(D_in, H),\n",
    "            nn.ReLU(),\n",
    "            #nn.Dropout(0.5),\n",
    "            nn.Linear(H, D_out)\n",
    "        )\n",
    "\n",
    "        # Freeze the BERT model, to freeze part of your model and train the rest\n",
    "        if freeze_bert:\n",
    "            for param in self.bert.parameters():\n",
    "                param.requires_grad = False\n",
    "        \n",
    "    def forward(self, input_ids, attention_mask):\n",
    "        \"\"\"\n",
    "        Feed input to BERT and the classifier to compute logits.\n",
    "        @param    input_ids (torch.Tensor): an input tensor with shape (batch_size,\n",
    "                      max_length)\n",
    "        @param    attention_mask (torch.Tensor): a tensor that hold attention mask\n",
    "                      information with shape (batch_size, max_length)\n",
    "        @return   logits (torch.Tensor): an output tensor with shape (batch_size,\n",
    "                      num_labels)\n",
    "        \"\"\"\n",
    "        # Feed input to BERT\n",
    "        outputs = self.bert(input_ids=input_ids,\n",
    "                            attention_mask=attention_mask)\n",
    "        # output = self.drop(outputs.pooler_output)\n",
    "        # output = self.out(outputs)\n",
    "\n",
    "        # Extract the last hidden state of the token `[CLS]` for classification task\n",
    "        last_hidden_state_cls = outputs['last_hidden_state'][:, 0, :]\n",
    "\n",
    "        # Feed input to classifier to compute logits\n",
    "        logits = self.classifier(last_hidden_state_cls)\n",
    "\n",
    "        return logits"
   ]
  },
  {
   "cell_type": "markdown",
   "metadata": {
    "id": "cwkZg-xlyp73"
   },
   "source": [
    "## BERT Classifier Usage Example (without fine-tuning)"
   ]
  },
  {
   "cell_type": "code",
   "execution_count": 25,
   "metadata": {
    "colab": {
     "base_uri": "https://localhost:8080/",
     "height": 137,
     "referenced_widgets": [
      "db60108b02b14944b42c11a0ad906098",
      "5e76175e36f0407986f8b141f128deca",
      "868a4e3c7c8a4d3f8d3c6c5b3967b57d",
      "c3ff258dbd3a428d804e526b48682b0a",
      "e508b7d0401246a3952d1b90a99008e2",
      "0d0b398ea2e64bf9b56004a71458282a",
      "6f634054c3a244a7aaff23e556f2020d",
      "97c517a9ea234f0986fd384279b440f1"
     ]
    },
    "executionInfo": {
     "elapsed": 39536,
     "status": "ok",
     "timestamp": 1628474130145,
     "user": {
      "displayName": "Yu-Tung Chen",
      "photoUrl": "https://lh3.googleusercontent.com/a-/AOh14GiMuaKuz0WgIC-aXhdtrN4d2i2TMTmbVjp77aV9Yg=s64",
      "userId": "08519592307753464104"
     },
     "user_tz": -480
    },
    "id": "ufF4W2vwatvA",
    "outputId": "49e4fb64-0ff7-4b1f-b06e-5802cf095921"
   },
   "outputs": [
    {
     "name": "stderr",
     "output_type": "stream",
     "text": [
      "Some weights of the model checkpoint at bert-base-uncased were not used when initializing BertModel: ['cls.predictions.transform.LayerNorm.weight', 'cls.predictions.bias', 'cls.predictions.decoder.weight', 'cls.predictions.transform.dense.weight', 'cls.seq_relationship.weight', 'cls.predictions.transform.dense.bias', 'cls.predictions.transform.LayerNorm.bias', 'cls.seq_relationship.bias']\n",
      "- This IS expected if you are initializing BertModel from the checkpoint of a model trained on another task or with another architecture (e.g. initializing a BertForSequenceClassification model from a BertForPreTraining model).\n",
      "- This IS NOT expected if you are initializing BertModel from the checkpoint of a model that you expect to be exactly identical (initializing a BertForSequenceClassification model from a BertForSequenceClassification model).\n"
     ]
    }
   ],
   "source": [
    "model1 = BertClassifier(num_labels, freeze_bert=True)\n",
    "model1 = model1.to(device)"
   ]
  },
  {
   "cell_type": "code",
   "execution_count": 26,
   "metadata": {
    "colab": {
     "base_uri": "https://localhost:8080/"
    },
    "executionInfo": {
     "elapsed": 25,
     "status": "ok",
     "timestamp": 1628474130150,
     "user": {
      "displayName": "Yu-Tung Chen",
      "photoUrl": "https://lh3.googleusercontent.com/a-/AOh14GiMuaKuz0WgIC-aXhdtrN4d2i2TMTmbVjp77aV9Yg=s64",
      "userId": "08519592307753464104"
     },
     "user_tz": -480
    },
    "id": "VC2IWZHuat3f",
    "outputId": "2e6bd92d-ce72-4d9b-d523-015b8e37cbae"
   },
   "outputs": [
    {
     "name": "stdout",
     "output_type": "stream",
     "text": [
      "torch.Size([1, 20])\n",
      "torch.Size([1, 20])\n"
     ]
    }
   ],
   "source": [
    "input_ids = encoding['input_ids'].to(device)\n",
    "attention_mask = encoding['attention_mask'].to(device)\n",
    "\n",
    "print(input_ids.shape)\n",
    "print(attention_mask.shape)"
   ]
  },
  {
   "cell_type": "code",
   "execution_count": 27,
   "metadata": {
    "colab": {
     "base_uri": "https://localhost:8080/"
    },
    "executionInfo": {
     "elapsed": 17,
     "status": "ok",
     "timestamp": 1628474130151,
     "user": {
      "displayName": "Yu-Tung Chen",
      "photoUrl": "https://lh3.googleusercontent.com/a-/AOh14GiMuaKuz0WgIC-aXhdtrN4d2i2TMTmbVjp77aV9Yg=s64",
      "userId": "08519592307753464104"
     },
     "user_tz": -480
    },
    "id": "DzV9PfvsjplW",
    "outputId": "c37d879e-83dd-4fa4-9ad8-139ba5ef0a63"
   },
   "outputs": [
    {
     "name": "stdout",
     "output_type": "stream",
     "text": [
      "classifier.0.weight\n",
      "classifier.0.bias\n",
      "classifier.2.weight\n",
      "classifier.2.bias\n"
     ]
    }
   ],
   "source": [
    "for name, param in model1.named_parameters():                \n",
    "    if param.requires_grad:\n",
    "        print(name)"
   ]
  },
  {
   "cell_type": "markdown",
   "metadata": {
    "id": "eDMoAvutb6CE"
   },
   "source": [
    "## Optimizer & Learning Rate Scheduler\n",
    "\n",
    "Optimizer is for fine-tune BERT Classifier, the authors recommend following hyper-parameters:\n",
    "\n",
    "* Batch size: 16 or 32 \n",
    "* Learning rate (Adam): 5e-5, 3e-5 or 2e-5 \n",
    "* Number of epochs: 2, 3, 4\n",
    "\n",
    "\n",
    "What is Optimizer?\n",
    "\n",
    "![](https://forums.fast.ai/uploads/default/original/1X/43a48f3ba8b0ace15c574f3a20a31e8eaf1396ed.png)"
   ]
  },
  {
   "cell_type": "code",
   "execution_count": 28,
   "metadata": {
    "executionInfo": {
     "elapsed": 9,
     "status": "ok",
     "timestamp": 1628474130151,
     "user": {
      "displayName": "Yu-Tung Chen",
      "photoUrl": "https://lh3.googleusercontent.com/a-/AOh14GiMuaKuz0WgIC-aXhdtrN4d2i2TMTmbVjp77aV9Yg=s64",
      "userId": "08519592307753464104"
     },
     "user_tz": -480
    },
    "id": "fkyWEEQaHIGc"
   },
   "outputs": [],
   "source": [
    "# def initialize_model_from_custom(n_classes, lr, eps, epochs):\n",
    "#     \"\"\"Initialize the Bert Classifier, the optimizer and the learning rate scheduler.\n",
    "#     \"\"\"\n",
    "#     # Instantiate Bert Classifier\n",
    "# #     bert_classifier = BertClassifier(n_classes, freeze_bert=True)\n",
    "#     bert_classifier = BiGRU\n",
    "\n",
    "#     # Tell PyTorch to run the model on GPU\n",
    "#     bert_classifier.to(device)\n",
    "\n",
    "#     # Create the optimizer\n",
    "#     optimizer = AdamW(bert_classifier.parameters(),\n",
    "#                       lr=lr,    \n",
    "#                       eps=eps,\n",
    "#                       # correct_bias=False    \n",
    "#                       )\n",
    "\n",
    "#     loss_fn = nn.CrossEntropyLoss().to(device)\n",
    "\n",
    "#     loss_fn = loss_fn.to(device)\n",
    "    \n",
    "#     return bert_classifier, optimizer, loss_fn"
   ]
  },
  {
   "cell_type": "code",
   "execution_count": 29,
   "metadata": {
    "colab": {
     "base_uri": "https://localhost:8080/"
    },
    "executionInfo": {
     "elapsed": 2217,
     "status": "ok",
     "timestamp": 1628474132360,
     "user": {
      "displayName": "Yu-Tung Chen",
      "photoUrl": "https://lh3.googleusercontent.com/a-/AOh14GiMuaKuz0WgIC-aXhdtrN4d2i2TMTmbVjp77aV9Yg=s64",
      "userId": "08519592307753464104"
     },
     "user_tz": -480
    },
    "id": "UCun7SXJHuJj",
    "outputId": "de2ee865-d0e3-4585-a665-2984ffd2bd62"
   },
   "outputs": [],
   "source": [
    "# model, optimizer, loss_fn = initialize_model_from_custom(num_labels, lr=5e-5, eps=1e-8, epochs=EPOCHS)"
   ]
  },
  {
   "cell_type": "markdown",
   "metadata": {
    "id": "JDgjsUTwgQes"
   },
   "source": [
    "## Define metric \n",
    "for calculating accuracy and evaluation that applied on training and evaluation epochs"
   ]
  },
  {
   "cell_type": "code",
   "execution_count": 30,
   "metadata": {
    "executionInfo": {
     "elapsed": 3,
     "status": "ok",
     "timestamp": 1628474193549,
     "user": {
      "displayName": "Yu-Tung Chen",
      "photoUrl": "https://lh3.googleusercontent.com/a-/AOh14GiMuaKuz0WgIC-aXhdtrN4d2i2TMTmbVjp77aV9Yg=s64",
      "userId": "08519592307753464104"
     },
     "user_tz": -480
    },
    "id": "xbEDsd5ZD4Ll"
   },
   "outputs": [],
   "source": [
    "def flat_accuracy(preds, labels):\n",
    "    pred_flat = np.argmax(preds, axis=1).flatten()\n",
    "    labels_flat = labels.flatten()\n",
    "    return np.sum(pred_flat == labels_flat) / len(labels_flat)\n",
    "\n",
    "def binary_accuracy(preds, y):\n",
    "    #round predictions to the closest integer\n",
    "    rounded_preds = torch.round(torch.sigmoid(preds))\n",
    "    correct = (rounded_preds == y).float() #convert into float for division \n",
    "    acc = correct.sum() / len(correct)\n",
    "    return acc"
   ]
  },
  {
   "cell_type": "code",
   "execution_count": 31,
   "metadata": {
    "colab": {
     "base_uri": "https://localhost:8080/"
    },
    "executionInfo": {
     "elapsed": 5,
     "status": "ok",
     "timestamp": 1628474194857,
     "user": {
      "displayName": "Yu-Tung Chen",
      "photoUrl": "https://lh3.googleusercontent.com/a-/AOh14GiMuaKuz0WgIC-aXhdtrN4d2i2TMTmbVjp77aV9Yg=s64",
      "userId": "08519592307753464104"
     },
     "user_tz": -480
    },
    "id": "KiyMlRQk0lVl",
    "outputId": "bcd9c5e8-9ed4-4c84-978a-7d12b9c2aa68"
   },
   "outputs": [
    {
     "data": {
      "text/plain": [
       "1.0"
      ]
     },
     "execution_count": 31,
     "metadata": {},
     "output_type": "execute_result"
    }
   ],
   "source": [
    "flat_accuracy(np.array([[0, 1]]), np.array([[1, 1]]))"
   ]
  },
  {
   "cell_type": "markdown",
   "metadata": {},
   "source": [
    "### Use BertForSeqenceClassification as model"
   ]
  },
  {
   "cell_type": "code",
   "execution_count": 32,
   "metadata": {
    "executionInfo": {
     "elapsed": 2,
     "status": "ok",
     "timestamp": 1628474195127,
     "user": {
      "displayName": "Yu-Tung Chen",
      "photoUrl": "https://lh3.googleusercontent.com/a-/AOh14GiMuaKuz0WgIC-aXhdtrN4d2i2TMTmbVjp77aV9Yg=s64",
      "userId": "08519592307753464104"
     },
     "user_tz": -480
    },
    "id": "l3UpL30b5BEu"
   },
   "outputs": [],
   "source": [
    "def initialize_model_from_default(n_classes, lr, eps, epochs):\n",
    "    \"\"\"Initialize the Bert Classifier, the optimizer and the learning rate scheduler.\n",
    "    \"\"\"\n",
    "    # Instantiate BertForSequenceClassification model\n",
    "    \n",
    "    config = BertConfig.from_pretrained(\"bert-base-uncased\", num_labels=num_labels)\n",
    "    model = BertForSequenceClassification.from_pretrained(\"bert-base-uncased\",\n",
    "                                                                    config=config)\n",
    "    for param in model.base_model.parameters():\n",
    "        param.requires_grad = False\n",
    "\n",
    "    # Tell PyTorch to run the model on GPU\n",
    "    model.to(device)\n",
    "\n",
    "    # Create the optimizer\n",
    "    optimizer = AdamW(model.parameters(),\n",
    "                      lr=lr,    \n",
    "                      eps=eps,\n",
    "                      # correct_bias=False    \n",
    "                      )\n",
    "    \n",
    "    return model, optimizer\n",
    "\n",
    "def train(bert_classifier, train_dataloader, optimizer, scheduler):\n",
    "    \n",
    "    num_training_steps = 1 * len(train_dataloader)\n",
    "\n",
    "    progress_bar = tqdm(range(num_training_steps))\n",
    "\n",
    "    total_train_loss = []\n",
    "    total_train_accuracy = 0\n",
    "\n",
    "    size = len(train_dataloader)\n",
    "\n",
    "    bert_classifier.train()\n",
    "\n",
    "    for batch in train_dataloader:\n",
    "\n",
    "        optimizer.zero_grad() # clears old gradients from the last step (otherwise you’d just accumulate the gradients from all loss.backward() calls).\n",
    "\n",
    "        input_ids = batch[\"input_ids\"].to(device)\n",
    "        attention_mask = batch[\"attention_mask\"].to(device)\n",
    "        targets = batch[\"targets\"].to(device)\n",
    "\n",
    "        outputs = bert_classifier(input_ids, \n",
    "                    attention_mask=attention_mask, \n",
    "                    labels=targets)\n",
    "\n",
    "        loss, logits = outputs.loss, outputs.logits\n",
    "#         print(loss.dtype)\n",
    "#         print(logits.dtype)\n",
    "        predictions = torch.argmax(logits, dim=-1)\n",
    "\n",
    "        total_train_accuracy += binary_accuracy(predictions, targets)\n",
    "\n",
    "        total_train_loss.append(loss.detach().cpu().numpy())\n",
    "\n",
    "        loss.to(torch.float64).backward() # start backpropagation, derivative of the parameters\n",
    "\n",
    "        torch.nn.utils.clip_grad_norm_(bert_classifier.parameters(), 1.0) # clip the norm of the gradients to 1.0 to prevent \"exploding gradients\"\n",
    "\n",
    "        optimizer.step() # update parameters and the learning rate\n",
    "        scheduler.step()\n",
    "\n",
    "        progress_bar.update(1)\n",
    "\n",
    "        \n",
    "    return total_train_accuracy / size, np.mean(np.array(total_train_loss))\n",
    "\n",
    "def eval_model(bert_classifier, val_dataloader, optimizer, scheduler):\n",
    "    \n",
    "    num_validation_steps = 1 * len(val_dataloader)\n",
    "\n",
    "    progress_bar = tqdm(range(num_validation_steps))\n",
    "\n",
    "    total_val_loss = []\n",
    "    total_val_accuracy = 0\n",
    "\n",
    "    size = len(val_dataloader)\n",
    "\n",
    "    bert_classifier.eval()\n",
    "\n",
    "    for batch in val_dataloader:\n",
    "\n",
    "        input_ids = batch[\"input_ids\"].to(device)\n",
    "        attention_mask = batch[\"attention_mask\"].to(device)\n",
    "        targets = batch[\"targets\"].to(device)\n",
    "\n",
    "        with torch.no_grad(): \n",
    "            outputs = bert_classifier(input_ids, \n",
    "                        attention_mask=attention_mask, \n",
    "                        labels=targets)\n",
    "\n",
    "        loss, logits = outputs.loss, outputs.logits\n",
    "\n",
    "        predictions = torch.argmax(logits, dim=-1)\n",
    "\n",
    "        total_val_accuracy += binary_accuracy(predictions, targets)\n",
    "\n",
    "        total_val_loss.append(loss.detach().cpu().numpy())\n",
    "\n",
    "        progress_bar.update(1)\n",
    "\n",
    "        \n",
    "    return total_val_accuracy / size, np.mean(np.array(total_val_loss))"
   ]
  },
  {
   "cell_type": "code",
   "execution_count": 33,
   "metadata": {},
   "outputs": [
    {
     "name": "stderr",
     "output_type": "stream",
     "text": [
      "Some weights of the model checkpoint at bert-base-uncased were not used when initializing BertForSequenceClassification: ['cls.predictions.transform.LayerNorm.weight', 'cls.predictions.bias', 'cls.predictions.decoder.weight', 'cls.predictions.transform.dense.weight', 'cls.seq_relationship.weight', 'cls.predictions.transform.dense.bias', 'cls.predictions.transform.LayerNorm.bias', 'cls.seq_relationship.bias']\n",
      "- This IS expected if you are initializing BertForSequenceClassification from the checkpoint of a model trained on another task or with another architecture (e.g. initializing a BertForSequenceClassification model from a BertForPreTraining model).\n",
      "- This IS NOT expected if you are initializing BertForSequenceClassification from the checkpoint of a model that you expect to be exactly identical (initializing a BertForSequenceClassification model from a BertForSequenceClassification model).\n",
      "Some weights of BertForSequenceClassification were not initialized from the model checkpoint at bert-base-uncased and are newly initialized: ['classifier.bias', 'classifier.weight']\n",
      "You should probably TRAIN this model on a down-stream task to be able to use it for predictions and inference.\n"
     ]
    }
   ],
   "source": [
    "EPOCHS = 10\n",
    "\n",
    "bert_classifier, optimizer = initialize_model_from_default(num_labels, lr=1e-3, eps=1e-8, epochs=EPOCHS)"
   ]
  },
  {
   "cell_type": "code",
   "execution_count": 34,
   "metadata": {
    "executionInfo": {
     "elapsed": 353,
     "status": "ok",
     "timestamp": 1628474191031,
     "user": {
      "displayName": "Yu-Tung Chen",
      "photoUrl": "https://lh3.googleusercontent.com/a-/AOh14GiMuaKuz0WgIC-aXhdtrN4d2i2TMTmbVjp77aV9Yg=s64",
      "userId": "08519592307753464104"
     },
     "user_tz": -480
    },
    "id": "SHLwOzwrl_rJ"
   },
   "outputs": [
    {
     "name": "stdout",
     "output_type": "stream",
     "text": [
      "total_steps : 24790\n"
     ]
    }
   ],
   "source": [
    "# Total number of training steps\n",
    "total_steps = len(train_dataloader) * EPOCHS\n",
    "print(f\"total_steps : {total_steps}\")\n",
    "\n",
    "# Set up the learning rate scheduler\n",
    "scheduler = get_linear_schedule_with_warmup(optimizer,\n",
    "                      num_warmup_steps=0, \n",
    "                      num_training_steps=total_steps)"
   ]
  },
  {
   "cell_type": "markdown",
   "metadata": {},
   "source": [
    "### Use custom architecture model"
   ]
  },
  {
   "cell_type": "code",
   "execution_count": 35,
   "metadata": {},
   "outputs": [],
   "source": [
    "# def train(bert_classifier, train_dataloader, optimizer, scheduler):\n",
    "    \n",
    "#     num_training_steps = 1 * len(train_dataloader)\n",
    "\n",
    "#     progress_bar = tqdm(range(num_training_steps))\n",
    "\n",
    "#     total_train_loss = []\n",
    "#     total_train_accuracy = 0\n",
    "\n",
    "#     size = len(train_dataloader)\n",
    "\n",
    "#     bert_classifier.train()\n",
    "\n",
    "#     for batch in train_dataloader:\n",
    "\n",
    "#         optimizer.zero_grad() # clears old gradients from the last step (otherwise you’d just accumulate the gradients from all loss.backward() calls).\n",
    "\n",
    "#         input_ids = batch[\"input_ids\"].to(device)\n",
    "#         attention_mask = batch[\"attention_mask\"].to(device)\n",
    "#         targets = batch[\"targets\"].to(device)\n",
    "\n",
    "#         outputs = bert_classifier(input_ids, \n",
    "#                     attention_mask=attention_mask, \n",
    "#                     labels=targets)\n",
    "\n",
    "#         loss, logits = outputs.loss, outputs.logits\n",
    "#         print(loss.dtype)\n",
    "#         print(logits.dtype)\n",
    "#         predictions = torch.argmax(logits, dim=-1)\n",
    "\n",
    "#         total_train_accuracy += binary_accuracy(predictions, targets)\n",
    "\n",
    "#         total_train_loss.append(loss.detach().cpu().numpy())\n",
    "\n",
    "#         loss.to(torch.float64).backward() # start backpropagation, derivative of the parameters\n",
    "\n",
    "#         torch.nn.utils.clip_grad_norm_(bert_classifier.parameters(), 1.0) # clip the norm of the gradients to 1.0 to prevent \"exploding gradients\"\n",
    "\n",
    "#         optimizer.step() # update parameters and the learning rate\n",
    "#         scheduler.step()\n",
    "\n",
    "#         progress_bar.update(1)\n",
    "\n",
    "        \n",
    "#     return total_train_accuracy / size, np.mean(np.array(total_train_loss))\n",
    "\n",
    "# def eval_model(bert_classifier, val_dataloader, optimizer, scheduler):\n",
    "    \n",
    "#     num_validation_steps = 1 * len(val_dataloader)\n",
    "\n",
    "#     progress_bar = tqdm(range(num_validation_steps))\n",
    "\n",
    "#     total_val_loss = []\n",
    "#     total_val_accuracy = 0\n",
    "\n",
    "#     size = len(val_dataloader)\n",
    "\n",
    "#     bert_classifier.eval()\n",
    "\n",
    "#     for batch in val_dataloader:\n",
    "\n",
    "#         input_ids = batch[\"input_ids\"].to(device)\n",
    "#         attention_mask = batch[\"attention_mask\"].to(device)\n",
    "#         targets = batch[\"targets\"].to(device)\n",
    "\n",
    "#         with torch.no_grad(): \n",
    "#             outputs = bert_classifier(input_ids, \n",
    "#                         attention_mask=attention_mask, \n",
    "#                         labels=targets)\n",
    "\n",
    "#         loss, logits = outputs.loss, outputs.logits\n",
    "\n",
    "#         predictions = torch.argmax(logits, dim=-1)\n",
    "\n",
    "#         total_val_accuracy += binary_accuracy(predictions, targets)\n",
    "\n",
    "#         total_val_loss.append(loss.detach().cpu().numpy())\n",
    "\n",
    "#         progress_bar.update(1)\n",
    "\n",
    "        \n",
    "#     return total_val_accuracy / size, np.mean(np.array(total_val_loss))"
   ]
  },
  {
   "cell_type": "code",
   "execution_count": 36,
   "metadata": {
    "colab": {
     "base_uri": "https://localhost:8080/",
     "height": 164,
     "referenced_widgets": [
      "b5af2120b24d46ed9f0c9766e23ca0d5",
      "dbd030694ebf40f781768e3a6c854abb",
      "10e9f0b2bc3c4b23b84c84913620ea4f",
      "38bde11a22054f6a81ba165ef1e1ec09",
      "9c407c0fbd3346378391f19804bc7848",
      "96b322649bc14f70ac15c462a3daab18",
      "667461048ace4be7a9da2c12be7e3c97",
      "3b5f27d4e5da42e2aa8c3ee2ffb9465a",
      "7aaa844697d740aa8eefe604be1bdbd3",
      "8ae8849fe38c4bd9b44413408477a5a1",
      "ab2a86f8fd254ed5b4cd6b115d314d2b",
      "fa738a716ff64be3850e4ce83579b8ff",
      "286e4db25b8543efb1fe12c7b197cad4",
      "ad95c4653918452499002997158c4847",
      "2154f91261ea4ceba1c803e21e2854bb",
      "008720ea9d4949858b82d98ecf635018",
      "fa57fae9dd39494f821b20325ca6a6df",
      "4690db210458439ca95c47d2180b3efd",
      "cbda536bf6594c5395c92a2dada55211",
      "4c46d8acaeea44c8a885ff6ebca7447b",
      "3f7a0b9b99704252b1875ec7a1d0f37a",
      "970f72022f764e24a419d679b023cda2",
      "f4bb05e48df042f5b5447db68c829ffb",
      "e4dc39082e154c74a8da7af4bfc65583"
     ]
    },
    "id": "j3r4a5Wu7l7h",
    "outputId": "e3533770-f015-4947-c188-e12e9a732559"
   },
   "outputs": [
    {
     "data": {
      "application/vnd.jupyter.widget-view+json": {
       "model_id": "f5c9b9bd5fc14d32b29e57a1b65fd821",
       "version_major": 2,
       "version_minor": 0
      },
      "text/plain": [
       "  0%|          | 0/10 [00:00<?, ?it/s]"
      ]
     },
     "metadata": {},
     "output_type": "display_data"
    },
    {
     "name": "stdout",
     "output_type": "stream",
     "text": [
      "Epoch 1/10\n",
      "----------\n"
     ]
    },
    {
     "data": {
      "application/vnd.jupyter.widget-view+json": {
       "model_id": "8ddf3629d00d471484a2c1e90da2a071",
       "version_major": 2,
       "version_minor": 0
      },
      "text/plain": [
       "  0%|          | 0/2479 [00:00<?, ?it/s]"
      ]
     },
     "metadata": {},
     "output_type": "display_data"
    },
    {
     "name": "stdout",
     "output_type": "stream",
     "text": [
      "Train loss 0.5253640413284302 accuracy 0.7381756901741028\n"
     ]
    },
    {
     "data": {
      "application/vnd.jupyter.widget-view+json": {
       "model_id": "f6854774d8da4fe8962d4d19b0042154",
       "version_major": 2,
       "version_minor": 0
      },
      "text/plain": [
       "  0%|          | 0/620 [00:00<?, ?it/s]"
      ]
     },
     "metadata": {},
     "output_type": "display_data"
    },
    {
     "name": "stdout",
     "output_type": "stream",
     "text": [
      "Val   loss 0.41434329748153687 accuracy 0.819385826587677\n",
      "Epoch 2/10\n",
      "----------\n"
     ]
    },
    {
     "data": {
      "application/vnd.jupyter.widget-view+json": {
       "model_id": "47e8d1dfd6a44d9bbab7346caafc4e60",
       "version_major": 2,
       "version_minor": 0
      },
      "text/plain": [
       "  0%|          | 0/2479 [00:00<?, ?it/s]"
      ]
     },
     "metadata": {},
     "output_type": "display_data"
    },
    {
     "name": "stdout",
     "output_type": "stream",
     "text": [
      "Train loss 0.47165635228157043 accuracy 0.7767748832702637\n"
     ]
    },
    {
     "data": {
      "application/vnd.jupyter.widget-view+json": {
       "model_id": "7f60e0da042f4b9c90da77d60a5518ec",
       "version_major": 2,
       "version_minor": 0
      },
      "text/plain": [
       "  0%|          | 0/620 [00:00<?, ?it/s]"
      ]
     },
     "metadata": {},
     "output_type": "display_data"
    },
    {
     "name": "stdout",
     "output_type": "stream",
     "text": [
      "Val   loss 0.4380911588668823 accuracy 0.7931296229362488\n",
      "Epoch 3/10\n",
      "----------\n"
     ]
    },
    {
     "data": {
      "application/vnd.jupyter.widget-view+json": {
       "model_id": "522617169961488fa3dc8c0e503afc53",
       "version_major": 2,
       "version_minor": 0
      },
      "text/plain": [
       "  0%|          | 0/2479 [00:00<?, ?it/s]"
      ]
     },
     "metadata": {},
     "output_type": "display_data"
    },
    {
     "name": "stdout",
     "output_type": "stream",
     "text": [
      "Train loss 0.46316879987716675 accuracy 0.7844140529632568\n"
     ]
    },
    {
     "data": {
      "application/vnd.jupyter.widget-view+json": {
       "model_id": "9eae4df4f2ac4db792a040f78e149e71",
       "version_major": 2,
       "version_minor": 0
      },
      "text/plain": [
       "  0%|          | 0/620 [00:00<?, ?it/s]"
      ]
     },
     "metadata": {},
     "output_type": "display_data"
    },
    {
     "name": "stdout",
     "output_type": "stream",
     "text": [
      "Val   loss 0.38333484530448914 accuracy 0.8316842317581177\n",
      "Epoch 4/10\n",
      "----------\n"
     ]
    },
    {
     "data": {
      "application/vnd.jupyter.widget-view+json": {
       "model_id": "f6d9bfb2ac404538a6b1057c52a5f645",
       "version_major": 2,
       "version_minor": 0
      },
      "text/plain": [
       "  0%|          | 0/2479 [00:00<?, ?it/s]"
      ]
     },
     "metadata": {},
     "output_type": "display_data"
    },
    {
     "name": "stdout",
     "output_type": "stream",
     "text": [
      "Train loss 0.4541630744934082 accuracy 0.787111759185791\n"
     ]
    },
    {
     "data": {
      "application/vnd.jupyter.widget-view+json": {
       "model_id": "a04eea9ffa0647739a2ffef15833dac8",
       "version_major": 2,
       "version_minor": 0
      },
      "text/plain": [
       "  0%|          | 0/620 [00:00<?, ?it/s]"
      ]
     },
     "metadata": {},
     "output_type": "display_data"
    },
    {
     "name": "stdout",
     "output_type": "stream",
     "text": [
      "Val   loss 0.37555065751075745 accuracy 0.8407800197601318\n",
      "Epoch 5/10\n",
      "----------\n"
     ]
    },
    {
     "data": {
      "application/vnd.jupyter.widget-view+json": {
       "model_id": "ba7357f090614136ab5bf1396eaf3b1f",
       "version_major": 2,
       "version_minor": 0
      },
      "text/plain": [
       "  0%|          | 0/2479 [00:00<?, ?it/s]"
      ]
     },
     "metadata": {},
     "output_type": "display_data"
    },
    {
     "name": "stdout",
     "output_type": "stream",
     "text": [
      "Train loss 0.45040684938430786 accuracy 0.7903388142585754\n"
     ]
    },
    {
     "data": {
      "application/vnd.jupyter.widget-view+json": {
       "model_id": "1f2639027f7f4386b809e9dabc93f7f7",
       "version_major": 2,
       "version_minor": 0
      },
      "text/plain": [
       "  0%|          | 0/620 [00:00<?, ?it/s]"
      ]
     },
     "metadata": {},
     "output_type": "display_data"
    },
    {
     "name": "stdout",
     "output_type": "stream",
     "text": [
      "Val   loss 0.3868831396102905 accuracy 0.8270471096038818\n",
      "Epoch 6/10\n",
      "----------\n"
     ]
    },
    {
     "data": {
      "application/vnd.jupyter.widget-view+json": {
       "model_id": "229527623b024b82bf9ebe8627d15d9b",
       "version_major": 2,
       "version_minor": 0
      },
      "text/plain": [
       "  0%|          | 0/2479 [00:00<?, ?it/s]"
      ]
     },
     "metadata": {},
     "output_type": "display_data"
    },
    {
     "name": "stdout",
     "output_type": "stream",
     "text": [
      "Train loss 0.4519652724266052 accuracy 0.7901875972747803\n"
     ]
    },
    {
     "data": {
      "application/vnd.jupyter.widget-view+json": {
       "model_id": "5256538a391f450c93cf454c0827e87a",
       "version_major": 2,
       "version_minor": 0
      },
      "text/plain": [
       "  0%|          | 0/620 [00:00<?, ?it/s]"
      ]
     },
     "metadata": {},
     "output_type": "display_data"
    },
    {
     "name": "stdout",
     "output_type": "stream",
     "text": [
      "Val   loss 0.3671848773956299 accuracy 0.8444090485572815\n",
      "Epoch 7/10\n",
      "----------\n"
     ]
    },
    {
     "data": {
      "application/vnd.jupyter.widget-view+json": {
       "model_id": "2fc3e28bd4584e84982bdbc6e524ce9d",
       "version_major": 2,
       "version_minor": 0
      },
      "text/plain": [
       "  0%|          | 0/2479 [00:00<?, ?it/s]"
      ]
     },
     "metadata": {},
     "output_type": "display_data"
    },
    {
     "name": "stdout",
     "output_type": "stream",
     "text": [
      "Train loss 0.449929416179657 accuracy 0.7907422184944153\n"
     ]
    },
    {
     "data": {
      "application/vnd.jupyter.widget-view+json": {
       "model_id": "60c393b174204693b0a831cfb9ea3839",
       "version_major": 2,
       "version_minor": 0
      },
      "text/plain": [
       "  0%|          | 0/620 [00:00<?, ?it/s]"
      ]
     },
     "metadata": {},
     "output_type": "display_data"
    },
    {
     "name": "stdout",
     "output_type": "stream",
     "text": [
      "Val   loss 0.40125471353530884 accuracy 0.8174394965171814\n",
      "Epoch 8/10\n",
      "----------\n"
     ]
    },
    {
     "data": {
      "application/vnd.jupyter.widget-view+json": {
       "model_id": "06b3cc905829404eb4e252815794c6c9",
       "version_major": 2,
       "version_minor": 0
      },
      "text/plain": [
       "  0%|          | 0/2479 [00:00<?, ?it/s]"
      ]
     },
     "metadata": {},
     "output_type": "display_data"
    },
    {
     "name": "stdout",
     "output_type": "stream",
     "text": [
      "Train loss 0.44497814774513245 accuracy 0.7923305630683899\n"
     ]
    },
    {
     "data": {
      "application/vnd.jupyter.widget-view+json": {
       "model_id": "adbd307810c347228e17ecf3db3ea5b5",
       "version_major": 2,
       "version_minor": 0
      },
      "text/plain": [
       "  0%|          | 0/620 [00:00<?, ?it/s]"
      ]
     },
     "metadata": {},
     "output_type": "display_data"
    },
    {
     "name": "stdout",
     "output_type": "stream",
     "text": [
      "Val   loss 0.36918750405311584 accuracy 0.8405784368515015\n",
      "Epoch 9/10\n",
      "----------\n"
     ]
    },
    {
     "data": {
      "application/vnd.jupyter.widget-view+json": {
       "model_id": "99803ec62b5b4b0d92caed42fe882542",
       "version_major": 2,
       "version_minor": 0
      },
      "text/plain": [
       "  0%|          | 0/2479 [00:00<?, ?it/s]"
      ]
     },
     "metadata": {},
     "output_type": "display_data"
    },
    {
     "name": "stdout",
     "output_type": "stream",
     "text": [
      "Train loss 0.4410138428211212 accuracy 0.7975494265556335\n"
     ]
    },
    {
     "data": {
      "application/vnd.jupyter.widget-view+json": {
       "model_id": "4fada6e00d9b4b03958b6111aa9aee50",
       "version_major": 2,
       "version_minor": 0
      },
      "text/plain": [
       "  0%|          | 0/620 [00:00<?, ?it/s]"
      ]
     },
     "metadata": {},
     "output_type": "display_data"
    },
    {
     "name": "stdout",
     "output_type": "stream",
     "text": [
      "Val   loss 0.3654329478740692 accuracy 0.8434320092201233\n",
      "Epoch 10/10\n",
      "----------\n"
     ]
    },
    {
     "data": {
      "application/vnd.jupyter.widget-view+json": {
       "model_id": "35367f61ddd54750b72ed6d6950e5311",
       "version_major": 2,
       "version_minor": 0
      },
      "text/plain": [
       "  0%|          | 0/2479 [00:00<?, ?it/s]"
      ]
     },
     "metadata": {},
     "output_type": "display_data"
    },
    {
     "name": "stdout",
     "output_type": "stream",
     "text": [
      "Train loss 0.44546833634376526 accuracy 0.7932130098342896\n"
     ]
    },
    {
     "data": {
      "application/vnd.jupyter.widget-view+json": {
       "model_id": "533583c7a9ad4984aa11d2eaadf1c11c",
       "version_major": 2,
       "version_minor": 0
      },
      "text/plain": [
       "  0%|          | 0/620 [00:00<?, ?it/s]"
      ]
     },
     "metadata": {},
     "output_type": "display_data"
    },
    {
     "name": "stdout",
     "output_type": "stream",
     "text": [
      "Val   loss 0.3663272559642792 accuracy 0.8441299796104431\n",
      "CPU times: user 2h 12min 33s, sys: 45min 46s, total: 2h 58min 19s\n",
      "Wall time: 2h 57min 47s\n"
     ]
    }
   ],
   "source": [
    "%%time\n",
    "\n",
    "from collections import defaultdict\n",
    "\n",
    "history = defaultdict(list)\n",
    "best_accuracy = 0\n",
    "\n",
    "for epoch in tqdm(range(EPOCHS)):\n",
    "\n",
    "    print(f'Epoch {epoch + 1}/{EPOCHS}')\n",
    "    print('-' * 10)\n",
    "\n",
    "    train_acc, train_loss = train(bert_classifier, train_dataloader, optimizer, scheduler)\n",
    "    print(f'Train loss {train_loss} accuracy {train_acc}')\n",
    "\n",
    "    val_acc, val_loss = eval_model(bert_classifier, val_dataloader, optimizer, scheduler)\n",
    "    print(f'Val   loss {val_loss} accuracy {val_acc}')\n",
    "\n",
    "    history['train_acc'].append(train_acc)\n",
    "    history['train_loss'].append(train_loss)\n",
    "    history['val_acc'].append(val_acc)\n",
    "    history['val_loss'].append(val_loss)\n",
    "\n",
    "    if val_acc > best_accuracy:\n",
    "        torch.save(bert_classifier.state_dict(), 'best_model_state.pt')\n",
    "        best_accuracy = val_acc"
   ]
  },
  {
   "cell_type": "code",
   "execution_count": 37,
   "metadata": {
    "colab": {
     "base_uri": "https://localhost:8080/",
     "height": 513
    },
    "executionInfo": {
     "elapsed": 335,
     "status": "ok",
     "timestamp": 1628396017366,
     "user": {
      "displayName": "Yu-Tung Chen",
      "photoUrl": "https://lh3.googleusercontent.com/a-/AOh14GiMuaKuz0WgIC-aXhdtrN4d2i2TMTmbVjp77aV9Yg=s64",
      "userId": "08519592307753464104"
     },
     "user_tz": -480
    },
    "id": "mPEKvFeRCp6l",
    "outputId": "e2ba09be-c9d0-4e9d-b863-160cd5b92066"
   },
   "outputs": [
    {
     "data": {
      "image/png": "[encoded data removed]",
      "text/plain": [
       "<Figure size 864x576 with 1 Axes>"
      ]
     },
     "metadata": {
      "needs_background": "light"
     },
     "output_type": "display_data"
    }
   ],
   "source": [
    "plt.plot(history['train_acc'], label='train accuracy')\n",
    "plt.plot(history['val_acc'], label='validation accuracy')\n",
    "\n",
    "plt.title('Training history')\n",
    "plt.ylabel('Accuracy')\n",
    "plt.xlabel('Epoch')\n",
    "plt.legend()\n",
    "plt.ylim([0, 1]);"
   ]
  },
  {
   "cell_type": "markdown",
   "metadata": {
    "id": "jNtqJr7CejOf"
   },
   "source": [
    "### Inference by model"
   ]
  },
  {
   "cell_type": "code",
   "execution_count": 38,
   "metadata": {
    "id": "ZevNcKa7ebMc"
   },
   "outputs": [
    {
     "name": "stdout",
     "output_type": "stream",
     "text": [
      "Prediction : torch.return_types.max(\n",
      "values=tensor([2.1882], device='cuda:0', grad_fn=<MaxBackward0>),\n",
      "indices=tensor([1], device='cuda:0'))\n",
      "Review text: Congratulations!That is a such great news for you!\n",
      "Sentiment  : 1\n"
     ]
    }
   ],
   "source": [
    "# example\n",
    "input_ids = encoding['input_ids'].to(device)\n",
    "attention_mask = encoding['attention_mask'].to(device)\n",
    "output = bert_classifier(input_ids, attention_mask)\n",
    "\n",
    "class_names = [0, 1]\n",
    "\n",
    "prediction = torch.max(output.logits, dim=-1)\n",
    "\n",
    "print(f'Prediction : {prediction}')\n",
    "print(f'Review text: {s}')\n",
    "print(f'Sentiment  : {class_names[prediction.indices]}')"
   ]
  },
  {
   "cell_type": "code",
   "execution_count": 39,
   "metadata": {
    "id": "aG6VbFqqeqUR"
   },
   "outputs": [],
   "source": [
    "def model_inference(bert_classifier, text_lst, max_len, class_names):\n",
    "\n",
    "    result = []\n",
    "\n",
    "    bert_classifier.eval()\n",
    "\n",
    "    for txt in tqdm(text_lst):\n",
    "\n",
    "        # encode text\n",
    "        encoded_sent = tokenizer.encode_plus(\n",
    "            text = txt,  # Preprocess sentence\n",
    "            add_special_tokens = True,        # Add `[CLS]` and `[SEP]`\n",
    "            truncation = True,               # Truncate string\n",
    "            max_length = max_len,      # Max length to truncate/pad\n",
    "            padding = 'max_length',         # Pad sentence to max length\n",
    "            return_tensors = 'pt',           # Return PyTorch tensor\n",
    "            return_attention_mask = True      # Return attention mask\n",
    "            )\n",
    "\n",
    "        input_ids = encoded_sent['input_ids'].to(device)\n",
    "        attention_mask = encoded_sent['attention_mask'].to(device)\n",
    "\n",
    "        output = bert_classifier(input_ids, attention_mask)\n",
    "\n",
    "        prediction = torch.max(output.logits, dim=-1)\n",
    "\n",
    "        result.append(class_names[prediction.indices])\n",
    "\n",
    "    return result"
   ]
  },
  {
   "cell_type": "code",
   "execution_count": 40,
   "metadata": {
    "id": "cgJkhGFJeqio"
   },
   "outputs": [
    {
     "data": {
      "application/vnd.jupyter.widget-view+json": {
       "model_id": "02860c6fb52443e6a358fa8783684671",
       "version_major": 2,
       "version_minor": 0
      },
      "text/plain": [
       "  0%|          | 0/29303 [00:00<?, ?it/s]"
      ]
     },
     "metadata": {},
     "output_type": "display_data"
    },
    {
     "name": "stdout",
     "output_type": "stream",
     "text": [
      "CPU times: user 8min 54s, sys: 2min 21s, total: 11min 16s\n",
      "Wall time: 11min 13s\n"
     ]
    },
    {
     "name": "stderr",
     "output_type": "stream",
     "text": [
      "/home/ytchen/.local/lib/python3.6/site-packages/ipykernel_launcher.py:3: SettingWithCopyWarning: \n",
      "A value is trying to be set on a copy of a slice from a DataFrame.\n",
      "Try using .loc[row_indexer,col_indexer] = value instead\n",
      "\n",
      "See the caveats in the documentation: https://pandas.pydata.org/pandas-docs/stable/user_guide/indexing.html#returning-a-view-versus-a-copy\n",
      "  This is separate from the ipykernel package so we can avoid doing imports until\n"
     ]
    }
   ],
   "source": [
    "%%time\n",
    "train_text = imdb_data['processed_review'].tolist()\n",
    "\n",
    "imdb_data['pred_sentiment'] = model_inference(bert_classifier=bert_classifier, text_lst=train_text, max_len=MAX_LEN, class_names=class_names)"
   ]
  },
  {
   "cell_type": "code",
   "execution_count": 41,
   "metadata": {
    "id": "jP8aO6wcewsE"
   },
   "outputs": [
    {
     "name": "stdout",
     "output_type": "stream",
     "text": [
      "0.7227928881001945\n"
     ]
    },
    {
     "name": "stderr",
     "output_type": "stream",
     "text": [
      "/home/ytchen/.local/lib/python3.6/site-packages/ipykernel_launcher.py:3: SettingWithCopyWarning: \n",
      "A value is trying to be set on a copy of a slice from a DataFrame.\n",
      "Try using .loc[row_indexer,col_indexer] = value instead\n",
      "\n",
      "See the caveats in the documentation: https://pandas.pydata.org/pandas-docs/stable/user_guide/indexing.html#returning-a-view-versus-a-copy\n",
      "  This is separate from the ipykernel package so we can avoid doing imports until\n"
     ]
    }
   ],
   "source": [
    "from sklearn.metrics import accuracy_score, classification_report\n",
    "\n",
    "imdb_data['pred_sentiment'] = imdb_data['pred_sentiment'].astype(np.int8)\n",
    "\n",
    "print(accuracy_score(imdb_data['sentiment'], imdb_data['pred_sentiment']))"
   ]
  },
  {
   "cell_type": "code",
   "execution_count": 42,
   "metadata": {
    "id": "pJpOSWmEexPv"
   },
   "outputs": [
    {
     "data": {
      "application/vnd.jupyter.widget-view+json": {
       "model_id": "fd25dab6eb0e4899acb59da5b5dbf072",
       "version_major": 2,
       "version_minor": 0
      },
      "text/plain": [
       "  0%|          | 0/29341 [00:00<?, ?it/s]"
      ]
     },
     "metadata": {},
     "output_type": "display_data"
    },
    {
     "name": "stdout",
     "output_type": "stream",
     "text": [
      "CPU times: user 8min 55s, sys: 2min 22s, total: 11min 18s\n",
      "Wall time: 11min 14s\n"
     ]
    }
   ],
   "source": [
    "%%time\n",
    "test_text = imdb_test_data['processed_review'].tolist()\n",
    "\n",
    "imdb_test_data['pred_sentiment'] = model_inference(bert_classifier=bert_classifier, text_lst=test_text, max_len=MAX_LEN, class_names=class_names)"
   ]
  },
  {
   "cell_type": "code",
   "execution_count": 43,
   "metadata": {
    "id": "G5-0Xh46exYp"
   },
   "outputs": [
    {
     "name": "stderr",
     "output_type": "stream",
     "text": [
      "/home/ytchen/.local/lib/python3.6/site-packages/pandas/core/frame.py:4308: SettingWithCopyWarning: \n",
      "A value is trying to be set on a copy of a slice from a DataFrame\n",
      "\n",
      "See the caveats in the documentation: https://pandas.pydata.org/pandas-docs/stable/user_guide/indexing.html#returning-a-view-versus-a-copy\n",
      "  errors=errors,\n"
     ]
    }
   ],
   "source": [
    "submission = imdb_test_data[['ID', 'pred_sentiment']]\n",
    "submission.rename({'pred_sentiment':'sentiment'}, axis=1,inplace=True)\n",
    "submission.to_csv(f'{path}/data/{exp_name}_submission.csv', index=0)"
   ]
  },
  {
   "cell_type": "code",
   "execution_count": 44,
   "metadata": {
    "id": "fB7SGS8ge6u6"
   },
   "outputs": [
    {
     "data": {
      "text/html": [
       "<div>\n",
       "<style scoped>\n",
       "    .dataframe tbody tr th:only-of-type {\n",
       "        vertical-align: middle;\n",
       "    }\n",
       "\n",
       "    .dataframe tbody tr th {\n",
       "        vertical-align: top;\n",
       "    }\n",
       "\n",
       "    .dataframe thead th {\n",
       "        text-align: right;\n",
       "    }\n",
       "</style>\n",
       "<table border=\"1\" class=\"dataframe\">\n",
       "  <thead>\n",
       "    <tr style=\"text-align: right;\">\n",
       "      <th></th>\n",
       "      <th>ID</th>\n",
       "      <th>sentiment</th>\n",
       "    </tr>\n",
       "  </thead>\n",
       "  <tbody>\n",
       "    <tr>\n",
       "      <th>0</th>\n",
       "      <td>22622</td>\n",
       "      <td>0</td>\n",
       "    </tr>\n",
       "    <tr>\n",
       "      <th>1</th>\n",
       "      <td>10162</td>\n",
       "      <td>0</td>\n",
       "    </tr>\n",
       "    <tr>\n",
       "      <th>2</th>\n",
       "      <td>17468</td>\n",
       "      <td>0</td>\n",
       "    </tr>\n",
       "    <tr>\n",
       "      <th>3</th>\n",
       "      <td>42579</td>\n",
       "      <td>0</td>\n",
       "    </tr>\n",
       "    <tr>\n",
       "      <th>4</th>\n",
       "      <td>701</td>\n",
       "      <td>0</td>\n",
       "    </tr>\n",
       "    <tr>\n",
       "      <th>...</th>\n",
       "      <td>...</td>\n",
       "      <td>...</td>\n",
       "    </tr>\n",
       "    <tr>\n",
       "      <th>29336</th>\n",
       "      <td>30370</td>\n",
       "      <td>0</td>\n",
       "    </tr>\n",
       "    <tr>\n",
       "      <th>29337</th>\n",
       "      <td>18654</td>\n",
       "      <td>1</td>\n",
       "    </tr>\n",
       "    <tr>\n",
       "      <th>29338</th>\n",
       "      <td>47985</td>\n",
       "      <td>0</td>\n",
       "    </tr>\n",
       "    <tr>\n",
       "      <th>29339</th>\n",
       "      <td>9866</td>\n",
       "      <td>0</td>\n",
       "    </tr>\n",
       "    <tr>\n",
       "      <th>29340</th>\n",
       "      <td>35559</td>\n",
       "      <td>0</td>\n",
       "    </tr>\n",
       "  </tbody>\n",
       "</table>\n",
       "<p>29341 rows × 2 columns</p>\n",
       "</div>"
      ],
      "text/plain": [
       "          ID  sentiment\n",
       "0      22622          0\n",
       "1      10162          0\n",
       "2      17468          0\n",
       "3      42579          0\n",
       "4        701          0\n",
       "...      ...        ...\n",
       "29336  30370          0\n",
       "29337  18654          1\n",
       "29338  47985          0\n",
       "29339   9866          0\n",
       "29340  35559          0\n",
       "\n",
       "[29341 rows x 2 columns]"
      ]
     },
     "execution_count": 44,
     "metadata": {},
     "output_type": "execute_result"
    }
   ],
   "source": [
    "submission"
   ]
  },
  {
   "cell_type": "markdown",
   "metadata": {
    "id": "qDqnyJo5DvQ4"
   },
   "source": [
    "## Reference\n",
    "\n",
    "https://towardsdatascience.com/intuitive-explanation-of-bert-bidirectional-transformers-for-nlp-cdc1efc69c1e\n",
    "\n",
    "https://www.kaggle.com/praveengovi/classify-emotions-in-text-with-bert\n",
    "\n",
    "https://curiousily.com/posts/sentiment-analysis-with-bert-and-hugging-face-using-pytorch-and-python/\n",
    "\n",
    "https://curiousily.com/posts/multi-label-text-classification-with-bert-and-pytorch-lightning/\n",
    "\n",
    "https://github.com/bentrevett/pytorch-sentiment-analysis\n",
    "\n",
    "https://skimai.com/fine-tuning-bert-for-sentiment-analysis/\n",
    "\n",
    "https://mccormickml.com/2019/07/22/BERT-fine-tuning/"
   ]
  }
 ],
 "metadata": {
  "accelerator": "GPU",
  "colab": {
   "collapsed_sections": [],
   "name": "4_modeling_bert_ft_materials.ipynb",
   "provenance": []
  },
  "kernelspec": {
   "display_name": "Python 3",
   "language": "python",
   "name": "python3"
  },
  "language_info": {
   "codemirror_mode": {
    "name": "ipython",
    "version": 3
   },
   "file_extension": ".py",
   "mimetype": "text/x-python",
   "name": "python",
   "nbconvert_exporter": "python",
   "pygments_lexer": "ipython3",
   "version": "3.6.8"
  },
  "widgets": {
   "application/vnd.jupyter.widget-state+json": {
    "008720ea9d4949858b82d98ecf635018": {
     "model_module": "@jupyter-widgets/base",
     "model_name": "LayoutModel",
     "state": {
      "_model_module": "@jupyter-widgets/base",
      "_model_module_version": "1.2.0",
      "_model_name": "LayoutModel",
      "_view_count": null,
      "_view_module": "@jupyter-widgets/base",
      "_view_module_version": "1.2.0",
      "_view_name": "LayoutView",
      "align_content": null,
      "align_items": null,
      "align_self": null,
      "border": null,
      "bottom": null,
      "display": null,
      "flex": null,
      "flex_flow": null,
      "grid_area": null,
      "grid_auto_columns": null,
      "grid_auto_flow": null,
      "grid_auto_rows": null,
      "grid_column": null,
      "grid_gap": null,
      "grid_row": null,
      "grid_template_areas": null,
      "grid_template_columns": null,
      "grid_template_rows": null,
      "height": null,
      "justify_content": null,
      "justify_items": null,
      "left": null,
      "margin": null,
      "max_height": null,
      "max_width": null,
      "min_height": null,
      "min_width": null,
      "object_fit": null,
      "object_position": null,
      "order": null,
      "overflow": null,
      "overflow_x": null,
      "overflow_y": null,
      "padding": null,
      "right": null,
      "top": null,
      "visibility": null,
      "width": null
     }
    },
    "06f9d047a80245adacc8ed339fa32186": {
     "model_module": "@jupyter-widgets/controls",
     "model_name": "ProgressStyleModel",
     "state": {
      "_model_module": "@jupyter-widgets/controls",
      "_model_module_version": "1.5.0",
      "_model_name": "ProgressStyleModel",
      "_view_count": null,
      "_view_module": "@jupyter-widgets/base",
      "_view_module_version": "1.2.0",
      "_view_name": "StyleView",
      "bar_color": null,
      "description_width": "initial"
     }
    },
    "0d0b398ea2e64bf9b56004a71458282a": {
     "model_module": "@jupyter-widgets/base",
     "model_name": "LayoutModel",
     "state": {
      "_model_module": "@jupyter-widgets/base",
      "_model_module_version": "1.2.0",
      "_model_name": "LayoutModel",
      "_view_count": null,
      "_view_module": "@jupyter-widgets/base",
      "_view_module_version": "1.2.0",
      "_view_name": "LayoutView",
      "align_content": null,
      "align_items": null,
      "align_self": null,
      "border": null,
      "bottom": null,
      "display": null,
      "flex": null,
      "flex_flow": null,
      "grid_area": null,
      "grid_auto_columns": null,
      "grid_auto_flow": null,
      "grid_auto_rows": null,
      "grid_column": null,
      "grid_gap": null,
      "grid_row": null,
      "grid_template_areas": null,
      "grid_template_columns": null,
      "grid_template_rows": null,
      "height": null,
      "justify_content": null,
      "justify_items": null,
      "left": null,
      "margin": null,
      "max_height": null,
      "max_width": null,
      "min_height": null,
      "min_width": null,
      "object_fit": null,
      "object_position": null,
      "order": null,
      "overflow": null,
      "overflow_x": null,
      "overflow_y": null,
      "padding": null,
      "right": null,
      "top": null,
      "visibility": null,
      "width": null
     }
    },
    "0d30bff80a084f909532c1de4465efa6": {
     "model_module": "@jupyter-widgets/controls",
     "model_name": "ProgressStyleModel",
     "state": {
      "_model_module": "@jupyter-widgets/controls",
      "_model_module_version": "1.5.0",
      "_model_name": "ProgressStyleModel",
      "_view_count": null,
      "_view_module": "@jupyter-widgets/base",
      "_view_module_version": "1.2.0",
      "_view_name": "StyleView",
      "bar_color": null,
      "description_width": "initial"
     }
    },
    "0e2e716376124372b8c062404e448c03": {
     "model_module": "@jupyter-widgets/controls",
     "model_name": "HTMLModel",
     "state": {
      "_dom_classes": [],
      "_model_module": "@jupyter-widgets/controls",
      "_model_module_version": "1.5.0",
      "_model_name": "HTMLModel",
      "_view_count": null,
      "_view_module": "@jupyter-widgets/controls",
      "_view_module_version": "1.5.0",
      "_view_name": "HTMLView",
      "description": "",
      "description_tooltip": null,
      "layout": "IPY_MODEL_26128e73f3cb4658a51486b69af9d37d",
      "placeholder": "​",
      "style": "IPY_MODEL_7415b769b45f43a8ac55bcaa72fc26a5",
      "value": " 570/570 [00:00&lt;00:00, 11.2kB/s]"
     }
    },
    "10e9f0b2bc3c4b23b84c84913620ea4f": {
     "model_module": "@jupyter-widgets/controls",
     "model_name": "FloatProgressModel",
     "state": {
      "_dom_classes": [],
      "_model_module": "@jupyter-widgets/controls",
      "_model_module_version": "1.5.0",
      "_model_name": "FloatProgressModel",
      "_view_count": null,
      "_view_module": "@jupyter-widgets/controls",
      "_view_module_version": "1.5.0",
      "_view_name": "ProgressView",
      "bar_style": "",
      "description": "  0%",
      "description_tooltip": null,
      "layout": "IPY_MODEL_96b322649bc14f70ac15c462a3daab18",
      "max": 4,
      "min": 0,
      "orientation": "horizontal",
      "style": "IPY_MODEL_9c407c0fbd3346378391f19804bc7848",
      "value": 0
     }
    },
    "1186877a88104fe582bb4fe5a6c8908f": {
     "model_module": "@jupyter-widgets/controls",
     "model_name": "DescriptionStyleModel",
     "state": {
      "_model_module": "@jupyter-widgets/controls",
      "_model_module_version": "1.5.0",
      "_model_name": "DescriptionStyleModel",
      "_view_count": null,
      "_view_module": "@jupyter-widgets/base",
      "_view_module_version": "1.2.0",
      "_view_name": "StyleView",
      "description_width": ""
     }
    },
    "15b5be3cecca4f1d8db1145d5f66fe62": {
     "model_module": "@jupyter-widgets/controls",
     "model_name": "HTMLModel",
     "state": {
      "_dom_classes": [],
      "_model_module": "@jupyter-widgets/controls",
      "_model_module_version": "1.5.0",
      "_model_name": "HTMLModel",
      "_view_count": null,
      "_view_module": "@jupyter-widgets/controls",
      "_view_module_version": "1.5.0",
      "_view_name": "HTMLView",
      "description": "",
      "description_tooltip": null,
      "layout": "IPY_MODEL_2d2e0b48ede74c208fe9fc437770ae16",
      "placeholder": "​",
      "style": "IPY_MODEL_1186877a88104fe582bb4fe5a6c8908f",
      "value": " 570/570 [00:00&lt;00:00, 3.41kB/s]"
     }
    },
    "15fa265ef0d64e07b5ecf8494e1ba5b3": {
     "model_module": "@jupyter-widgets/controls",
     "model_name": "HBoxModel",
     "state": {
      "_dom_classes": [],
      "_model_module": "@jupyter-widgets/controls",
      "_model_module_version": "1.5.0",
      "_model_name": "HBoxModel",
      "_view_count": null,
      "_view_module": "@jupyter-widgets/controls",
      "_view_module_version": "1.5.0",
      "_view_name": "HBoxView",
      "box_style": "",
      "children": [
       "IPY_MODEL_74debac48cd54ac1a88c10a88edb08a4",
       "IPY_MODEL_e06d29df8e1d44cca32531c3ec6f5730"
      ],
      "layout": "IPY_MODEL_ece170e0bc2d415fb3dcb070ad36a01b"
     }
    },
    "199b391dafd545a2a77aab67dc9db963": {
     "model_module": "@jupyter-widgets/base",
     "model_name": "LayoutModel",
     "state": {
      "_model_module": "@jupyter-widgets/base",
      "_model_module_version": "1.2.0",
      "_model_name": "LayoutModel",
      "_view_count": null,
      "_view_module": "@jupyter-widgets/base",
      "_view_module_version": "1.2.0",
      "_view_name": "LayoutView",
      "align_content": null,
      "align_items": null,
      "align_self": null,
      "border": null,
      "bottom": null,
      "display": null,
      "flex": null,
      "flex_flow": null,
      "grid_area": null,
      "grid_auto_columns": null,
      "grid_auto_flow": null,
      "grid_auto_rows": null,
      "grid_column": null,
      "grid_gap": null,
      "grid_row": null,
      "grid_template_areas": null,
      "grid_template_columns": null,
      "grid_template_rows": null,
      "height": null,
      "justify_content": null,
      "justify_items": null,
      "left": null,
      "margin": null,
      "max_height": null,
      "max_width": null,
      "min_height": null,
      "min_width": null,
      "object_fit": null,
      "object_position": null,
      "order": null,
      "overflow": null,
      "overflow_x": null,
      "overflow_y": null,
      "padding": null,
      "right": null,
      "top": null,
      "visibility": null,
      "width": null
     }
    },
    "1fcf98e771164611a8835d0b93030e99": {
     "model_module": "@jupyter-widgets/base",
     "model_name": "LayoutModel",
     "state": {
      "_model_module": "@jupyter-widgets/base",
      "_model_module_version": "1.2.0",
      "_model_name": "LayoutModel",
      "_view_count": null,
      "_view_module": "@jupyter-widgets/base",
      "_view_module_version": "1.2.0",
      "_view_name": "LayoutView",
      "align_content": null,
      "align_items": null,
      "align_self": null,
      "border": null,
      "bottom": null,
      "display": null,
      "flex": null,
      "flex_flow": null,
      "grid_area": null,
      "grid_auto_columns": null,
      "grid_auto_flow": null,
      "grid_auto_rows": null,
      "grid_column": null,
      "grid_gap": null,
      "grid_row": null,
      "grid_template_areas": null,
      "grid_template_columns": null,
      "grid_template_rows": null,
      "height": null,
      "justify_content": null,
      "justify_items": null,
      "left": null,
      "margin": null,
      "max_height": null,
      "max_width": null,
      "min_height": null,
      "min_width": null,
      "object_fit": null,
      "object_position": null,
      "order": null,
      "overflow": null,
      "overflow_x": null,
      "overflow_y": null,
      "padding": null,
      "right": null,
      "top": null,
      "visibility": null,
      "width": null
     }
    },
    "2154f91261ea4ceba1c803e21e2854bb": {
     "model_module": "@jupyter-widgets/controls",
     "model_name": "DescriptionStyleModel",
     "state": {
      "_model_module": "@jupyter-widgets/controls",
      "_model_module_version": "1.5.0",
      "_model_name": "DescriptionStyleModel",
      "_view_count": null,
      "_view_module": "@jupyter-widgets/base",
      "_view_module_version": "1.2.0",
      "_view_name": "StyleView",
      "description_width": ""
     }
    },
    "22fea9a878694fbb86900c3d1ba7dacc": {
     "model_module": "@jupyter-widgets/controls",
     "model_name": "HTMLModel",
     "state": {
      "_dom_classes": [],
      "_model_module": "@jupyter-widgets/controls",
      "_model_module_version": "1.5.0",
      "_model_name": "HTMLModel",
      "_view_count": null,
      "_view_module": "@jupyter-widgets/controls",
      "_view_module_version": "1.5.0",
      "_view_name": "HTMLView",
      "description": "",
      "description_tooltip": null,
      "layout": "IPY_MODEL_2cc75cec55454d8082996047fe0cd7cb",
      "placeholder": "​",
      "style": "IPY_MODEL_8c788023a3214bd09424dcc3830c99cd",
      "value": " 466k/466k [00:00&lt;00:00, 2.62MB/s]"
     }
    },
    "2314c7cf0a2843e093e6f02a8beb7b6c": {
     "model_module": "@jupyter-widgets/controls",
     "model_name": "HTMLModel",
     "state": {
      "_dom_classes": [],
      "_model_module": "@jupyter-widgets/controls",
      "_model_module_version": "1.5.0",
      "_model_name": "HTMLModel",
      "_view_count": null,
      "_view_module": "@jupyter-widgets/controls",
      "_view_module_version": "1.5.0",
      "_view_name": "HTMLView",
      "description": "",
      "description_tooltip": null,
      "layout": "IPY_MODEL_e2c39dede5544e29962abab5c27b0e6c",
      "placeholder": "​",
      "style": "IPY_MODEL_704b661a09b84f35a580e80532de1451",
      "value": " 436M/436M [00:24&lt;00:00, 18.0MB/s]"
     }
    },
    "26128e73f3cb4658a51486b69af9d37d": {
     "model_module": "@jupyter-widgets/base",
     "model_name": "LayoutModel",
     "state": {
      "_model_module": "@jupyter-widgets/base",
      "_model_module_version": "1.2.0",
      "_model_name": "LayoutModel",
      "_view_count": null,
      "_view_module": "@jupyter-widgets/base",
      "_view_module_version": "1.2.0",
      "_view_name": "LayoutView",
      "align_content": null,
      "align_items": null,
      "align_self": null,
      "border": null,
      "bottom": null,
      "display": null,
      "flex": null,
      "flex_flow": null,
      "grid_area": null,
      "grid_auto_columns": null,
      "grid_auto_flow": null,
      "grid_auto_rows": null,
      "grid_column": null,
      "grid_gap": null,
      "grid_row": null,
      "grid_template_areas": null,
      "grid_template_columns": null,
      "grid_template_rows": null,
      "height": null,
      "justify_content": null,
      "justify_items": null,
      "left": null,
      "margin": null,
      "max_height": null,
      "max_width": null,
      "min_height": null,
      "min_width": null,
      "object_fit": null,
      "object_position": null,
      "order": null,
      "overflow": null,
      "overflow_x": null,
      "overflow_y": null,
      "padding": null,
      "right": null,
      "top": null,
      "visibility": null,
      "width": null
     }
    },
    "286e4db25b8543efb1fe12c7b197cad4": {
     "model_module": "@jupyter-widgets/controls",
     "model_name": "ProgressStyleModel",
     "state": {
      "_model_module": "@jupyter-widgets/controls",
      "_model_module_version": "1.5.0",
      "_model_name": "ProgressStyleModel",
      "_view_count": null,
      "_view_module": "@jupyter-widgets/base",
      "_view_module_version": "1.2.0",
      "_view_name": "StyleView",
      "bar_color": null,
      "description_width": "initial"
     }
    },
    "2cc75cec55454d8082996047fe0cd7cb": {
     "model_module": "@jupyter-widgets/base",
     "model_name": "LayoutModel",
     "state": {
      "_model_module": "@jupyter-widgets/base",
      "_model_module_version": "1.2.0",
      "_model_name": "LayoutModel",
      "_view_count": null,
      "_view_module": "@jupyter-widgets/base",
      "_view_module_version": "1.2.0",
      "_view_name": "LayoutView",
      "align_content": null,
      "align_items": null,
      "align_self": null,
      "border": null,
      "bottom": null,
      "display": null,
      "flex": null,
      "flex_flow": null,
      "grid_area": null,
      "grid_auto_columns": null,
      "grid_auto_flow": null,
      "grid_auto_rows": null,
      "grid_column": null,
      "grid_gap": null,
      "grid_row": null,
      "grid_template_areas": null,
      "grid_template_columns": null,
      "grid_template_rows": null,
      "height": null,
      "justify_content": null,
      "justify_items": null,
      "left": null,
      "margin": null,
      "max_height": null,
      "max_width": null,
      "min_height": null,
      "min_width": null,
      "object_fit": null,
      "object_position": null,
      "order": null,
      "overflow": null,
      "overflow_x": null,
      "overflow_y": null,
      "padding": null,
      "right": null,
      "top": null,
      "visibility": null,
      "width": null
     }
    },
    "2d2e0b48ede74c208fe9fc437770ae16": {
     "model_module": "@jupyter-widgets/base",
     "model_name": "LayoutModel",
     "state": {
      "_model_module": "@jupyter-widgets/base",
      "_model_module_version": "1.2.0",
      "_model_name": "LayoutModel",
      "_view_count": null,
      "_view_module": "@jupyter-widgets/base",
      "_view_module_version": "1.2.0",
      "_view_name": "LayoutView",
      "align_content": null,
      "align_items": null,
      "align_self": null,
      "border": null,
      "bottom": null,
      "display": null,
      "flex": null,
      "flex_flow": null,
      "grid_area": null,
      "grid_auto_columns": null,
      "grid_auto_flow": null,
      "grid_auto_rows": null,
      "grid_column": null,
      "grid_gap": null,
      "grid_row": null,
      "grid_template_areas": null,
      "grid_template_columns": null,
      "grid_template_rows": null,
      "height": null,
      "justify_content": null,
      "justify_items": null,
      "left": null,
      "margin": null,
      "max_height": null,
      "max_width": null,
      "min_height": null,
      "min_width": null,
      "object_fit": null,
      "object_position": null,
      "order": null,
      "overflow": null,
      "overflow_x": null,
      "overflow_y": null,
      "padding": null,
      "right": null,
      "top": null,
      "visibility": null,
      "width": null
     }
    },
    "38bde11a22054f6a81ba165ef1e1ec09": {
     "model_module": "@jupyter-widgets/controls",
     "model_name": "HTMLModel",
     "state": {
      "_dom_classes": [],
      "_model_module": "@jupyter-widgets/controls",
      "_model_module_version": "1.5.0",
      "_model_name": "HTMLModel",
      "_view_count": null,
      "_view_module": "@jupyter-widgets/controls",
      "_view_module_version": "1.5.0",
      "_view_name": "HTMLView",
      "description": "",
      "description_tooltip": null,
      "layout": "IPY_MODEL_3b5f27d4e5da42e2aa8c3ee2ffb9465a",
      "placeholder": "​",
      "style": "IPY_MODEL_667461048ace4be7a9da2c12be7e3c97",
      "value": " 0/4 [00:00&lt;?, ?it/s]"
     }
    },
    "39642bfdd6ec4d7b9486bde0fd32bbbd": {
     "model_module": "@jupyter-widgets/controls",
     "model_name": "HBoxModel",
     "state": {
      "_dom_classes": [],
      "_model_module": "@jupyter-widgets/controls",
      "_model_module_version": "1.5.0",
      "_model_name": "HBoxModel",
      "_view_count": null,
      "_view_module": "@jupyter-widgets/controls",
      "_view_module_version": "1.5.0",
      "_view_name": "HBoxView",
      "box_style": "",
      "children": [
       "IPY_MODEL_821c0ce60e334b4dac7918c334f8f2d2",
       "IPY_MODEL_2314c7cf0a2843e093e6f02a8beb7b6c"
      ],
      "layout": "IPY_MODEL_eae362fd0f7b4ccfa1438876bb9c5af5"
     }
    },
    "3b5f27d4e5da42e2aa8c3ee2ffb9465a": {
     "model_module": "@jupyter-widgets/base",
     "model_name": "LayoutModel",
     "state": {
      "_model_module": "@jupyter-widgets/base",
      "_model_module_version": "1.2.0",
      "_model_name": "LayoutModel",
      "_view_count": null,
      "_view_module": "@jupyter-widgets/base",
      "_view_module_version": "1.2.0",
      "_view_name": "LayoutView",
      "align_content": null,
      "align_items": null,
      "align_self": null,
      "border": null,
      "bottom": null,
      "display": null,
      "flex": null,
      "flex_flow": null,
      "grid_area": null,
      "grid_auto_columns": null,
      "grid_auto_flow": null,
      "grid_auto_rows": null,
      "grid_column": null,
      "grid_gap": null,
      "grid_row": null,
      "grid_template_areas": null,
      "grid_template_columns": null,
      "grid_template_rows": null,
      "height": null,
      "justify_content": null,
      "justify_items": null,
      "left": null,
      "margin": null,
      "max_height": null,
      "max_width": null,
      "min_height": null,
      "min_width": null,
      "object_fit": null,
      "object_position": null,
      "order": null,
      "overflow": null,
      "overflow_x": null,
      "overflow_y": null,
      "padding": null,
      "right": null,
      "top": null,
      "visibility": null,
      "width": null
     }
    },
    "3cd6e93d143c4378894349ef05d02571": {
     "model_module": "@jupyter-widgets/controls",
     "model_name": "HBoxModel",
     "state": {
      "_dom_classes": [],
      "_model_module": "@jupyter-widgets/controls",
      "_model_module_version": "1.5.0",
      "_model_name": "HBoxModel",
      "_view_count": null,
      "_view_module": "@jupyter-widgets/controls",
      "_view_module_version": "1.5.0",
      "_view_name": "HBoxView",
      "box_style": "",
      "children": [
       "IPY_MODEL_f983d88215f44e7cb4daa731e6fdd0d1",
       "IPY_MODEL_a3900d2790d74c98a77bd1ef8c509ce3"
      ],
      "layout": "IPY_MODEL_199b391dafd545a2a77aab67dc9db963"
     }
    },
    "3cdc09e992384dca912ff6437cbd36cc": {
     "model_module": "@jupyter-widgets/base",
     "model_name": "LayoutModel",
     "state": {
      "_model_module": "@jupyter-widgets/base",
      "_model_module_version": "1.2.0",
      "_model_name": "LayoutModel",
      "_view_count": null,
      "_view_module": "@jupyter-widgets/base",
      "_view_module_version": "1.2.0",
      "_view_name": "LayoutView",
      "align_content": null,
      "align_items": null,
      "align_self": null,
      "border": null,
      "bottom": null,
      "display": null,
      "flex": null,
      "flex_flow": null,
      "grid_area": null,
      "grid_auto_columns": null,
      "grid_auto_flow": null,
      "grid_auto_rows": null,
      "grid_column": null,
      "grid_gap": null,
      "grid_row": null,
      "grid_template_areas": null,
      "grid_template_columns": null,
      "grid_template_rows": null,
      "height": null,
      "justify_content": null,
      "justify_items": null,
      "left": null,
      "margin": null,
      "max_height": null,
      "max_width": null,
      "min_height": null,
      "min_width": null,
      "object_fit": null,
      "object_position": null,
      "order": null,
      "overflow": null,
      "overflow_x": null,
      "overflow_y": null,
      "padding": null,
      "right": null,
      "top": null,
      "visibility": null,
      "width": null
     }
    },
    "3ea5c7479d91415bbb137d3380c9deb1": {
     "model_module": "@jupyter-widgets/base",
     "model_name": "LayoutModel",
     "state": {
      "_model_module": "@jupyter-widgets/base",
      "_model_module_version": "1.2.0",
      "_model_name": "LayoutModel",
      "_view_count": null,
      "_view_module": "@jupyter-widgets/base",
      "_view_module_version": "1.2.0",
      "_view_name": "LayoutView",
      "align_content": null,
      "align_items": null,
      "align_self": null,
      "border": null,
      "bottom": null,
      "display": null,
      "flex": null,
      "flex_flow": null,
      "grid_area": null,
      "grid_auto_columns": null,
      "grid_auto_flow": null,
      "grid_auto_rows": null,
      "grid_column": null,
      "grid_gap": null,
      "grid_row": null,
      "grid_template_areas": null,
      "grid_template_columns": null,
      "grid_template_rows": null,
      "height": null,
      "justify_content": null,
      "justify_items": null,
      "left": null,
      "margin": null,
      "max_height": null,
      "max_width": null,
      "min_height": null,
      "min_width": null,
      "object_fit": null,
      "object_position": null,
      "order": null,
      "overflow": null,
      "overflow_x": null,
      "overflow_y": null,
      "padding": null,
      "right": null,
      "top": null,
      "visibility": null,
      "width": null
     }
    },
    "3f7a0b9b99704252b1875ec7a1d0f37a": {
     "model_module": "@jupyter-widgets/controls",
     "model_name": "ProgressStyleModel",
     "state": {
      "_model_module": "@jupyter-widgets/controls",
      "_model_module_version": "1.5.0",
      "_model_name": "ProgressStyleModel",
      "_view_count": null,
      "_view_module": "@jupyter-widgets/base",
      "_view_module_version": "1.2.0",
      "_view_name": "StyleView",
      "bar_color": null,
      "description_width": "initial"
     }
    },
    "4690db210458439ca95c47d2180b3efd": {
     "model_module": "@jupyter-widgets/base",
     "model_name": "LayoutModel",
     "state": {
      "_model_module": "@jupyter-widgets/base",
      "_model_module_version": "1.2.0",
      "_model_name": "LayoutModel",
      "_view_count": null,
      "_view_module": "@jupyter-widgets/base",
      "_view_module_version": "1.2.0",
      "_view_name": "LayoutView",
      "align_content": null,
      "align_items": null,
      "align_self": null,
      "border": null,
      "bottom": null,
      "display": null,
      "flex": null,
      "flex_flow": null,
      "grid_area": null,
      "grid_auto_columns": null,
      "grid_auto_flow": null,
      "grid_auto_rows": null,
      "grid_column": null,
      "grid_gap": null,
      "grid_row": null,
      "grid_template_areas": null,
      "grid_template_columns": null,
      "grid_template_rows": null,
      "height": null,
      "justify_content": null,
      "justify_items": null,
      "left": null,
      "margin": null,
      "max_height": null,
      "max_width": null,
      "min_height": null,
      "min_width": null,
      "object_fit": null,
      "object_position": null,
      "order": null,
      "overflow": null,
      "overflow_x": null,
      "overflow_y": null,
      "padding": null,
      "right": null,
      "top": null,
      "visibility": null,
      "width": null
     }
    },
    "4c46d8acaeea44c8a885ff6ebca7447b": {
     "model_module": "@jupyter-widgets/controls",
     "model_name": "HTMLModel",
     "state": {
      "_dom_classes": [],
      "_model_module": "@jupyter-widgets/controls",
      "_model_module_version": "1.5.0",
      "_model_name": "HTMLModel",
      "_view_count": null,
      "_view_module": "@jupyter-widgets/controls",
      "_view_module_version": "1.5.0",
      "_view_name": "HTMLView",
      "description": "",
      "description_tooltip": null,
      "layout": "IPY_MODEL_e4dc39082e154c74a8da7af4bfc65583",
      "placeholder": "​",
      "style": "IPY_MODEL_f4bb05e48df042f5b5447db68c829ffb",
      "value": " 216/310 [05:41&lt;02:26,  1.56s/it]"
     }
    },
    "5a0fcd64e4fd4ef6bed1bc6ae2a333a7": {
     "model_module": "@jupyter-widgets/base",
     "model_name": "LayoutModel",
     "state": {
      "_model_module": "@jupyter-widgets/base",
      "_model_module_version": "1.2.0",
      "_model_name": "LayoutModel",
      "_view_count": null,
      "_view_module": "@jupyter-widgets/base",
      "_view_module_version": "1.2.0",
      "_view_name": "LayoutView",
      "align_content": null,
      "align_items": null,
      "align_self": null,
      "border": null,
      "bottom": null,
      "display": null,
      "flex": null,
      "flex_flow": null,
      "grid_area": null,
      "grid_auto_columns": null,
      "grid_auto_flow": null,
      "grid_auto_rows": null,
      "grid_column": null,
      "grid_gap": null,
      "grid_row": null,
      "grid_template_areas": null,
      "grid_template_columns": null,
      "grid_template_rows": null,
      "height": null,
      "justify_content": null,
      "justify_items": null,
      "left": null,
      "margin": null,
      "max_height": null,
      "max_width": null,
      "min_height": null,
      "min_width": null,
      "object_fit": null,
      "object_position": null,
      "order": null,
      "overflow": null,
      "overflow_x": null,
      "overflow_y": null,
      "padding": null,
      "right": null,
      "top": null,
      "visibility": null,
      "width": null
     }
    },
    "5e76175e36f0407986f8b141f128deca": {
     "model_module": "@jupyter-widgets/base",
     "model_name": "LayoutModel",
     "state": {
      "_model_module": "@jupyter-widgets/base",
      "_model_module_version": "1.2.0",
      "_model_name": "LayoutModel",
      "_view_count": null,
      "_view_module": "@jupyter-widgets/base",
      "_view_module_version": "1.2.0",
      "_view_name": "LayoutView",
      "align_content": null,
      "align_items": null,
      "align_self": null,
      "border": null,
      "bottom": null,
      "display": null,
      "flex": null,
      "flex_flow": null,
      "grid_area": null,
      "grid_auto_columns": null,
      "grid_auto_flow": null,
      "grid_auto_rows": null,
      "grid_column": null,
      "grid_gap": null,
      "grid_row": null,
      "grid_template_areas": null,
      "grid_template_columns": null,
      "grid_template_rows": null,
      "height": null,
      "justify_content": null,
      "justify_items": null,
      "left": null,
      "margin": null,
      "max_height": null,
      "max_width": null,
      "min_height": null,
      "min_width": null,
      "object_fit": null,
      "object_position": null,
      "order": null,
      "overflow": null,
      "overflow_x": null,
      "overflow_y": null,
      "padding": null,
      "right": null,
      "top": null,
      "visibility": null,
      "width": null
     }
    },
    "62a830b3b0674a3bbd196a1f57d47567": {
     "model_module": "@jupyter-widgets/controls",
     "model_name": "DescriptionStyleModel",
     "state": {
      "_model_module": "@jupyter-widgets/controls",
      "_model_module_version": "1.5.0",
      "_model_name": "DescriptionStyleModel",
      "_view_count": null,
      "_view_module": "@jupyter-widgets/base",
      "_view_module_version": "1.2.0",
      "_view_name": "StyleView",
      "description_width": ""
     }
    },
    "667461048ace4be7a9da2c12be7e3c97": {
     "model_module": "@jupyter-widgets/controls",
     "model_name": "DescriptionStyleModel",
     "state": {
      "_model_module": "@jupyter-widgets/controls",
      "_model_module_version": "1.5.0",
      "_model_name": "DescriptionStyleModel",
      "_view_count": null,
      "_view_module": "@jupyter-widgets/base",
      "_view_module_version": "1.2.0",
      "_view_name": "StyleView",
      "description_width": ""
     }
    },
    "6abec6d369f748d69104253e3c5e52ae": {
     "model_module": "@jupyter-widgets/base",
     "model_name": "LayoutModel",
     "state": {
      "_model_module": "@jupyter-widgets/base",
      "_model_module_version": "1.2.0",
      "_model_name": "LayoutModel",
      "_view_count": null,
      "_view_module": "@jupyter-widgets/base",
      "_view_module_version": "1.2.0",
      "_view_name": "LayoutView",
      "align_content": null,
      "align_items": null,
      "align_self": null,
      "border": null,
      "bottom": null,
      "display": null,
      "flex": null,
      "flex_flow": null,
      "grid_area": null,
      "grid_auto_columns": null,
      "grid_auto_flow": null,
      "grid_auto_rows": null,
      "grid_column": null,
      "grid_gap": null,
      "grid_row": null,
      "grid_template_areas": null,
      "grid_template_columns": null,
      "grid_template_rows": null,
      "height": null,
      "justify_content": null,
      "justify_items": null,
      "left": null,
      "margin": null,
      "max_height": null,
      "max_width": null,
      "min_height": null,
      "min_width": null,
      "object_fit": null,
      "object_position": null,
      "order": null,
      "overflow": null,
      "overflow_x": null,
      "overflow_y": null,
      "padding": null,
      "right": null,
      "top": null,
      "visibility": null,
      "width": null
     }
    },
    "6d7ab9d23d7440938b6c09fdcc981eff": {
     "model_module": "@jupyter-widgets/base",
     "model_name": "LayoutModel",
     "state": {
      "_model_module": "@jupyter-widgets/base",
      "_model_module_version": "1.2.0",
      "_model_name": "LayoutModel",
      "_view_count": null,
      "_view_module": "@jupyter-widgets/base",
      "_view_module_version": "1.2.0",
      "_view_name": "LayoutView",
      "align_content": null,
      "align_items": null,
      "align_self": null,
      "border": null,
      "bottom": null,
      "display": null,
      "flex": null,
      "flex_flow": null,
      "grid_area": null,
      "grid_auto_columns": null,
      "grid_auto_flow": null,
      "grid_auto_rows": null,
      "grid_column": null,
      "grid_gap": null,
      "grid_row": null,
      "grid_template_areas": null,
      "grid_template_columns": null,
      "grid_template_rows": null,
      "height": null,
      "justify_content": null,
      "justify_items": null,
      "left": null,
      "margin": null,
      "max_height": null,
      "max_width": null,
      "min_height": null,
      "min_width": null,
      "object_fit": null,
      "object_position": null,
      "order": null,
      "overflow": null,
      "overflow_x": null,
      "overflow_y": null,
      "padding": null,
      "right": null,
      "top": null,
      "visibility": null,
      "width": null
     }
    },
    "6f634054c3a244a7aaff23e556f2020d": {
     "model_module": "@jupyter-widgets/controls",
     "model_name": "DescriptionStyleModel",
     "state": {
      "_model_module": "@jupyter-widgets/controls",
      "_model_module_version": "1.5.0",
      "_model_name": "DescriptionStyleModel",
      "_view_count": null,
      "_view_module": "@jupyter-widgets/base",
      "_view_module_version": "1.2.0",
      "_view_name": "StyleView",
      "description_width": ""
     }
    },
    "704b661a09b84f35a580e80532de1451": {
     "model_module": "@jupyter-widgets/controls",
     "model_name": "DescriptionStyleModel",
     "state": {
      "_model_module": "@jupyter-widgets/controls",
      "_model_module_version": "1.5.0",
      "_model_name": "DescriptionStyleModel",
      "_view_count": null,
      "_view_module": "@jupyter-widgets/base",
      "_view_module_version": "1.2.0",
      "_view_name": "StyleView",
      "description_width": ""
     }
    },
    "733d6bda92424d209f9fae146e4e42db": {
     "model_module": "@jupyter-widgets/controls",
     "model_name": "ProgressStyleModel",
     "state": {
      "_model_module": "@jupyter-widgets/controls",
      "_model_module_version": "1.5.0",
      "_model_name": "ProgressStyleModel",
      "_view_count": null,
      "_view_module": "@jupyter-widgets/base",
      "_view_module_version": "1.2.0",
      "_view_name": "StyleView",
      "bar_color": null,
      "description_width": "initial"
     }
    },
    "7415b769b45f43a8ac55bcaa72fc26a5": {
     "model_module": "@jupyter-widgets/controls",
     "model_name": "DescriptionStyleModel",
     "state": {
      "_model_module": "@jupyter-widgets/controls",
      "_model_module_version": "1.5.0",
      "_model_name": "DescriptionStyleModel",
      "_view_count": null,
      "_view_module": "@jupyter-widgets/base",
      "_view_module_version": "1.2.0",
      "_view_name": "StyleView",
      "description_width": ""
     }
    },
    "74debac48cd54ac1a88c10a88edb08a4": {
     "model_module": "@jupyter-widgets/controls",
     "model_name": "FloatProgressModel",
     "state": {
      "_dom_classes": [],
      "_model_module": "@jupyter-widgets/controls",
      "_model_module_version": "1.5.0",
      "_model_name": "FloatProgressModel",
      "_view_count": null,
      "_view_module": "@jupyter-widgets/controls",
      "_view_module_version": "1.5.0",
      "_view_name": "ProgressView",
      "bar_style": "success",
      "description": "Downloading: 100%",
      "description_tooltip": null,
      "layout": "IPY_MODEL_d5a4f5680d934c6383c13b9b9870be2f",
      "max": 28,
      "min": 0,
      "orientation": "horizontal",
      "style": "IPY_MODEL_cec5e2dbe60447c48ed2f54b5f8ae6f9",
      "value": 28
     }
    },
    "7aaa844697d740aa8eefe604be1bdbd3": {
     "model_module": "@jupyter-widgets/controls",
     "model_name": "HBoxModel",
     "state": {
      "_dom_classes": [],
      "_model_module": "@jupyter-widgets/controls",
      "_model_module_version": "1.5.0",
      "_model_name": "HBoxModel",
      "_view_count": null,
      "_view_module": "@jupyter-widgets/controls",
      "_view_module_version": "1.5.0",
      "_view_name": "HBoxView",
      "box_style": "",
      "children": [
       "IPY_MODEL_ab2a86f8fd254ed5b4cd6b115d314d2b",
       "IPY_MODEL_fa738a716ff64be3850e4ce83579b8ff"
      ],
      "layout": "IPY_MODEL_8ae8849fe38c4bd9b44413408477a5a1"
     }
    },
    "7fd6f3cc6e4346fbbf7c02f88f581e31": {
     "model_module": "@jupyter-widgets/base",
     "model_name": "LayoutModel",
     "state": {
      "_model_module": "@jupyter-widgets/base",
      "_model_module_version": "1.2.0",
      "_model_name": "LayoutModel",
      "_view_count": null,
      "_view_module": "@jupyter-widgets/base",
      "_view_module_version": "1.2.0",
      "_view_name": "LayoutView",
      "align_content": null,
      "align_items": null,
      "align_self": null,
      "border": null,
      "bottom": null,
      "display": null,
      "flex": null,
      "flex_flow": null,
      "grid_area": null,
      "grid_auto_columns": null,
      "grid_auto_flow": null,
      "grid_auto_rows": null,
      "grid_column": null,
      "grid_gap": null,
      "grid_row": null,
      "grid_template_areas": null,
      "grid_template_columns": null,
      "grid_template_rows": null,
      "height": null,
      "justify_content": null,
      "justify_items": null,
      "left": null,
      "margin": null,
      "max_height": null,
      "max_width": null,
      "min_height": null,
      "min_width": null,
      "object_fit": null,
      "object_position": null,
      "order": null,
      "overflow": null,
      "overflow_x": null,
      "overflow_y": null,
      "padding": null,
      "right": null,
      "top": null,
      "visibility": null,
      "width": null
     }
    },
    "821c0ce60e334b4dac7918c334f8f2d2": {
     "model_module": "@jupyter-widgets/controls",
     "model_name": "FloatProgressModel",
     "state": {
      "_dom_classes": [],
      "_model_module": "@jupyter-widgets/controls",
      "_model_module_version": "1.5.0",
      "_model_name": "FloatProgressModel",
      "_view_count": null,
      "_view_module": "@jupyter-widgets/controls",
      "_view_module_version": "1.5.0",
      "_view_name": "ProgressView",
      "bar_style": "success",
      "description": "Downloading: 100%",
      "description_tooltip": null,
      "layout": "IPY_MODEL_7fd6f3cc6e4346fbbf7c02f88f581e31",
      "max": 435779157,
      "min": 0,
      "orientation": "horizontal",
      "style": "IPY_MODEL_e294d26f42064ed5bd47a099b951e698",
      "value": 435779157
     }
    },
    "868a4e3c7c8a4d3f8d3c6c5b3967b57d": {
     "model_module": "@jupyter-widgets/controls",
     "model_name": "FloatProgressModel",
     "state": {
      "_dom_classes": [],
      "_model_module": "@jupyter-widgets/controls",
      "_model_module_version": "1.5.0",
      "_model_name": "FloatProgressModel",
      "_view_count": null,
      "_view_module": "@jupyter-widgets/controls",
      "_view_module_version": "1.5.0",
      "_view_name": "ProgressView",
      "bar_style": "success",
      "description": "Downloading: 100%",
      "description_tooltip": null,
      "layout": "IPY_MODEL_0d0b398ea2e64bf9b56004a71458282a",
      "max": 440473133,
      "min": 0,
      "orientation": "horizontal",
      "style": "IPY_MODEL_e508b7d0401246a3952d1b90a99008e2",
      "value": 440473133
     }
    },
    "8ae8849fe38c4bd9b44413408477a5a1": {
     "model_module": "@jupyter-widgets/base",
     "model_name": "LayoutModel",
     "state": {
      "_model_module": "@jupyter-widgets/base",
      "_model_module_version": "1.2.0",
      "_model_name": "LayoutModel",
      "_view_count": null,
      "_view_module": "@jupyter-widgets/base",
      "_view_module_version": "1.2.0",
      "_view_name": "LayoutView",
      "align_content": null,
      "align_items": null,
      "align_self": null,
      "border": null,
      "bottom": null,
      "display": null,
      "flex": null,
      "flex_flow": null,
      "grid_area": null,
      "grid_auto_columns": null,
      "grid_auto_flow": null,
      "grid_auto_rows": null,
      "grid_column": null,
      "grid_gap": null,
      "grid_row": null,
      "grid_template_areas": null,
      "grid_template_columns": null,
      "grid_template_rows": null,
      "height": null,
      "justify_content": null,
      "justify_items": null,
      "left": null,
      "margin": null,
      "max_height": null,
      "max_width": null,
      "min_height": null,
      "min_width": null,
      "object_fit": null,
      "object_position": null,
      "order": null,
      "overflow": null,
      "overflow_x": null,
      "overflow_y": null,
      "padding": null,
      "right": null,
      "top": null,
      "visibility": null,
      "width": null
     }
    },
    "8c788023a3214bd09424dcc3830c99cd": {
     "model_module": "@jupyter-widgets/controls",
     "model_name": "DescriptionStyleModel",
     "state": {
      "_model_module": "@jupyter-widgets/controls",
      "_model_module_version": "1.5.0",
      "_model_name": "DescriptionStyleModel",
      "_view_count": null,
      "_view_module": "@jupyter-widgets/base",
      "_view_module_version": "1.2.0",
      "_view_name": "StyleView",
      "description_width": ""
     }
    },
    "960ed215d67b42bfb6d19b697c3477b6": {
     "model_module": "@jupyter-widgets/controls",
     "model_name": "DescriptionStyleModel",
     "state": {
      "_model_module": "@jupyter-widgets/controls",
      "_model_module_version": "1.5.0",
      "_model_name": "DescriptionStyleModel",
      "_view_count": null,
      "_view_module": "@jupyter-widgets/base",
      "_view_module_version": "1.2.0",
      "_view_name": "StyleView",
      "description_width": ""
     }
    },
    "96b322649bc14f70ac15c462a3daab18": {
     "model_module": "@jupyter-widgets/base",
     "model_name": "LayoutModel",
     "state": {
      "_model_module": "@jupyter-widgets/base",
      "_model_module_version": "1.2.0",
      "_model_name": "LayoutModel",
      "_view_count": null,
      "_view_module": "@jupyter-widgets/base",
      "_view_module_version": "1.2.0",
      "_view_name": "LayoutView",
      "align_content": null,
      "align_items": null,
      "align_self": null,
      "border": null,
      "bottom": null,
      "display": null,
      "flex": null,
      "flex_flow": null,
      "grid_area": null,
      "grid_auto_columns": null,
      "grid_auto_flow": null,
      "grid_auto_rows": null,
      "grid_column": null,
      "grid_gap": null,
      "grid_row": null,
      "grid_template_areas": null,
      "grid_template_columns": null,
      "grid_template_rows": null,
      "height": null,
      "justify_content": null,
      "justify_items": null,
      "left": null,
      "margin": null,
      "max_height": null,
      "max_width": null,
      "min_height": null,
      "min_width": null,
      "object_fit": null,
      "object_position": null,
      "order": null,
      "overflow": null,
      "overflow_x": null,
      "overflow_y": null,
      "padding": null,
      "right": null,
      "top": null,
      "visibility": null,
      "width": null
     }
    },
    "970f72022f764e24a419d679b023cda2": {
     "model_module": "@jupyter-widgets/base",
     "model_name": "LayoutModel",
     "state": {
      "_model_module": "@jupyter-widgets/base",
      "_model_module_version": "1.2.0",
      "_model_name": "LayoutModel",
      "_view_count": null,
      "_view_module": "@jupyter-widgets/base",
      "_view_module_version": "1.2.0",
      "_view_name": "LayoutView",
      "align_content": null,
      "align_items": null,
      "align_self": null,
      "border": null,
      "bottom": null,
      "display": null,
      "flex": null,
      "flex_flow": null,
      "grid_area": null,
      "grid_auto_columns": null,
      "grid_auto_flow": null,
      "grid_auto_rows": null,
      "grid_column": null,
      "grid_gap": null,
      "grid_row": null,
      "grid_template_areas": null,
      "grid_template_columns": null,
      "grid_template_rows": null,
      "height": null,
      "justify_content": null,
      "justify_items": null,
      "left": null,
      "margin": null,
      "max_height": null,
      "max_width": null,
      "min_height": null,
      "min_width": null,
      "object_fit": null,
      "object_position": null,
      "order": null,
      "overflow": null,
      "overflow_x": null,
      "overflow_y": null,
      "padding": null,
      "right": null,
      "top": null,
      "visibility": null,
      "width": null
     }
    },
    "97c517a9ea234f0986fd384279b440f1": {
     "model_module": "@jupyter-widgets/base",
     "model_name": "LayoutModel",
     "state": {
      "_model_module": "@jupyter-widgets/base",
      "_model_module_version": "1.2.0",
      "_model_name": "LayoutModel",
      "_view_count": null,
      "_view_module": "@jupyter-widgets/base",
      "_view_module_version": "1.2.0",
      "_view_name": "LayoutView",
      "align_content": null,
      "align_items": null,
      "align_self": null,
      "border": null,
      "bottom": null,
      "display": null,
      "flex": null,
      "flex_flow": null,
      "grid_area": null,
      "grid_auto_columns": null,
      "grid_auto_flow": null,
      "grid_auto_rows": null,
      "grid_column": null,
      "grid_gap": null,
      "grid_row": null,
      "grid_template_areas": null,
      "grid_template_columns": null,
      "grid_template_rows": null,
      "height": null,
      "justify_content": null,
      "justify_items": null,
      "left": null,
      "margin": null,
      "max_height": null,
      "max_width": null,
      "min_height": null,
      "min_width": null,
      "object_fit": null,
      "object_position": null,
      "order": null,
      "overflow": null,
      "overflow_x": null,
      "overflow_y": null,
      "padding": null,
      "right": null,
      "top": null,
      "visibility": null,
      "width": null
     }
    },
    "9a1762355dd34f199a85032852acea9c": {
     "model_module": "@jupyter-widgets/controls",
     "model_name": "HBoxModel",
     "state": {
      "_dom_classes": [],
      "_model_module": "@jupyter-widgets/controls",
      "_model_module_version": "1.5.0",
      "_model_name": "HBoxModel",
      "_view_count": null,
      "_view_module": "@jupyter-widgets/controls",
      "_view_module_version": "1.5.0",
      "_view_name": "HBoxView",
      "box_style": "",
      "children": [
       "IPY_MODEL_f7b0aecfbf434578b8c2f11ddac53b43",
       "IPY_MODEL_0e2e716376124372b8c062404e448c03"
      ],
      "layout": "IPY_MODEL_6d7ab9d23d7440938b6c09fdcc981eff"
     }
    },
    "9c407c0fbd3346378391f19804bc7848": {
     "model_module": "@jupyter-widgets/controls",
     "model_name": "ProgressStyleModel",
     "state": {
      "_model_module": "@jupyter-widgets/controls",
      "_model_module_version": "1.5.0",
      "_model_name": "ProgressStyleModel",
      "_view_count": null,
      "_view_module": "@jupyter-widgets/base",
      "_view_module_version": "1.2.0",
      "_view_name": "StyleView",
      "bar_color": null,
      "description_width": "initial"
     }
    },
    "a0d089e17b78426a91afe8472224a8c4": {
     "model_module": "@jupyter-widgets/base",
     "model_name": "LayoutModel",
     "state": {
      "_model_module": "@jupyter-widgets/base",
      "_model_module_version": "1.2.0",
      "_model_name": "LayoutModel",
      "_view_count": null,
      "_view_module": "@jupyter-widgets/base",
      "_view_module_version": "1.2.0",
      "_view_name": "LayoutView",
      "align_content": null,
      "align_items": null,
      "align_self": null,
      "border": null,
      "bottom": null,
      "display": null,
      "flex": null,
      "flex_flow": null,
      "grid_area": null,
      "grid_auto_columns": null,
      "grid_auto_flow": null,
      "grid_auto_rows": null,
      "grid_column": null,
      "grid_gap": null,
      "grid_row": null,
      "grid_template_areas": null,
      "grid_template_columns": null,
      "grid_template_rows": null,
      "height": null,
      "justify_content": null,
      "justify_items": null,
      "left": null,
      "margin": null,
      "max_height": null,
      "max_width": null,
      "min_height": null,
      "min_width": null,
      "object_fit": null,
      "object_position": null,
      "order": null,
      "overflow": null,
      "overflow_x": null,
      "overflow_y": null,
      "padding": null,
      "right": null,
      "top": null,
      "visibility": null,
      "width": null
     }
    },
    "a3900d2790d74c98a77bd1ef8c509ce3": {
     "model_module": "@jupyter-widgets/controls",
     "model_name": "HTMLModel",
     "state": {
      "_dom_classes": [],
      "_model_module": "@jupyter-widgets/controls",
      "_model_module_version": "1.5.0",
      "_model_name": "HTMLModel",
      "_view_count": null,
      "_view_module": "@jupyter-widgets/controls",
      "_view_module_version": "1.5.0",
      "_view_name": "HTMLView",
      "description": "",
      "description_tooltip": null,
      "layout": "IPY_MODEL_6abec6d369f748d69104253e3c5e52ae",
      "placeholder": "​",
      "style": "IPY_MODEL_62a830b3b0674a3bbd196a1f57d47567",
      "value": " 232k/232k [00:02&lt;00:00, 102kB/s]"
     }
    },
    "ab2a86f8fd254ed5b4cd6b115d314d2b": {
     "model_module": "@jupyter-widgets/controls",
     "model_name": "FloatProgressModel",
     "state": {
      "_dom_classes": [],
      "_model_module": "@jupyter-widgets/controls",
      "_model_module_version": "1.5.0",
      "_model_name": "FloatProgressModel",
      "_view_count": null,
      "_view_module": "@jupyter-widgets/controls",
      "_view_module_version": "1.5.0",
      "_view_name": "ProgressView",
      "bar_style": "",
      "description": "100%",
      "description_tooltip": null,
      "layout": "IPY_MODEL_ad95c4653918452499002997158c4847",
      "max": 1240,
      "min": 0,
      "orientation": "horizontal",
      "style": "IPY_MODEL_286e4db25b8543efb1fe12c7b197cad4",
      "value": 1240
     }
    },
    "ad95c4653918452499002997158c4847": {
     "model_module": "@jupyter-widgets/base",
     "model_name": "LayoutModel",
     "state": {
      "_model_module": "@jupyter-widgets/base",
      "_model_module_version": "1.2.0",
      "_model_name": "LayoutModel",
      "_view_count": null,
      "_view_module": "@jupyter-widgets/base",
      "_view_module_version": "1.2.0",
      "_view_name": "LayoutView",
      "align_content": null,
      "align_items": null,
      "align_self": null,
      "border": null,
      "bottom": null,
      "display": null,
      "flex": null,
      "flex_flow": null,
      "grid_area": null,
      "grid_auto_columns": null,
      "grid_auto_flow": null,
      "grid_auto_rows": null,
      "grid_column": null,
      "grid_gap": null,
      "grid_row": null,
      "grid_template_areas": null,
      "grid_template_columns": null,
      "grid_template_rows": null,
      "height": null,
      "justify_content": null,
      "justify_items": null,
      "left": null,
      "margin": null,
      "max_height": null,
      "max_width": null,
      "min_height": null,
      "min_width": null,
      "object_fit": null,
      "object_position": null,
      "order": null,
      "overflow": null,
      "overflow_x": null,
      "overflow_y": null,
      "padding": null,
      "right": null,
      "top": null,
      "visibility": null,
      "width": null
     }
    },
    "b258c4a727644994acf7d92e3ea7dae7": {
     "model_module": "@jupyter-widgets/controls",
     "model_name": "HBoxModel",
     "state": {
      "_dom_classes": [],
      "_model_module": "@jupyter-widgets/controls",
      "_model_module_version": "1.5.0",
      "_model_name": "HBoxModel",
      "_view_count": null,
      "_view_module": "@jupyter-widgets/controls",
      "_view_module_version": "1.5.0",
      "_view_name": "HBoxView",
      "box_style": "",
      "children": [
       "IPY_MODEL_edfc664d1fa3473c94b7f7c649b108a7",
       "IPY_MODEL_22fea9a878694fbb86900c3d1ba7dacc"
      ],
      "layout": "IPY_MODEL_5a0fcd64e4fd4ef6bed1bc6ae2a333a7"
     }
    },
    "b5af2120b24d46ed9f0c9766e23ca0d5": {
     "model_module": "@jupyter-widgets/controls",
     "model_name": "HBoxModel",
     "state": {
      "_dom_classes": [],
      "_model_module": "@jupyter-widgets/controls",
      "_model_module_version": "1.5.0",
      "_model_name": "HBoxModel",
      "_view_count": null,
      "_view_module": "@jupyter-widgets/controls",
      "_view_module_version": "1.5.0",
      "_view_name": "HBoxView",
      "box_style": "",
      "children": [
       "IPY_MODEL_10e9f0b2bc3c4b23b84c84913620ea4f",
       "IPY_MODEL_38bde11a22054f6a81ba165ef1e1ec09"
      ],
      "layout": "IPY_MODEL_dbd030694ebf40f781768e3a6c854abb"
     }
    },
    "bc98c748455e4ebe90befe2f6c300f1a": {
     "model_module": "@jupyter-widgets/base",
     "model_name": "LayoutModel",
     "state": {
      "_model_module": "@jupyter-widgets/base",
      "_model_module_version": "1.2.0",
      "_model_name": "LayoutModel",
      "_view_count": null,
      "_view_module": "@jupyter-widgets/base",
      "_view_module_version": "1.2.0",
      "_view_name": "LayoutView",
      "align_content": null,
      "align_items": null,
      "align_self": null,
      "border": null,
      "bottom": null,
      "display": null,
      "flex": null,
      "flex_flow": null,
      "grid_area": null,
      "grid_auto_columns": null,
      "grid_auto_flow": null,
      "grid_auto_rows": null,
      "grid_column": null,
      "grid_gap": null,
      "grid_row": null,
      "grid_template_areas": null,
      "grid_template_columns": null,
      "grid_template_rows": null,
      "height": null,
      "justify_content": null,
      "justify_items": null,
      "left": null,
      "margin": null,
      "max_height": null,
      "max_width": null,
      "min_height": null,
      "min_width": null,
      "object_fit": null,
      "object_position": null,
      "order": null,
      "overflow": null,
      "overflow_x": null,
      "overflow_y": null,
      "padding": null,
      "right": null,
      "top": null,
      "visibility": null,
      "width": null
     }
    },
    "c3ff258dbd3a428d804e526b48682b0a": {
     "model_module": "@jupyter-widgets/controls",
     "model_name": "HTMLModel",
     "state": {
      "_dom_classes": [],
      "_model_module": "@jupyter-widgets/controls",
      "_model_module_version": "1.5.0",
      "_model_name": "HTMLModel",
      "_view_count": null,
      "_view_module": "@jupyter-widgets/controls",
      "_view_module_version": "1.5.0",
      "_view_name": "HTMLView",
      "description": "",
      "description_tooltip": null,
      "layout": "IPY_MODEL_97c517a9ea234f0986fd384279b440f1",
      "placeholder": "​",
      "style": "IPY_MODEL_6f634054c3a244a7aaff23e556f2020d",
      "value": " 440M/440M [00:25&lt;00:00, 17.3MB/s]"
     }
    },
    "cbda536bf6594c5395c92a2dada55211": {
     "model_module": "@jupyter-widgets/controls",
     "model_name": "FloatProgressModel",
     "state": {
      "_dom_classes": [],
      "_model_module": "@jupyter-widgets/controls",
      "_model_module_version": "1.5.0",
      "_model_name": "FloatProgressModel",
      "_view_count": null,
      "_view_module": "@jupyter-widgets/controls",
      "_view_module_version": "1.5.0",
      "_view_name": "ProgressView",
      "bar_style": "",
      "description": " 70%",
      "description_tooltip": null,
      "layout": "IPY_MODEL_970f72022f764e24a419d679b023cda2",
      "max": 310,
      "min": 0,
      "orientation": "horizontal",
      "style": "IPY_MODEL_3f7a0b9b99704252b1875ec7a1d0f37a",
      "value": 216
     }
    },
    "cec5e2dbe60447c48ed2f54b5f8ae6f9": {
     "model_module": "@jupyter-widgets/controls",
     "model_name": "ProgressStyleModel",
     "state": {
      "_model_module": "@jupyter-widgets/controls",
      "_model_module_version": "1.5.0",
      "_model_name": "ProgressStyleModel",
      "_view_count": null,
      "_view_module": "@jupyter-widgets/base",
      "_view_module_version": "1.2.0",
      "_view_name": "StyleView",
      "bar_color": null,
      "description_width": "initial"
     }
    },
    "d5a4f5680d934c6383c13b9b9870be2f": {
     "model_module": "@jupyter-widgets/base",
     "model_name": "LayoutModel",
     "state": {
      "_model_module": "@jupyter-widgets/base",
      "_model_module_version": "1.2.0",
      "_model_name": "LayoutModel",
      "_view_count": null,
      "_view_module": "@jupyter-widgets/base",
      "_view_module_version": "1.2.0",
      "_view_name": "LayoutView",
      "align_content": null,
      "align_items": null,
      "align_self": null,
      "border": null,
      "bottom": null,
      "display": null,
      "flex": null,
      "flex_flow": null,
      "grid_area": null,
      "grid_auto_columns": null,
      "grid_auto_flow": null,
      "grid_auto_rows": null,
      "grid_column": null,
      "grid_gap": null,
      "grid_row": null,
      "grid_template_areas": null,
      "grid_template_columns": null,
      "grid_template_rows": null,
      "height": null,
      "justify_content": null,
      "justify_items": null,
      "left": null,
      "margin": null,
      "max_height": null,
      "max_width": null,
      "min_height": null,
      "min_width": null,
      "object_fit": null,
      "object_position": null,
      "order": null,
      "overflow": null,
      "overflow_x": null,
      "overflow_y": null,
      "padding": null,
      "right": null,
      "top": null,
      "visibility": null,
      "width": null
     }
    },
    "d8f7115a69284379b8107e765a8dfe0a": {
     "model_module": "@jupyter-widgets/base",
     "model_name": "LayoutModel",
     "state": {
      "_model_module": "@jupyter-widgets/base",
      "_model_module_version": "1.2.0",
      "_model_name": "LayoutModel",
      "_view_count": null,
      "_view_module": "@jupyter-widgets/base",
      "_view_module_version": "1.2.0",
      "_view_name": "LayoutView",
      "align_content": null,
      "align_items": null,
      "align_self": null,
      "border": null,
      "bottom": null,
      "display": null,
      "flex": null,
      "flex_flow": null,
      "grid_area": null,
      "grid_auto_columns": null,
      "grid_auto_flow": null,
      "grid_auto_rows": null,
      "grid_column": null,
      "grid_gap": null,
      "grid_row": null,
      "grid_template_areas": null,
      "grid_template_columns": null,
      "grid_template_rows": null,
      "height": null,
      "justify_content": null,
      "justify_items": null,
      "left": null,
      "margin": null,
      "max_height": null,
      "max_width": null,
      "min_height": null,
      "min_width": null,
      "object_fit": null,
      "object_position": null,
      "order": null,
      "overflow": null,
      "overflow_x": null,
      "overflow_y": null,
      "padding": null,
      "right": null,
      "top": null,
      "visibility": null,
      "width": null
     }
    },
    "db60108b02b14944b42c11a0ad906098": {
     "model_module": "@jupyter-widgets/controls",
     "model_name": "HBoxModel",
     "state": {
      "_dom_classes": [],
      "_model_module": "@jupyter-widgets/controls",
      "_model_module_version": "1.5.0",
      "_model_name": "HBoxModel",
      "_view_count": null,
      "_view_module": "@jupyter-widgets/controls",
      "_view_module_version": "1.5.0",
      "_view_name": "HBoxView",
      "box_style": "",
      "children": [
       "IPY_MODEL_868a4e3c7c8a4d3f8d3c6c5b3967b57d",
       "IPY_MODEL_c3ff258dbd3a428d804e526b48682b0a"
      ],
      "layout": "IPY_MODEL_5e76175e36f0407986f8b141f128deca"
     }
    },
    "dbd030694ebf40f781768e3a6c854abb": {
     "model_module": "@jupyter-widgets/base",
     "model_name": "LayoutModel",
     "state": {
      "_model_module": "@jupyter-widgets/base",
      "_model_module_version": "1.2.0",
      "_model_name": "LayoutModel",
      "_view_count": null,
      "_view_module": "@jupyter-widgets/base",
      "_view_module_version": "1.2.0",
      "_view_name": "LayoutView",
      "align_content": null,
      "align_items": null,
      "align_self": null,
      "border": null,
      "bottom": null,
      "display": null,
      "flex": null,
      "flex_flow": null,
      "grid_area": null,
      "grid_auto_columns": null,
      "grid_auto_flow": null,
      "grid_auto_rows": null,
      "grid_column": null,
      "grid_gap": null,
      "grid_row": null,
      "grid_template_areas": null,
      "grid_template_columns": null,
      "grid_template_rows": null,
      "height": null,
      "justify_content": null,
      "justify_items": null,
      "left": null,
      "margin": null,
      "max_height": null,
      "max_width": null,
      "min_height": null,
      "min_width": null,
      "object_fit": null,
      "object_position": null,
      "order": null,
      "overflow": null,
      "overflow_x": null,
      "overflow_y": null,
      "padding": null,
      "right": null,
      "top": null,
      "visibility": null,
      "width": null
     }
    },
    "e06d29df8e1d44cca32531c3ec6f5730": {
     "model_module": "@jupyter-widgets/controls",
     "model_name": "HTMLModel",
     "state": {
      "_dom_classes": [],
      "_model_module": "@jupyter-widgets/controls",
      "_model_module_version": "1.5.0",
      "_model_name": "HTMLModel",
      "_view_count": null,
      "_view_module": "@jupyter-widgets/controls",
      "_view_module_version": "1.5.0",
      "_view_name": "HTMLView",
      "description": "",
      "description_tooltip": null,
      "layout": "IPY_MODEL_bc98c748455e4ebe90befe2f6c300f1a",
      "placeholder": "​",
      "style": "IPY_MODEL_960ed215d67b42bfb6d19b697c3477b6",
      "value": " 28.0/28.0 [00:00&lt;00:00, 33.4B/s]"
     }
    },
    "e294d26f42064ed5bd47a099b951e698": {
     "model_module": "@jupyter-widgets/controls",
     "model_name": "ProgressStyleModel",
     "state": {
      "_model_module": "@jupyter-widgets/controls",
      "_model_module_version": "1.5.0",
      "_model_name": "ProgressStyleModel",
      "_view_count": null,
      "_view_module": "@jupyter-widgets/base",
      "_view_module_version": "1.2.0",
      "_view_name": "StyleView",
      "bar_color": null,
      "description_width": "initial"
     }
    },
    "e2c39dede5544e29962abab5c27b0e6c": {
     "model_module": "@jupyter-widgets/base",
     "model_name": "LayoutModel",
     "state": {
      "_model_module": "@jupyter-widgets/base",
      "_model_module_version": "1.2.0",
      "_model_name": "LayoutModel",
      "_view_count": null,
      "_view_module": "@jupyter-widgets/base",
      "_view_module_version": "1.2.0",
      "_view_name": "LayoutView",
      "align_content": null,
      "align_items": null,
      "align_self": null,
      "border": null,
      "bottom": null,
      "display": null,
      "flex": null,
      "flex_flow": null,
      "grid_area": null,
      "grid_auto_columns": null,
      "grid_auto_flow": null,
      "grid_auto_rows": null,
      "grid_column": null,
      "grid_gap": null,
      "grid_row": null,
      "grid_template_areas": null,
      "grid_template_columns": null,
      "grid_template_rows": null,
      "height": null,
      "justify_content": null,
      "justify_items": null,
      "left": null,
      "margin": null,
      "max_height": null,
      "max_width": null,
      "min_height": null,
      "min_width": null,
      "object_fit": null,
      "object_position": null,
      "order": null,
      "overflow": null,
      "overflow_x": null,
      "overflow_y": null,
      "padding": null,
      "right": null,
      "top": null,
      "visibility": null,
      "width": null
     }
    },
    "e4dc39082e154c74a8da7af4bfc65583": {
     "model_module": "@jupyter-widgets/base",
     "model_name": "LayoutModel",
     "state": {
      "_model_module": "@jupyter-widgets/base",
      "_model_module_version": "1.2.0",
      "_model_name": "LayoutModel",
      "_view_count": null,
      "_view_module": "@jupyter-widgets/base",
      "_view_module_version": "1.2.0",
      "_view_name": "LayoutView",
      "align_content": null,
      "align_items": null,
      "align_self": null,
      "border": null,
      "bottom": null,
      "display": null,
      "flex": null,
      "flex_flow": null,
      "grid_area": null,
      "grid_auto_columns": null,
      "grid_auto_flow": null,
      "grid_auto_rows": null,
      "grid_column": null,
      "grid_gap": null,
      "grid_row": null,
      "grid_template_areas": null,
      "grid_template_columns": null,
      "grid_template_rows": null,
      "height": null,
      "justify_content": null,
      "justify_items": null,
      "left": null,
      "margin": null,
      "max_height": null,
      "max_width": null,
      "min_height": null,
      "min_width": null,
      "object_fit": null,
      "object_position": null,
      "order": null,
      "overflow": null,
      "overflow_x": null,
      "overflow_y": null,
      "padding": null,
      "right": null,
      "top": null,
      "visibility": null,
      "width": null
     }
    },
    "e508b7d0401246a3952d1b90a99008e2": {
     "model_module": "@jupyter-widgets/controls",
     "model_name": "ProgressStyleModel",
     "state": {
      "_model_module": "@jupyter-widgets/controls",
      "_model_module_version": "1.5.0",
      "_model_name": "ProgressStyleModel",
      "_view_count": null,
      "_view_module": "@jupyter-widgets/base",
      "_view_module_version": "1.2.0",
      "_view_name": "StyleView",
      "bar_color": null,
      "description_width": "initial"
     }
    },
    "ea52cb14ec2a451eb5c26b8de39b096b": {
     "model_module": "@jupyter-widgets/controls",
     "model_name": "HBoxModel",
     "state": {
      "_dom_classes": [],
      "_model_module": "@jupyter-widgets/controls",
      "_model_module_version": "1.5.0",
      "_model_name": "HBoxModel",
      "_view_count": null,
      "_view_module": "@jupyter-widgets/controls",
      "_view_module_version": "1.5.0",
      "_view_name": "HBoxView",
      "box_style": "",
      "children": [
       "IPY_MODEL_f84d641e492b49c0a1a0ffec709a8196",
       "IPY_MODEL_15b5be3cecca4f1d8db1145d5f66fe62"
      ],
      "layout": "IPY_MODEL_3cdc09e992384dca912ff6437cbd36cc"
     }
    },
    "eae362fd0f7b4ccfa1438876bb9c5af5": {
     "model_module": "@jupyter-widgets/base",
     "model_name": "LayoutModel",
     "state": {
      "_model_module": "@jupyter-widgets/base",
      "_model_module_version": "1.2.0",
      "_model_name": "LayoutModel",
      "_view_count": null,
      "_view_module": "@jupyter-widgets/base",
      "_view_module_version": "1.2.0",
      "_view_name": "LayoutView",
      "align_content": null,
      "align_items": null,
      "align_self": null,
      "border": null,
      "bottom": null,
      "display": null,
      "flex": null,
      "flex_flow": null,
      "grid_area": null,
      "grid_auto_columns": null,
      "grid_auto_flow": null,
      "grid_auto_rows": null,
      "grid_column": null,
      "grid_gap": null,
      "grid_row": null,
      "grid_template_areas": null,
      "grid_template_columns": null,
      "grid_template_rows": null,
      "height": null,
      "justify_content": null,
      "justify_items": null,
      "left": null,
      "margin": null,
      "max_height": null,
      "max_width": null,
      "min_height": null,
      "min_width": null,
      "object_fit": null,
      "object_position": null,
      "order": null,
      "overflow": null,
      "overflow_x": null,
      "overflow_y": null,
      "padding": null,
      "right": null,
      "top": null,
      "visibility": null,
      "width": null
     }
    },
    "ece170e0bc2d415fb3dcb070ad36a01b": {
     "model_module": "@jupyter-widgets/base",
     "model_name": "LayoutModel",
     "state": {
      "_model_module": "@jupyter-widgets/base",
      "_model_module_version": "1.2.0",
      "_model_name": "LayoutModel",
      "_view_count": null,
      "_view_module": "@jupyter-widgets/base",
      "_view_module_version": "1.2.0",
      "_view_name": "LayoutView",
      "align_content": null,
      "align_items": null,
      "align_self": null,
      "border": null,
      "bottom": null,
      "display": null,
      "flex": null,
      "flex_flow": null,
      "grid_area": null,
      "grid_auto_columns": null,
      "grid_auto_flow": null,
      "grid_auto_rows": null,
      "grid_column": null,
      "grid_gap": null,
      "grid_row": null,
      "grid_template_areas": null,
      "grid_template_columns": null,
      "grid_template_rows": null,
      "height": null,
      "justify_content": null,
      "justify_items": null,
      "left": null,
      "margin": null,
      "max_height": null,
      "max_width": null,
      "min_height": null,
      "min_width": null,
      "object_fit": null,
      "object_position": null,
      "order": null,
      "overflow": null,
      "overflow_x": null,
      "overflow_y": null,
      "padding": null,
      "right": null,
      "top": null,
      "visibility": null,
      "width": null
     }
    },
    "edfc664d1fa3473c94b7f7c649b108a7": {
     "model_module": "@jupyter-widgets/controls",
     "model_name": "FloatProgressModel",
     "state": {
      "_dom_classes": [],
      "_model_module": "@jupyter-widgets/controls",
      "_model_module_version": "1.5.0",
      "_model_name": "FloatProgressModel",
      "_view_count": null,
      "_view_module": "@jupyter-widgets/controls",
      "_view_module_version": "1.5.0",
      "_view_name": "ProgressView",
      "bar_style": "success",
      "description": "Downloading: 100%",
      "description_tooltip": null,
      "layout": "IPY_MODEL_a0d089e17b78426a91afe8472224a8c4",
      "max": 466062,
      "min": 0,
      "orientation": "horizontal",
      "style": "IPY_MODEL_733d6bda92424d209f9fae146e4e42db",
      "value": 466062
     }
    },
    "f3ff2d5e819744b193bdcedf1256d4dc": {
     "model_module": "@jupyter-widgets/controls",
     "model_name": "ProgressStyleModel",
     "state": {
      "_model_module": "@jupyter-widgets/controls",
      "_model_module_version": "1.5.0",
      "_model_name": "ProgressStyleModel",
      "_view_count": null,
      "_view_module": "@jupyter-widgets/base",
      "_view_module_version": "1.2.0",
      "_view_name": "StyleView",
      "bar_color": null,
      "description_width": "initial"
     }
    },
    "f4bb05e48df042f5b5447db68c829ffb": {
     "model_module": "@jupyter-widgets/controls",
     "model_name": "DescriptionStyleModel",
     "state": {
      "_model_module": "@jupyter-widgets/controls",
      "_model_module_version": "1.5.0",
      "_model_name": "DescriptionStyleModel",
      "_view_count": null,
      "_view_module": "@jupyter-widgets/base",
      "_view_module_version": "1.2.0",
      "_view_name": "StyleView",
      "description_width": ""
     }
    },
    "f7b0aecfbf434578b8c2f11ddac53b43": {
     "model_module": "@jupyter-widgets/controls",
     "model_name": "FloatProgressModel",
     "state": {
      "_dom_classes": [],
      "_model_module": "@jupyter-widgets/controls",
      "_model_module_version": "1.5.0",
      "_model_name": "FloatProgressModel",
      "_view_count": null,
      "_view_module": "@jupyter-widgets/controls",
      "_view_module_version": "1.5.0",
      "_view_name": "ProgressView",
      "bar_style": "success",
      "description": "Downloading: 100%",
      "description_tooltip": null,
      "layout": "IPY_MODEL_1fcf98e771164611a8835d0b93030e99",
      "max": 570,
      "min": 0,
      "orientation": "horizontal",
      "style": "IPY_MODEL_06f9d047a80245adacc8ed339fa32186",
      "value": 570
     }
    },
    "f84d641e492b49c0a1a0ffec709a8196": {
     "model_module": "@jupyter-widgets/controls",
     "model_name": "FloatProgressModel",
     "state": {
      "_dom_classes": [],
      "_model_module": "@jupyter-widgets/controls",
      "_model_module_version": "1.5.0",
      "_model_name": "FloatProgressModel",
      "_view_count": null,
      "_view_module": "@jupyter-widgets/controls",
      "_view_module_version": "1.5.0",
      "_view_name": "ProgressView",
      "bar_style": "success",
      "description": "Downloading: 100%",
      "description_tooltip": null,
      "layout": "IPY_MODEL_d8f7115a69284379b8107e765a8dfe0a",
      "max": 570,
      "min": 0,
      "orientation": "horizontal",
      "style": "IPY_MODEL_f3ff2d5e819744b193bdcedf1256d4dc",
      "value": 570
     }
    },
    "f983d88215f44e7cb4daa731e6fdd0d1": {
     "model_module": "@jupyter-widgets/controls",
     "model_name": "FloatProgressModel",
     "state": {
      "_dom_classes": [],
      "_model_module": "@jupyter-widgets/controls",
      "_model_module_version": "1.5.0",
      "_model_name": "FloatProgressModel",
      "_view_count": null,
      "_view_module": "@jupyter-widgets/controls",
      "_view_module_version": "1.5.0",
      "_view_name": "ProgressView",
      "bar_style": "success",
      "description": "Downloading: 100%",
      "description_tooltip": null,
      "layout": "IPY_MODEL_3ea5c7479d91415bbb137d3380c9deb1",
      "max": 231508,
      "min": 0,
      "orientation": "horizontal",
      "style": "IPY_MODEL_0d30bff80a084f909532c1de4465efa6",
      "value": 231508
     }
    },
    "fa57fae9dd39494f821b20325ca6a6df": {
     "model_module": "@jupyter-widgets/controls",
     "model_name": "HBoxModel",
     "state": {
      "_dom_classes": [],
      "_model_module": "@jupyter-widgets/controls",
      "_model_module_version": "1.5.0",
      "_model_name": "HBoxModel",
      "_view_count": null,
      "_view_module": "@jupyter-widgets/controls",
      "_view_module_version": "1.5.0",
      "_view_name": "HBoxView",
      "box_style": "",
      "children": [
       "IPY_MODEL_cbda536bf6594c5395c92a2dada55211",
       "IPY_MODEL_4c46d8acaeea44c8a885ff6ebca7447b"
      ],
      "layout": "IPY_MODEL_4690db210458439ca95c47d2180b3efd"
     }
    },
    "fa738a716ff64be3850e4ce83579b8ff": {
     "model_module": "@jupyter-widgets/controls",
     "model_name": "HTMLModel",
     "state": {
      "_dom_classes": [],
      "_model_module": "@jupyter-widgets/controls",
      "_model_module_version": "1.5.0",
      "_model_name": "HTMLModel",
      "_view_count": null,
      "_view_module": "@jupyter-widgets/controls",
      "_view_module_version": "1.5.0",
      "_view_name": "HTMLView",
      "description": "",
      "description_tooltip": null,
      "layout": "IPY_MODEL_008720ea9d4949858b82d98ecf635018",
      "placeholder": "​",
      "style": "IPY_MODEL_2154f91261ea4ceba1c803e21e2854bb",
      "value": " 1240/1240 [32:07&lt;00:00,  1.32s/it]"
     }
    }
   }
  }
 },
 "nbformat": 4,
 "nbformat_minor": 1
}
